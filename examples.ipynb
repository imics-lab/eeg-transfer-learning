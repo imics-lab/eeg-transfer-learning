{
 "cells": [
  {
   "cell_type": "markdown",
   "metadata": {},
   "source": [
    "### Here are some example codes on how to conduct experiments describe in the paper"
   ]
  },
  {
   "cell_type": "markdown",
   "metadata": {},
   "source": [
    "### Example 1: load pre-trained feature extractor, transfer to a small set of TUH Normal/Abnormal dataset. "
   ]
  },
  {
   "cell_type": "code",
   "execution_count": null,
   "metadata": {},
   "outputs": [],
   "source": [
    "# This example shows how to load the pre-trained feature extractor parameters and how to pick certain numbers of layers to transfer\n",
    "# The transfer learning results are compared with the resutls training the classifier from scratch \n",
    "# The small set of TUH Normal/Abnormal dataset has 30 normal recordings and 30 abnormal recordings \n",
    "# The total number of data samples is 11226\n",
    "# We use cross validation KFOLD=5 to split the training set and testing set in each fold"
   ]
  },
  {
   "cell_type": "code",
   "execution_count": 10,
   "metadata": {},
   "outputs": [],
   "source": [
    "#import necessary libraries\n",
    "import torch\n",
    "from torch import optim\n",
    "from torch.utils import data\n",
    "from torch import nn\n",
    "import numpy as np\n",
    "from tqdm import tqdm\n",
    "from sklearn.model_selection import KFold\n",
    "\n",
    "from downstream.TUH_edf import TUH_Normal_Abnormal\n",
    "from models import Supervised_TUH"
   ]
  },
  {
   "cell_type": "code",
   "execution_count": 4,
   "metadata": {},
   "outputs": [],
   "source": [
    "device = torch.device(\"cuda\" if torch.cuda.is_available() else \"cpu\")"
   ]
  },
  {
   "cell_type": "code",
   "execution_count": 52,
   "metadata": {},
   "outputs": [
    {
     "data": {
      "text/plain": [
       "<torch._C.Generator at 0x7f374012e6f0>"
      ]
     },
     "execution_count": 52,
     "metadata": {},
     "output_type": "execute_result"
    }
   ],
   "source": [
    "torch.manual_seed(0)"
   ]
  },
  {
   "cell_type": "code",
   "execution_count": 53,
   "metadata": {},
   "outputs": [],
   "source": [
    "# define some training settings\n",
    "batch_size = 32\n",
    "num_workers = 16\n",
    "epochs = 20\n",
    "seed = 42 \n",
    "learning_rate = 5e-5\n",
    "model_path = './saved_models/tuh_all_ckp.pt'\n",
    "normal_filename_path = './downstream/tuh_normal.txt'\n",
    "abnormal_filename_path = './downstream/tuh_abnormal.txt'\n",
    "layers_to_transfer = 3\n",
    "folds = 5"
   ]
  },
  {
   "cell_type": "code",
   "execution_count": 54,
   "metadata": {},
   "outputs": [],
   "source": [
    "def train_test_loop(train_loader, test_loader, model, n_epochs, lr):\n",
    "    optimizer = optim.Adam(model.parameters(), lr=lr)\n",
    "    criterion = nn.BCELoss()\n",
    "    scheduler = torch.optim.lr_scheduler.StepLR(optimizer, step_size=10, gamma=0.95)\n",
    "\n",
    "    #Run the training loop for defined number of epochs\n",
    "    train_losses = []\n",
    "    test_losses = []\n",
    "    train_acces = []\n",
    "    test_acces = []\n",
    "    for epoch in range(1, n_epochs+1):\n",
    "        train_loss, train_acc = _train_loss(model, train_loader, optimizer, criterion)\n",
    "        train_losses.append(train_loss)\n",
    "        train_acces.append(train_acc)\n",
    "        test_loss, test_acc = _eval_loss(model, test_loader, criterion)\n",
    "        test_losses.append(test_loss)\n",
    "        test_acces.append(test_acc)\n",
    "        print(f'Epoch {epoch}, Train loss {train_loss:.4f} , Train Accuracy {train_acc:.4f}, Test loss {test_loss:.4f}, Test Accuracy {test_acc:.4f}')\n",
    "        scheduler.step()\n",
    "\n",
    "    return train_losses, test_losses, train_acces, test_acces\n",
    "    \n",
    "    \n",
    "def _train_loss(model, train_loader, optimizer, criterion):\n",
    "    model.train()\n",
    "    total_loss = 0.0\n",
    "    correct, total = 0, 0\n",
    "    \n",
    "    for i, data in enumerate(tqdm(train_loader)):\n",
    "        x, y = data\n",
    "        x, y = x.to(device, dtype=torch.float), y.to(device, dtype=torch.float)\n",
    "        optimizer.zero_grad()\n",
    "        out = model(x)\n",
    "        \n",
    "        loss = criterion(out, y)\n",
    "        loss.backward()\n",
    "        optimizer.step()\n",
    "        total_loss += loss.item()\n",
    "   \n",
    "        predicted = out.data.to('cpu')\n",
    "        predicted = predicted.reshape(-1).detach().numpy().round()\n",
    "        target = y.to('cpu')\n",
    "        target = target.reshape(-1).detach().numpy()\n",
    "        total += len(target)\n",
    "        correct += sum(p == t for p, t in zip(predicted, target))\n",
    "    \n",
    "    epoch_train_loss = total_loss / len(train_loader)\n",
    "    train_acc = correct / total\n",
    "    \n",
    "    return epoch_train_loss, train_acc\n",
    "\n",
    "\n",
    "def _eval_loss(model, test_loader, criterion):\n",
    "    model.eval()\n",
    "    running_loss = 0.0\n",
    "    correct, total = 0, 0\n",
    "    \n",
    "    with torch.no_grad():\n",
    "        for i, data in enumerate(tqdm(test_loader)):\n",
    "            x, y = data           \n",
    "            x, y = x.to(device, dtype=torch.float), y.to(device, dtype=torch.float)\n",
    "            out = model(x)\n",
    "            \n",
    "            loss = criterion(out, y)\n",
    "            running_loss += loss.item()\n",
    "            \n",
    "            predicted = out.data.to('cpu') \n",
    "            predicted = predicted.reshape(-1).detach().numpy().round()\n",
    "            y = y.to('cpu')\n",
    "            y = y.reshape(-1).detach().numpy()\n",
    "            total += len(y)\n",
    "            correct += sum(p == t for p, t in zip(predicted, y))\n",
    "            \n",
    "        epoch_test_loss = running_loss / len(test_loader)\n",
    "        test_acc = correct / total\n",
    "        \n",
    "\n",
    "    return epoch_test_loss, test_acc"
   ]
  },
  {
   "cell_type": "code",
   "execution_count": 55,
   "metadata": {},
   "outputs": [],
   "source": [
    "import matplotlib.pyplot as plt\n",
    "def _plot_losses(train_losses, test_losses, title='train and test losses'):\n",
    "    plt.plot(train_losses, label='train_loss')\n",
    "    plt.plot(test_losses, label='test_loss')\n",
    "    plt.title(title)\n",
    "    plt.legend()\n",
    "    plt.show()\n",
    "\n",
    "def _plot_acces(train_acces, test_acces, title='train and test acces'):\n",
    "    plt.plot(train_acces, label='train_acc')\n",
    "    plt.plot(test_acces, label='test_acc')\n",
    "    plt.title(title)\n",
    "    plt.legend()\n",
    "    plt.show()"
   ]
  },
  {
   "cell_type": "code",
   "execution_count": 62,
   "metadata": {},
   "outputs": [],
   "source": [
    "def transfer_learning():\n",
    "    \n",
    "    #Load Dataset\n",
    "    dataset = TUH_Normal_Abnormal(normal_filename=normal_filename_path, abnormal_filename =abnormal_filename_path)\n",
    "    \n",
    "    \n",
    "    kfold = KFold(n_splits=folds, shuffle=True)\n",
    "    \n",
    "    results = {}\n",
    "    \n",
    "    for fold, (train_ids, test_ids) in enumerate(kfold.split(dataset)):\n",
    "        print(f'Fold = {fold + 1}')\n",
    "        train_subsampler = torch.utils.data.SubsetRandomSampler(train_ids)\n",
    "        test_subsampler = torch.utils.data.SubsetRandomSampler(test_ids)\n",
    "        \n",
    "        train_loader = torch.utils.data.DataLoader(dataset, batch_size = batch_size, sampler=train_subsampler)\n",
    "        test_loader = torch.utils.data.DataLoader(dataset, batch_size= batch_size, sampler=test_subsampler)\n",
    "        \n",
    "        #Initial model \n",
    "        model = Supervised_TUH()\n",
    "\n",
    "        #Load pre-trained parameters\n",
    "        pretrained_dict = torch.load(model_path) \n",
    "        pretrained_param_names = list(pretrained_dict.keys())\n",
    "        model_dict = model.state_dict()\n",
    "        model_param_names = list(model_dict.keys())\n",
    "\n",
    "        # Load the first three layers' parameters\n",
    "        # Note: One layer here corresponds to 4 layers in the model, they are  ... layers\n",
    "        for i, _ in enumerate(pretrained_param_names[:layers_to_transfer * 4]):\n",
    "            model_dict[model_param_names[i]] = pretrained_dict[pretrained_param_names[i]]\n",
    "        \n",
    "        model.load_state_dict(model_dict)\n",
    "            \n",
    "        model.to(device)\n",
    "    \n",
    "        train_losses, test_losses, train_acces, test_acces = train_test_loop(train_loader, test_loader, model, n_epochs=epochs, lr=learning_rate)\n",
    "        results[fold] = max(test_acces)\n",
    "        \n",
    "    for key, value in results.items():\n",
    "        print(f'Fold {key}: {value} %\\n')\n",
    "        sum += value\n",
    "    print(f'Average: {sum/len(results.items())} %\\n') \n",
    "    \n",
    "    _plot_losses(train_losses, test_losses)\n",
    "    _plot_acces(train_acces, test_acces)"
   ]
  },
  {
   "cell_type": "code",
   "execution_count": 63,
   "metadata": {},
   "outputs": [],
   "source": [
    "def train_from_sratch():\n",
    "    #Load Dataset\n",
    "    dataset = TUH_Normal_Abnormal(normal_filename=normal_filename_path, abnormal_filename =abnormal_filename_path)\n",
    "    \n",
    "    \n",
    "    kfold = KFold(n_splits=folds, shuffle=True)\n",
    "    \n",
    "    results = {}\n",
    "    \n",
    "    for fold, (train_ids, test_ids) in enumerate(kfold.split(dataset)):\n",
    "        print(f'Fold = {fold + 1}')\n",
    "        train_subsampler = torch.utils.data.SubsetRandomSampler(train_ids)\n",
    "        test_subsampler = torch.utils.data.SubsetRandomSampler(test_ids)\n",
    "        \n",
    "        train_loader = torch.utils.data.DataLoader(dataset, batch_size = batch_size, sampler=train_subsampler)\n",
    "        test_loader = torch.utils.data.DataLoader(dataset, batch_size= batch_size, sampler=test_subsampler)\n",
    "        \n",
    "        #Initial model \n",
    "        model = Supervised_TUH()\n",
    "        model.to(device)\n",
    "    \n",
    "        train_losses, test_losses, train_acces, test_acces = train_test_loop(train_loader, test_loader, model, n_epochs=epochs, lr=learning_rate)\n",
    "        results[fold] = max(test_acces)\n",
    "        \n",
    "    for key, value in results.items():\n",
    "        print(f'Fold {key}: {value} %\\n')\n",
    "        sum += value\n",
    "    print(f'Average: {sum/len(results.items())} %\\n') \n",
    "\n",
    "    _plot_losses(train_losses, test_losses)\n",
    "    _plot_acces(train_acces, test_acces)"
   ]
  },
  {
   "cell_type": "code",
   "execution_count": null,
   "metadata": {},
   "outputs": [
    {
     "name": "stderr",
     "output_type": "stream",
     "text": [
      "100%|██████████| 30/30 [00:20<00:00,  1.49it/s]\n",
      "100%|██████████| 30/30 [00:20<00:00,  1.49it/s]\n",
      "  0%|          | 1/281 [00:00<00:37,  7.37it/s]"
     ]
    },
    {
     "name": "stdout",
     "output_type": "stream",
     "text": [
      "(11226, 1, 19, 1500)\n",
      "(11226, 1)\n",
      "Fold = 1\n"
     ]
    },
    {
     "name": "stderr",
     "output_type": "stream",
     "text": [
      "100%|██████████| 281/281 [00:31<00:00,  8.94it/s]\n",
      "100%|██████████| 71/71 [00:01<00:00, 46.62it/s]\n",
      "  0%|          | 1/281 [00:00<00:33,  8.45it/s]"
     ]
    },
    {
     "name": "stdout",
     "output_type": "stream",
     "text": [
      "Epoch 1, Train loss 0.7068 , Train Accuracy 0.5313, Test loss 0.6726, Test Accuracy 0.5761\n"
     ]
    },
    {
     "name": "stderr",
     "output_type": "stream",
     "text": [
      "100%|██████████| 281/281 [00:31<00:00,  8.95it/s]\n",
      "100%|██████████| 71/71 [00:01<00:00, 45.90it/s]\n",
      "  0%|          | 0/281 [00:00<?, ?it/s]"
     ]
    },
    {
     "name": "stdout",
     "output_type": "stream",
     "text": [
      "Epoch 2, Train loss 0.6832 , Train Accuracy 0.5643, Test loss 0.6580, Test Accuracy 0.6060\n"
     ]
    },
    {
     "name": "stderr",
     "output_type": "stream",
     "text": [
      "100%|██████████| 281/281 [00:31<00:00,  8.87it/s]\n",
      "100%|██████████| 71/71 [00:01<00:00, 45.45it/s]\n",
      "  0%|          | 1/281 [00:00<00:33,  8.24it/s]"
     ]
    },
    {
     "name": "stdout",
     "output_type": "stream",
     "text": [
      "Epoch 3, Train loss 0.6680 , Train Accuracy 0.5818, Test loss 0.7067, Test Accuracy 0.5926\n"
     ]
    },
    {
     "name": "stderr",
     "output_type": "stream",
     "text": [
      "100%|██████████| 281/281 [00:31<00:00,  8.89it/s]\n",
      "100%|██████████| 71/71 [00:01<00:00, 45.23it/s]\n",
      "  0%|          | 1/281 [00:00<00:34,  8.16it/s]"
     ]
    },
    {
     "name": "stdout",
     "output_type": "stream",
     "text": [
      "Epoch 4, Train loss 0.6632 , Train Accuracy 0.5983, Test loss 0.6447, Test Accuracy 0.6371\n"
     ]
    },
    {
     "name": "stderr",
     "output_type": "stream",
     "text": [
      "100%|██████████| 281/281 [00:31<00:00,  8.81it/s]\n",
      "100%|██████████| 71/71 [00:01<00:00, 44.98it/s]\n",
      "  0%|          | 1/281 [00:00<00:34,  8.07it/s]"
     ]
    },
    {
     "name": "stdout",
     "output_type": "stream",
     "text": [
      "Epoch 5, Train loss 0.6553 , Train Accuracy 0.6124, Test loss 0.6452, Test Accuracy 0.6402\n"
     ]
    },
    {
     "name": "stderr",
     "output_type": "stream",
     "text": [
      "100%|██████████| 281/281 [00:32<00:00,  8.77it/s]\n",
      "100%|██████████| 71/71 [00:01<00:00, 44.71it/s]\n",
      "  0%|          | 1/281 [00:00<00:34,  8.20it/s]"
     ]
    },
    {
     "name": "stdout",
     "output_type": "stream",
     "text": [
      "Epoch 6, Train loss 0.6465 , Train Accuracy 0.6202, Test loss 0.6335, Test Accuracy 0.6616\n"
     ]
    },
    {
     "name": "stderr",
     "output_type": "stream",
     "text": [
      "100%|██████████| 281/281 [00:32<00:00,  8.77it/s]\n",
      "100%|██████████| 71/71 [00:01<00:00, 44.83it/s]\n",
      "  0%|          | 1/281 [00:00<00:34,  8.21it/s]"
     ]
    },
    {
     "name": "stdout",
     "output_type": "stream",
     "text": [
      "Epoch 7, Train loss 0.6413 , Train Accuracy 0.6389, Test loss 0.6424, Test Accuracy 0.6656\n"
     ]
    },
    {
     "name": "stderr",
     "output_type": "stream",
     "text": [
      "100%|██████████| 281/281 [00:32<00:00,  8.71it/s]\n",
      "100%|██████████| 71/71 [00:01<00:00, 45.05it/s]\n",
      "  0%|          | 1/281 [00:00<00:34,  8.14it/s]"
     ]
    },
    {
     "name": "stdout",
     "output_type": "stream",
     "text": [
      "Epoch 8, Train loss 0.6379 , Train Accuracy 0.6365, Test loss 0.6314, Test Accuracy 0.6687\n"
     ]
    },
    {
     "name": "stderr",
     "output_type": "stream",
     "text": [
      "100%|██████████| 281/281 [00:31<00:00,  8.81it/s]\n",
      "100%|██████████| 71/71 [00:01<00:00, 44.72it/s]\n",
      "  0%|          | 1/281 [00:00<00:34,  8.09it/s]"
     ]
    },
    {
     "name": "stdout",
     "output_type": "stream",
     "text": [
      "Epoch 9, Train loss 0.6349 , Train Accuracy 0.6452, Test loss 0.7019, Test Accuracy 0.6309\n"
     ]
    },
    {
     "name": "stderr",
     "output_type": "stream",
     "text": [
      "100%|██████████| 281/281 [00:31<00:00,  8.81it/s]\n",
      "100%|██████████| 71/71 [00:01<00:00, 45.56it/s]\n",
      "  0%|          | 1/281 [00:00<00:33,  8.29it/s]"
     ]
    },
    {
     "name": "stdout",
     "output_type": "stream",
     "text": [
      "Epoch 10, Train loss 0.6237 , Train Accuracy 0.6591, Test loss 0.6183, Test Accuracy 0.6817\n"
     ]
    },
    {
     "name": "stderr",
     "output_type": "stream",
     "text": [
      "100%|██████████| 281/281 [00:31<00:00,  8.79it/s]\n",
      "100%|██████████| 71/71 [00:01<00:00, 45.28it/s]\n",
      "  0%|          | 1/281 [00:00<00:34,  8.10it/s]"
     ]
    },
    {
     "name": "stdout",
     "output_type": "stream",
     "text": [
      "Epoch 11, Train loss 0.6229 , Train Accuracy 0.6576, Test loss 0.6166, Test Accuracy 0.6843\n"
     ]
    },
    {
     "name": "stderr",
     "output_type": "stream",
     "text": [
      "100%|██████████| 281/281 [00:31<00:00,  8.79it/s]\n",
      "100%|██████████| 71/71 [00:01<00:00, 45.18it/s]\n",
      "  0%|          | 1/281 [00:00<00:34,  8.11it/s]"
     ]
    },
    {
     "name": "stdout",
     "output_type": "stream",
     "text": [
      "Epoch 12, Train loss 0.6205 , Train Accuracy 0.6636, Test loss 0.6386, Test Accuracy 0.6848\n"
     ]
    },
    {
     "name": "stderr",
     "output_type": "stream",
     "text": [
      "100%|██████████| 281/281 [00:31<00:00,  8.79it/s]\n",
      "100%|██████████| 71/71 [00:01<00:00, 44.59it/s]\n",
      "  0%|          | 0/281 [00:00<?, ?it/s]"
     ]
    },
    {
     "name": "stdout",
     "output_type": "stream",
     "text": [
      "Epoch 13, Train loss 0.6158 , Train Accuracy 0.6678, Test loss 0.6239, Test Accuracy 0.6906\n"
     ]
    },
    {
     "name": "stderr",
     "output_type": "stream",
     "text": [
      "100%|██████████| 281/281 [00:32<00:00,  8.71it/s]\n",
      "100%|██████████| 71/71 [00:01<00:00, 44.44it/s]\n",
      "  0%|          | 1/281 [00:00<00:34,  8.23it/s]"
     ]
    },
    {
     "name": "stdout",
     "output_type": "stream",
     "text": [
      "Epoch 14, Train loss 0.6067 , Train Accuracy 0.6758, Test loss 0.6302, Test Accuracy 0.6901\n"
     ]
    },
    {
     "name": "stderr",
     "output_type": "stream",
     "text": [
      "100%|██████████| 281/281 [00:31<00:00,  8.79it/s]\n",
      "100%|██████████| 71/71 [00:01<00:00, 45.26it/s]\n",
      "  0%|          | 1/281 [00:00<00:33,  8.35it/s]"
     ]
    },
    {
     "name": "stdout",
     "output_type": "stream",
     "text": [
      "Epoch 15, Train loss 0.6099 , Train Accuracy 0.6810, Test loss 0.6106, Test Accuracy 0.6977\n"
     ]
    },
    {
     "name": "stderr",
     "output_type": "stream",
     "text": [
      "100%|██████████| 281/281 [00:31<00:00,  8.79it/s]\n",
      "100%|██████████| 71/71 [00:01<00:00, 44.29it/s]\n",
      "  0%|          | 1/281 [00:00<00:34,  8.21it/s]"
     ]
    },
    {
     "name": "stdout",
     "output_type": "stream",
     "text": [
      "Epoch 16, Train loss 0.6064 , Train Accuracy 0.6793, Test loss 0.6106, Test Accuracy 0.7026\n"
     ]
    },
    {
     "name": "stderr",
     "output_type": "stream",
     "text": [
      "100%|██████████| 281/281 [00:32<00:00,  8.78it/s]\n",
      "100%|██████████| 71/71 [00:01<00:00, 44.56it/s]\n",
      "  0%|          | 1/281 [00:00<00:34,  8.03it/s]"
     ]
    },
    {
     "name": "stdout",
     "output_type": "stream",
     "text": [
      "Epoch 17, Train loss 0.6004 , Train Accuracy 0.6827, Test loss 0.6304, Test Accuracy 0.6999\n"
     ]
    },
    {
     "name": "stderr",
     "output_type": "stream",
     "text": [
      "100%|██████████| 281/281 [00:32<00:00,  8.78it/s]\n",
      "100%|██████████| 71/71 [00:01<00:00, 44.50it/s]\n",
      "  0%|          | 1/281 [00:00<00:34,  8.18it/s]"
     ]
    },
    {
     "name": "stdout",
     "output_type": "stream",
     "text": [
      "Epoch 18, Train loss 0.5966 , Train Accuracy 0.6885, Test loss 0.6385, Test Accuracy 0.6932\n"
     ]
    },
    {
     "name": "stderr",
     "output_type": "stream",
     "text": [
      "100%|██████████| 281/281 [00:32<00:00,  8.76it/s]\n",
      "100%|██████████| 71/71 [00:01<00:00, 45.05it/s]\n",
      "  0%|          | 1/281 [00:00<00:33,  8.33it/s]"
     ]
    },
    {
     "name": "stdout",
     "output_type": "stream",
     "text": [
      "Epoch 19, Train loss 0.6005 , Train Accuracy 0.6832, Test loss 0.6361, Test Accuracy 0.6986\n"
     ]
    },
    {
     "name": "stderr",
     "output_type": "stream",
     "text": [
      "100%|██████████| 281/281 [00:32<00:00,  8.78it/s]\n",
      "100%|██████████| 71/71 [00:01<00:00, 43.44it/s]\n",
      "  0%|          | 1/281 [00:00<00:33,  8.27it/s]"
     ]
    },
    {
     "name": "stdout",
     "output_type": "stream",
     "text": [
      "Epoch 20, Train loss 0.5922 , Train Accuracy 0.6963, Test loss 0.6260, Test Accuracy 0.6986\n",
      "[0.7067876282111606, 0.6831518381940088, 0.6680320656172322, 0.6631598366537128, 0.6553330279329918, 0.6465127706739826, 0.6412796208442743, 0.637882976133204, 0.6349069107045483, 0.6236595304623194, 0.6229314099851452, 0.6205487182343982, 0.6158455630426305, 0.6066680929202626, 0.6098673585470885, 0.6064255481512946, 0.6004323104522407, 0.5965958442340118, 0.60054909345094, 0.5922250291630891]\n",
      "[0.6726350851461921, 0.6580470636696882, 0.7067084245278802, 0.6447216419266982, 0.6452198452512983, 0.6335309928571674, 0.6424143163251205, 0.631400487372573, 0.7018565296287268, 0.6182931520989243, 0.616607127055316, 0.6385572552680969, 0.6238532355973418, 0.6302313859194097, 0.6106052260163805, 0.6105687479737779, 0.6304155865185698, 0.6385385272368579, 0.6360996306782037, 0.6259681389365398]\n",
      "Fold = 2\n"
     ]
    },
    {
     "name": "stderr",
     "output_type": "stream",
     "text": [
      "100%|██████████| 281/281 [00:32<00:00,  8.77it/s]\n",
      "100%|██████████| 71/71 [00:01<00:00, 45.04it/s]\n",
      "  0%|          | 1/281 [00:00<00:34,  8.12it/s]"
     ]
    },
    {
     "name": "stdout",
     "output_type": "stream",
     "text": [
      "Epoch 1, Train loss 0.7237 , Train Accuracy 0.5189, Test loss 0.6732, Test Accuracy 0.5857\n"
     ]
    },
    {
     "name": "stderr",
     "output_type": "stream",
     "text": [
      "100%|██████████| 281/281 [00:32<00:00,  8.76it/s]\n",
      "100%|██████████| 71/71 [00:01<00:00, 44.41it/s]\n",
      "  0%|          | 1/281 [00:00<00:35,  7.99it/s]"
     ]
    },
    {
     "name": "stdout",
     "output_type": "stream",
     "text": [
      "Epoch 2, Train loss 0.6843 , Train Accuracy 0.5624, Test loss 0.6512, Test Accuracy 0.6196\n"
     ]
    },
    {
     "name": "stderr",
     "output_type": "stream",
     "text": [
      "100%|██████████| 281/281 [00:32<00:00,  8.77it/s]\n",
      "100%|██████████| 71/71 [00:01<00:00, 44.85it/s]\n",
      "  0%|          | 1/281 [00:00<00:35,  7.98it/s]"
     ]
    },
    {
     "name": "stdout",
     "output_type": "stream",
     "text": [
      "Epoch 3, Train loss 0.6679 , Train Accuracy 0.5831, Test loss 0.6439, Test Accuracy 0.6379\n"
     ]
    },
    {
     "name": "stderr",
     "output_type": "stream",
     "text": [
      "100%|██████████| 281/281 [00:32<00:00,  8.76it/s]\n",
      "100%|██████████| 71/71 [00:01<00:00, 44.07it/s]\n",
      "  0%|          | 1/281 [00:00<00:34,  8.16it/s]"
     ]
    },
    {
     "name": "stdout",
     "output_type": "stream",
     "text": [
      "Epoch 4, Train loss 0.6625 , Train Accuracy 0.5994, Test loss 0.7353, Test Accuracy 0.6071\n"
     ]
    },
    {
     "name": "stderr",
     "output_type": "stream",
     "text": [
      "100%|██████████| 281/281 [00:32<00:00,  8.76it/s]\n",
      "100%|██████████| 71/71 [00:01<00:00, 44.91it/s]\n",
      "  0%|          | 0/281 [00:00<?, ?it/s]"
     ]
    },
    {
     "name": "stdout",
     "output_type": "stream",
     "text": [
      "Epoch 5, Train loss 0.6463 , Train Accuracy 0.6219, Test loss 0.6530, Test Accuracy 0.6530\n"
     ]
    },
    {
     "name": "stderr",
     "output_type": "stream",
     "text": [
      "100%|██████████| 281/281 [00:32<00:00,  8.77it/s]\n",
      "100%|██████████| 71/71 [00:01<00:00, 45.35it/s]\n",
      "  0%|          | 1/281 [00:00<00:33,  8.28it/s]"
     ]
    },
    {
     "name": "stdout",
     "output_type": "stream",
     "text": [
      "Epoch 6, Train loss 0.6437 , Train Accuracy 0.6245, Test loss 0.6483, Test Accuracy 0.6615\n"
     ]
    },
    {
     "name": "stderr",
     "output_type": "stream",
     "text": [
      "100%|██████████| 281/281 [00:31<00:00,  8.79it/s]\n",
      "100%|██████████| 71/71 [00:01<00:00, 45.42it/s]\n",
      "  0%|          | 1/281 [00:00<00:33,  8.36it/s]"
     ]
    },
    {
     "name": "stdout",
     "output_type": "stream",
     "text": [
      "Epoch 7, Train loss 0.6336 , Train Accuracy 0.6502, Test loss 0.6808, Test Accuracy 0.6561\n"
     ]
    },
    {
     "name": "stderr",
     "output_type": "stream",
     "text": [
      "100%|██████████| 281/281 [00:32<00:00,  8.77it/s]\n",
      "100%|██████████| 71/71 [00:01<00:00, 44.27it/s]\n",
      "  0%|          | 1/281 [00:00<00:34,  8.21it/s]"
     ]
    },
    {
     "name": "stdout",
     "output_type": "stream",
     "text": [
      "Epoch 8, Train loss 0.6290 , Train Accuracy 0.6526, Test loss 0.6533, Test Accuracy 0.6735\n"
     ]
    },
    {
     "name": "stderr",
     "output_type": "stream",
     "text": [
      "100%|██████████| 281/281 [00:31<00:00,  8.81it/s]\n",
      "100%|██████████| 71/71 [00:01<00:00, 45.56it/s]\n",
      "  0%|          | 1/281 [00:00<00:34,  8.07it/s]"
     ]
    },
    {
     "name": "stdout",
     "output_type": "stream",
     "text": [
      "Epoch 9, Train loss 0.6263 , Train Accuracy 0.6493, Test loss 0.6448, Test Accuracy 0.6860\n"
     ]
    },
    {
     "name": "stderr",
     "output_type": "stream",
     "text": [
      "100%|██████████| 281/281 [00:31<00:00,  8.78it/s]\n",
      "100%|██████████| 71/71 [00:01<00:00, 45.31it/s]\n",
      "  0%|          | 1/281 [00:00<00:33,  8.27it/s]"
     ]
    },
    {
     "name": "stdout",
     "output_type": "stream",
     "text": [
      "Epoch 10, Train loss 0.6249 , Train Accuracy 0.6446, Test loss 0.6412, Test Accuracy 0.6744\n"
     ]
    },
    {
     "name": "stderr",
     "output_type": "stream",
     "text": [
      "100%|██████████| 281/281 [00:32<00:00,  8.77it/s]\n",
      "100%|██████████| 71/71 [00:01<00:00, 45.47it/s]\n",
      "  0%|          | 1/281 [00:00<00:33,  8.30it/s]"
     ]
    },
    {
     "name": "stdout",
     "output_type": "stream",
     "text": [
      "Epoch 11, Train loss 0.6159 , Train Accuracy 0.6636, Test loss 0.6328, Test Accuracy 0.6886\n"
     ]
    },
    {
     "name": "stderr",
     "output_type": "stream",
     "text": [
      "100%|██████████| 281/281 [00:31<00:00,  8.78it/s]\n",
      "100%|██████████| 71/71 [00:01<00:00, 45.17it/s]\n",
      "  0%|          | 1/281 [00:00<00:34,  8.19it/s]"
     ]
    },
    {
     "name": "stdout",
     "output_type": "stream",
     "text": [
      "Epoch 12, Train loss 0.6153 , Train Accuracy 0.6654, Test loss 0.6315, Test Accuracy 0.6918\n"
     ]
    },
    {
     "name": "stderr",
     "output_type": "stream",
     "text": [
      "100%|██████████| 281/281 [00:32<00:00,  8.76it/s]\n",
      "100%|██████████| 71/71 [00:01<00:00, 44.97it/s]\n",
      "  0%|          | 1/281 [00:00<00:34,  8.21it/s]"
     ]
    },
    {
     "name": "stdout",
     "output_type": "stream",
     "text": [
      "Epoch 13, Train loss 0.6184 , Train Accuracy 0.6684, Test loss 0.6287, Test Accuracy 0.6980\n"
     ]
    },
    {
     "name": "stderr",
     "output_type": "stream",
     "text": [
      "100%|██████████| 281/281 [00:32<00:00,  8.76it/s]\n",
      "100%|██████████| 71/71 [00:01<00:00, 45.48it/s]\n",
      "  0%|          | 1/281 [00:00<00:34,  8.03it/s]"
     ]
    },
    {
     "name": "stdout",
     "output_type": "stream",
     "text": [
      "Epoch 14, Train loss 0.6136 , Train Accuracy 0.6627, Test loss 0.6228, Test Accuracy 0.6984\n"
     ]
    },
    {
     "name": "stderr",
     "output_type": "stream",
     "text": [
      "100%|██████████| 281/281 [00:32<00:00,  8.75it/s]\n",
      "100%|██████████| 71/71 [00:01<00:00, 45.24it/s]\n",
      "  0%|          | 1/281 [00:00<00:33,  8.25it/s]"
     ]
    },
    {
     "name": "stdout",
     "output_type": "stream",
     "text": [
      "Epoch 15, Train loss 0.6052 , Train Accuracy 0.6799, Test loss 0.6281, Test Accuracy 0.6962\n"
     ]
    },
    {
     "name": "stderr",
     "output_type": "stream",
     "text": [
      "100%|██████████| 281/281 [00:32<00:00,  8.74it/s]\n",
      "100%|██████████| 71/71 [00:01<00:00, 44.90it/s]\n",
      "  0%|          | 1/281 [00:00<00:34,  8.17it/s]"
     ]
    },
    {
     "name": "stdout",
     "output_type": "stream",
     "text": [
      "Epoch 16, Train loss 0.6023 , Train Accuracy 0.6810, Test loss 0.6189, Test Accuracy 0.7038\n"
     ]
    },
    {
     "name": "stderr",
     "output_type": "stream",
     "text": [
      "100%|██████████| 281/281 [00:32<00:00,  8.73it/s]\n",
      "100%|██████████| 71/71 [00:01<00:00, 43.90it/s]\n",
      "  0%|          | 1/281 [00:00<00:34,  8.12it/s]"
     ]
    },
    {
     "name": "stdout",
     "output_type": "stream",
     "text": [
      "Epoch 17, Train loss 0.6038 , Train Accuracy 0.6771, Test loss 0.6675, Test Accuracy 0.6815\n"
     ]
    },
    {
     "name": "stderr",
     "output_type": "stream",
     "text": [
      "100%|██████████| 281/281 [00:31<00:00,  8.78it/s]\n",
      "100%|██████████| 71/71 [00:01<00:00, 45.57it/s]\n",
      "  0%|          | 0/281 [00:00<?, ?it/s]"
     ]
    },
    {
     "name": "stdout",
     "output_type": "stream",
     "text": [
      "Epoch 18, Train loss 0.5967 , Train Accuracy 0.6878, Test loss 0.6394, Test Accuracy 0.6944\n"
     ]
    },
    {
     "name": "stderr",
     "output_type": "stream",
     "text": [
      "100%|██████████| 281/281 [00:32<00:00,  8.75it/s]\n",
      "100%|██████████| 71/71 [00:01<00:00, 44.49it/s]\n",
      "  0%|          | 1/281 [00:00<00:34,  8.14it/s]"
     ]
    },
    {
     "name": "stdout",
     "output_type": "stream",
     "text": [
      "Epoch 19, Train loss 0.5958 , Train Accuracy 0.6886, Test loss 0.6403, Test Accuracy 0.7011\n"
     ]
    },
    {
     "name": "stderr",
     "output_type": "stream",
     "text": [
      "100%|██████████| 281/281 [00:32<00:00,  8.76it/s]\n",
      "100%|██████████| 71/71 [00:01<00:00, 45.33it/s]\n",
      "  0%|          | 1/281 [00:00<00:33,  8.29it/s]"
     ]
    },
    {
     "name": "stdout",
     "output_type": "stream",
     "text": [
      "Epoch 20, Train loss 0.5968 , Train Accuracy 0.6878, Test loss 0.6073, Test Accuracy 0.7180\n",
      "[0.723718429799606, 0.6843237741137739, 0.6678533008938582, 0.6625121681291438, 0.6462506844904075, 0.643659020233833, 0.6335882470276857, 0.6290341862792223, 0.6262919192212332, 0.624897970847812, 0.6158766290471223, 0.6153312618197919, 0.6184214322804557, 0.6135637094117569, 0.6052310419040219, 0.6022847308594985, 0.603835842681525, 0.5966502258361871, 0.5957923077603676, 0.5968053549846296]\n",
      "[0.6731647563652253, 0.6511845529918939, 0.6438851751072306, 0.7352673394579283, 0.6529794406722969, 0.6482821216045971, 0.6808445369693595, 0.6532541698133442, 0.6448127081696416, 0.641201313532574, 0.6328280098001722, 0.6315317850717357, 0.6286581448266204, 0.6227909565811426, 0.6281425063039215, 0.6188934323653369, 0.6674577396520427, 0.6394001436485371, 0.6402776425992939, 0.6072934311880193]\n",
      "Fold = 3\n"
     ]
    },
    {
     "name": "stderr",
     "output_type": "stream",
     "text": [
      "100%|██████████| 281/281 [00:32<00:00,  8.74it/s]\n",
      "100%|██████████| 71/71 [00:01<00:00, 45.16it/s]\n",
      "  0%|          | 1/281 [00:00<00:34,  8.17it/s]"
     ]
    },
    {
     "name": "stdout",
     "output_type": "stream",
     "text": [
      "Epoch 1, Train loss 0.7015 , Train Accuracy 0.5298, Test loss 0.6782, Test Accuracy 0.5661\n"
     ]
    },
    {
     "name": "stderr",
     "output_type": "stream",
     "text": [
      "100%|██████████| 281/281 [00:32<00:00,  8.77it/s]\n",
      "100%|██████████| 71/71 [00:01<00:00, 44.61it/s]\n",
      "  0%|          | 1/281 [00:00<00:34,  8.14it/s]"
     ]
    },
    {
     "name": "stdout",
     "output_type": "stream",
     "text": [
      "Epoch 2, Train loss 0.6800 , Train Accuracy 0.5701, Test loss 0.6855, Test Accuracy 0.5969\n"
     ]
    },
    {
     "name": "stderr",
     "output_type": "stream",
     "text": [
      "100%|██████████| 281/281 [00:32<00:00,  8.75it/s]\n",
      "100%|██████████| 71/71 [00:01<00:00, 42.67it/s]\n",
      "  0%|          | 1/281 [00:00<00:34,  8.04it/s]"
     ]
    },
    {
     "name": "stdout",
     "output_type": "stream",
     "text": [
      "Epoch 3, Train loss 0.6725 , Train Accuracy 0.5814, Test loss 0.6386, Test Accuracy 0.6254\n"
     ]
    },
    {
     "name": "stderr",
     "output_type": "stream",
     "text": [
      "100%|██████████| 281/281 [00:32<00:00,  8.76it/s]\n",
      "100%|██████████| 71/71 [00:01<00:00, 45.01it/s]\n",
      "  0%|          | 1/281 [00:00<00:34,  8.09it/s]"
     ]
    },
    {
     "name": "stdout",
     "output_type": "stream",
     "text": [
      "Epoch 4, Train loss 0.6633 , Train Accuracy 0.5924, Test loss 0.6189, Test Accuracy 0.6610\n"
     ]
    },
    {
     "name": "stderr",
     "output_type": "stream",
     "text": [
      "100%|██████████| 281/281 [00:32<00:00,  8.76it/s]\n",
      "100%|██████████| 71/71 [00:01<00:00, 44.67it/s]\n",
      "  0%|          | 1/281 [00:00<00:34,  8.12it/s]"
     ]
    },
    {
     "name": "stdout",
     "output_type": "stream",
     "text": [
      "Epoch 5, Train loss 0.6589 , Train Accuracy 0.6071, Test loss 0.6163, Test Accuracy 0.6624\n"
     ]
    },
    {
     "name": "stderr",
     "output_type": "stream",
     "text": [
      "100%|██████████| 281/281 [00:32<00:00,  8.78it/s]\n",
      "100%|██████████| 71/71 [00:01<00:00, 45.50it/s]\n",
      "  0%|          | 1/281 [00:00<00:33,  8.37it/s]"
     ]
    },
    {
     "name": "stdout",
     "output_type": "stream",
     "text": [
      "Epoch 6, Train loss 0.6519 , Train Accuracy 0.6128, Test loss 0.6007, Test Accuracy 0.6802\n"
     ]
    },
    {
     "name": "stderr",
     "output_type": "stream",
     "text": [
      "100%|██████████| 281/281 [00:31<00:00,  8.80it/s]\n",
      "100%|██████████| 71/71 [00:01<00:00, 44.21it/s]\n",
      "  0%|          | 1/281 [00:00<00:35,  7.94it/s]"
     ]
    },
    {
     "name": "stdout",
     "output_type": "stream",
     "text": [
      "Epoch 7, Train loss 0.6475 , Train Accuracy 0.6200, Test loss 0.5971, Test Accuracy 0.6864\n"
     ]
    },
    {
     "name": "stderr",
     "output_type": "stream",
     "text": [
      "100%|██████████| 281/281 [00:32<00:00,  8.78it/s]\n",
      "100%|██████████| 71/71 [00:01<00:00, 45.47it/s]\n",
      "  0%|          | 0/281 [00:00<?, ?it/s]"
     ]
    },
    {
     "name": "stdout",
     "output_type": "stream",
     "text": [
      "Epoch 8, Train loss 0.6411 , Train Accuracy 0.6282, Test loss 0.6483, Test Accuracy 0.6526\n"
     ]
    },
    {
     "name": "stderr",
     "output_type": "stream",
     "text": [
      " 65%|██████▍   | 182/281 [00:20<00:11,  8.80it/s]"
     ]
    }
   ],
   "source": [
    "transfer_learning()"
   ]
  },
  {
   "cell_type": "code",
   "execution_count": null,
   "metadata": {},
   "outputs": [],
   "source": [
    "train_from_sratch()"
   ]
  },
  {
   "cell_type": "markdown",
   "metadata": {},
   "source": [
    "### Example 2: compare the transfer learning results on a extrame small set of TUH Normal/Abnormal dataset."
   ]
  },
  {
   "cell_type": "code",
   "execution_count": 1,
   "metadata": {},
   "outputs": [],
   "source": [
    "# Compare the results with train from scratch "
   ]
  },
  {
   "cell_type": "code",
   "execution_count": 42,
   "metadata": {},
   "outputs": [],
   "source": [
    "# define some training settings\n",
    "batch_size = 16\n",
    "num_workers = 8\n",
    "epochs = 20\n",
    "learning_rate = 5e-5\n",
    "model_path = './saved_models/tuh_all_ckp.pt'\n",
    "train_normal_filename_path = './downstream/small_normal_train.txt'\n",
    "train_abnormal_filename_path = './downstream/small_abnormal_train.txt'\n",
    "test_normal_filename_path = './downstream/small_normal_test.txt'\n",
    "test_abnormal_filename_path = './downstream/small_abnormal_test.txt'\n",
    "layers_to_transfer = 3\n",
    "layers_to_freeze = 1\n",
    "folds = 5"
   ]
  },
  {
   "cell_type": "code",
   "execution_count": 43,
   "metadata": {},
   "outputs": [],
   "source": [
    "def transfer_learning():\n",
    "    \n",
    "    #Load Dataset\n",
    "    train_dataset = TUH_Normal_Abnormal(normal_filename=train_normal_filename_path, abnormal_filename =train_abnormal_filename_path)\n",
    "    test_dataset = TUH_Normal_Abnormal(normal_filename=test_normal_filename_path, abnormal_filename =test_abnormal_filename_path)\n",
    "    \n",
    "    train_loader = torch.utils.data.DataLoader(train_dataset, batch_size=batch_size, shuffle=True, num_workers=num_workers)\n",
    "    test_loader = torch.utils.data.DataLoader(test_dataset, batch_size=batch_size, shuffle=True, num_workers=num_workers)\n",
    "           \n",
    "    #Initial model \n",
    "    model = Supervised_TUH()\n",
    "\n",
    "    #Load pre-trained parameters\n",
    "    pretrained_dict = torch.load(model_path) \n",
    "    pretrained_param_names = list(pretrained_dict.keys())\n",
    "    model_dict = model.state_dict()\n",
    "    model_param_names = list(model_dict.keys())\n",
    "\n",
    "    # Load the first three layers' parameters\n",
    "    # Note: One layer here corresponds to 4 layers in the model, they are  ... layers\n",
    "    for i, _ in enumerate(pretrained_param_names[:layers_to_transfer * 4]):\n",
    "        model_dict[model_param_names[i]] = pretrained_dict[pretrained_param_names[i]]\n",
    "    \n",
    "    model.load_state_dict(model_dict)\n",
    "\n",
    "    #freeze the first few layers\n",
    "    for i, (name, param) in enumerate(model.named_parameters()):\n",
    "        if i < layers_to_freeze * 4 and param.requires_grad:\n",
    "            print(f'freezed {name}')\n",
    "            param.requires_grad = False\n",
    "            continue\n",
    "        print(name)\n",
    "        \n",
    "    model.to(device)\n",
    "\n",
    "    train_losses, test_losses, train_acces, test_acces = train_test_loop(train_loader, test_loader, model, n_epochs=epochs, lr=learning_rate)\n",
    "    _plot_losses(train_losses, test_losses)\n",
    "    _plot_acces(train_acces, test_acces)"
   ]
  },
  {
   "cell_type": "code",
   "execution_count": 44,
   "metadata": {},
   "outputs": [],
   "source": [
    "def train_from_scratch():\n",
    "    #Load Dataset\n",
    "    train_dataset = TUH_Normal_Abnormal(normal_filename=train_normal_filename_path, abnormal_filename =train_abnormal_filename_path)\n",
    "    test_dataset = TUH_Normal_Abnormal(normal_filename=test_normal_filename_path, abnormal_filename =test_abnormal_filename_path)\n",
    "    \n",
    "    train_loader = torch.utils.data.DataLoader(train_dataset, batch_size=batch_size, shuffle=True, num_workers=num_workers)\n",
    "    test_loader = torch.utils.data.DataLoader(test_dataset, batch_size=batch_size, shuffle=True, num_workers=num_workers)\n",
    "           \n",
    "    #Initial model \n",
    "    model = Supervised_TUH()\n",
    "    \n",
    "    model.to(device)\n",
    "\n",
    "    train_losses, test_losses, train_acces, test_acces = train_test_loop(train_loader, test_loader, model, n_epochs=epochs, lr=learning_rate)\n",
    "    _plot_losses(train_losses, test_losses)\n",
    "    _plot_acces(train_acces, test_acces)"
   ]
  },
  {
   "cell_type": "code",
   "execution_count": 51,
   "metadata": {},
   "outputs": [
    {
     "name": "stderr",
     "output_type": "stream",
     "text": [
      "100%|██████████| 5/5 [00:03<00:00,  1.45it/s]\n",
      "100%|██████████| 5/5 [00:03<00:00,  1.38it/s]\n",
      "  0%|          | 0/5 [00:00<?, ?it/s]"
     ]
    },
    {
     "name": "stdout",
     "output_type": "stream",
     "text": [
      "(1837, 1, 19, 1500)\n",
      "(1837, 1)\n"
     ]
    },
    {
     "name": "stderr",
     "output_type": "stream",
     "text": [
      "100%|██████████| 5/5 [00:03<00:00,  1.45it/s]\n",
      "100%|██████████| 5/5 [00:03<00:00,  1.51it/s]\n",
      "  0%|          | 0/115 [00:00<?, ?it/s]"
     ]
    },
    {
     "name": "stdout",
     "output_type": "stream",
     "text": [
      "(1898, 1, 19, 1500)\n",
      "(1898, 1)\n",
      "freezed feature_extractor.encoder.Encoder_0.0.weight\n",
      "freezed feature_extractor.encoder.Encoder_0.0.bias\n",
      "freezed feature_extractor.encoder.Encoder_0.2.weight\n",
      "freezed feature_extractor.encoder.Encoder_0.2.bias\n",
      "feature_extractor.encoder.Encoder_1.0.weight\n",
      "feature_extractor.encoder.Encoder_1.0.bias\n",
      "feature_extractor.encoder.Encoder_1.2.weight\n",
      "feature_extractor.encoder.Encoder_1.2.bias\n",
      "feature_extractor.encoder.Encoder_2.0.weight\n",
      "feature_extractor.encoder.Encoder_2.0.bias\n",
      "feature_extractor.encoder.Encoder_2.2.weight\n",
      "feature_extractor.encoder.Encoder_2.2.bias\n",
      "feature_extractor.encoder.Encoder_3.0.weight\n",
      "feature_extractor.encoder.Encoder_3.0.bias\n",
      "feature_extractor.encoder.Encoder_3.2.weight\n",
      "feature_extractor.encoder.Encoder_3.2.bias\n",
      "feature_extractor.encoder.Encoder_4.0.weight\n",
      "feature_extractor.encoder.Encoder_4.0.bias\n",
      "feature_extractor.encoder.Encoder_4.2.weight\n",
      "feature_extractor.encoder.Encoder_4.2.bias\n",
      "feature_extractor.encoder.Encoder_5.0.weight\n",
      "feature_extractor.encoder.Encoder_5.0.bias\n",
      "feature_extractor.encoder.Encoder_5.2.weight\n",
      "feature_extractor.encoder.Encoder_5.2.bias\n",
      "feature_extractor.linear.weight\n",
      "feature_extractor.linear.bias\n",
      "linear.weight\n",
      "linear.bias\n"
     ]
    },
    {
     "name": "stderr",
     "output_type": "stream",
     "text": [
      "100%|██████████| 115/115 [00:09<00:00, 12.43it/s]\n",
      "100%|██████████| 119/119 [00:01<00:00, 62.74it/s]\n",
      "  0%|          | 0/115 [00:00<?, ?it/s]"
     ]
    },
    {
     "name": "stdout",
     "output_type": "stream",
     "text": [
      "Epoch 1, Train loss 0.7464 , Train Accuracy 0.4976, Test loss 0.7061, Test Accuracy 0.5316\n"
     ]
    },
    {
     "name": "stderr",
     "output_type": "stream",
     "text": [
      "100%|██████████| 115/115 [00:09<00:00, 12.52it/s]\n",
      "100%|██████████| 119/119 [00:01<00:00, 61.67it/s]\n",
      "  0%|          | 0/115 [00:00<?, ?it/s]"
     ]
    },
    {
     "name": "stdout",
     "output_type": "stream",
     "text": [
      "Epoch 2, Train loss 0.7085 , Train Accuracy 0.5264, Test loss 0.7067, Test Accuracy 0.5321\n"
     ]
    },
    {
     "name": "stderr",
     "output_type": "stream",
     "text": [
      "100%|██████████| 115/115 [00:09<00:00, 12.54it/s]\n",
      "100%|██████████| 119/119 [00:01<00:00, 60.88it/s]\n",
      "  0%|          | 0/115 [00:00<?, ?it/s]"
     ]
    },
    {
     "name": "stdout",
     "output_type": "stream",
     "text": [
      "Epoch 3, Train loss 0.6914 , Train Accuracy 0.5536, Test loss 0.7419, Test Accuracy 0.5279\n"
     ]
    },
    {
     "name": "stderr",
     "output_type": "stream",
     "text": [
      "100%|██████████| 115/115 [00:09<00:00, 12.51it/s]\n",
      "100%|██████████| 119/119 [00:01<00:00, 61.56it/s]\n",
      "  0%|          | 0/115 [00:00<?, ?it/s]"
     ]
    },
    {
     "name": "stdout",
     "output_type": "stream",
     "text": [
      "Epoch 4, Train loss 0.6762 , Train Accuracy 0.5885, Test loss 0.7009, Test Accuracy 0.5601\n"
     ]
    },
    {
     "name": "stderr",
     "output_type": "stream",
     "text": [
      "100%|██████████| 115/115 [00:09<00:00, 12.54it/s]\n",
      "100%|██████████| 119/119 [00:01<00:00, 60.90it/s]\n",
      "  0%|          | 0/115 [00:00<?, ?it/s]"
     ]
    },
    {
     "name": "stdout",
     "output_type": "stream",
     "text": [
      "Epoch 5, Train loss 0.6706 , Train Accuracy 0.6004, Test loss 0.6969, Test Accuracy 0.5717\n"
     ]
    },
    {
     "name": "stderr",
     "output_type": "stream",
     "text": [
      "100%|██████████| 115/115 [00:09<00:00, 12.56it/s]\n",
      "100%|██████████| 119/119 [00:01<00:00, 63.17it/s]\n",
      "  0%|          | 0/115 [00:00<?, ?it/s]"
     ]
    },
    {
     "name": "stdout",
     "output_type": "stream",
     "text": [
      "Epoch 6, Train loss 0.6611 , Train Accuracy 0.6179, Test loss 0.7049, Test Accuracy 0.5632\n"
     ]
    },
    {
     "name": "stderr",
     "output_type": "stream",
     "text": [
      "100%|██████████| 115/115 [00:09<00:00, 12.49it/s]\n",
      "100%|██████████| 119/119 [00:01<00:00, 62.09it/s]\n",
      "  0%|          | 0/115 [00:00<?, ?it/s]"
     ]
    },
    {
     "name": "stdout",
     "output_type": "stream",
     "text": [
      "Epoch 7, Train loss 0.6507 , Train Accuracy 0.6108, Test loss 0.7791, Test Accuracy 0.5416\n"
     ]
    },
    {
     "name": "stderr",
     "output_type": "stream",
     "text": [
      "100%|██████████| 115/115 [00:09<00:00, 12.44it/s]\n",
      "100%|██████████| 119/119 [00:01<00:00, 60.41it/s]\n",
      "  0%|          | 0/115 [00:00<?, ?it/s]"
     ]
    },
    {
     "name": "stdout",
     "output_type": "stream",
     "text": [
      "Epoch 8, Train loss 0.6544 , Train Accuracy 0.6168, Test loss 0.7302, Test Accuracy 0.5743\n"
     ]
    },
    {
     "name": "stderr",
     "output_type": "stream",
     "text": [
      "100%|██████████| 115/115 [00:09<00:00, 12.60it/s]\n",
      "100%|██████████| 119/119 [00:02<00:00, 58.67it/s]\n",
      "  0%|          | 0/115 [00:00<?, ?it/s]"
     ]
    },
    {
     "name": "stdout",
     "output_type": "stream",
     "text": [
      "Epoch 9, Train loss 0.6600 , Train Accuracy 0.6124, Test loss 0.7479, Test Accuracy 0.5701\n"
     ]
    },
    {
     "name": "stderr",
     "output_type": "stream",
     "text": [
      "100%|██████████| 115/115 [00:09<00:00, 12.50it/s]\n",
      "100%|██████████| 119/119 [00:01<00:00, 61.95it/s]\n",
      "  0%|          | 0/115 [00:00<?, ?it/s]"
     ]
    },
    {
     "name": "stdout",
     "output_type": "stream",
     "text": [
      "Epoch 10, Train loss 0.6349 , Train Accuracy 0.6440, Test loss 0.7193, Test Accuracy 0.5574\n"
     ]
    },
    {
     "name": "stderr",
     "output_type": "stream",
     "text": [
      "100%|██████████| 115/115 [00:09<00:00, 12.55it/s]\n",
      "100%|██████████| 119/119 [00:01<00:00, 61.65it/s]\n",
      "  0%|          | 0/115 [00:00<?, ?it/s]"
     ]
    },
    {
     "name": "stdout",
     "output_type": "stream",
     "text": [
      "Epoch 11, Train loss 0.6330 , Train Accuracy 0.6456, Test loss 0.7366, Test Accuracy 0.5796\n"
     ]
    },
    {
     "name": "stderr",
     "output_type": "stream",
     "text": [
      "100%|██████████| 115/115 [00:09<00:00, 12.46it/s]\n",
      "100%|██████████| 119/119 [00:01<00:00, 62.52it/s]\n",
      "  0%|          | 0/115 [00:00<?, ?it/s]"
     ]
    },
    {
     "name": "stdout",
     "output_type": "stream",
     "text": [
      "Epoch 12, Train loss 0.6098 , Train Accuracy 0.6745, Test loss 0.8732, Test Accuracy 0.5495\n"
     ]
    },
    {
     "name": "stderr",
     "output_type": "stream",
     "text": [
      "100%|██████████| 115/115 [00:09<00:00, 12.38it/s]\n",
      "100%|██████████| 119/119 [00:01<00:00, 62.86it/s]\n",
      "  0%|          | 0/115 [00:00<?, ?it/s]"
     ]
    },
    {
     "name": "stdout",
     "output_type": "stream",
     "text": [
      "Epoch 13, Train loss 0.6142 , Train Accuracy 0.6603, Test loss 0.8116, Test Accuracy 0.5638\n"
     ]
    },
    {
     "name": "stderr",
     "output_type": "stream",
     "text": [
      "100%|██████████| 115/115 [00:09<00:00, 12.48it/s]\n",
      "100%|██████████| 119/119 [00:01<00:00, 61.62it/s]\n",
      "  0%|          | 0/115 [00:00<?, ?it/s]"
     ]
    },
    {
     "name": "stdout",
     "output_type": "stream",
     "text": [
      "Epoch 14, Train loss 0.6144 , Train Accuracy 0.6696, Test loss 0.8572, Test Accuracy 0.5611\n"
     ]
    },
    {
     "name": "stderr",
     "output_type": "stream",
     "text": [
      "100%|██████████| 115/115 [00:09<00:00, 12.53it/s]\n",
      "100%|██████████| 119/119 [00:01<00:00, 62.50it/s]\n",
      "  0%|          | 0/115 [00:00<?, ?it/s]"
     ]
    },
    {
     "name": "stdout",
     "output_type": "stream",
     "text": [
      "Epoch 15, Train loss 0.6021 , Train Accuracy 0.6788, Test loss 0.8267, Test Accuracy 0.5701\n"
     ]
    },
    {
     "name": "stderr",
     "output_type": "stream",
     "text": [
      "100%|██████████| 115/115 [00:09<00:00, 12.49it/s]\n",
      "100%|██████████| 119/119 [00:01<00:00, 61.84it/s]\n",
      "  0%|          | 0/115 [00:00<?, ?it/s]"
     ]
    },
    {
     "name": "stdout",
     "output_type": "stream",
     "text": [
      "Epoch 16, Train loss 0.5939 , Train Accuracy 0.6864, Test loss 0.7637, Test Accuracy 0.5817\n"
     ]
    },
    {
     "name": "stderr",
     "output_type": "stream",
     "text": [
      "100%|██████████| 115/115 [00:09<00:00, 12.58it/s]\n",
      "100%|██████████| 119/119 [00:01<00:00, 61.52it/s]\n",
      "  0%|          | 0/115 [00:00<?, ?it/s]"
     ]
    },
    {
     "name": "stdout",
     "output_type": "stream",
     "text": [
      "Epoch 17, Train loss 0.5894 , Train Accuracy 0.6962, Test loss 0.8400, Test Accuracy 0.5753\n"
     ]
    },
    {
     "name": "stderr",
     "output_type": "stream",
     "text": [
      "100%|██████████| 115/115 [00:09<00:00, 12.59it/s]\n",
      "100%|██████████| 119/119 [00:01<00:00, 62.18it/s]\n",
      "  0%|          | 0/115 [00:00<?, ?it/s]"
     ]
    },
    {
     "name": "stdout",
     "output_type": "stream",
     "text": [
      "Epoch 18, Train loss 0.5863 , Train Accuracy 0.6826, Test loss 0.7954, Test Accuracy 0.5848\n"
     ]
    },
    {
     "name": "stderr",
     "output_type": "stream",
     "text": [
      "100%|██████████| 115/115 [00:09<00:00, 12.55it/s]\n",
      "100%|██████████| 119/119 [00:01<00:00, 62.79it/s]\n",
      "  0%|          | 0/115 [00:00<?, ?it/s]"
     ]
    },
    {
     "name": "stdout",
     "output_type": "stream",
     "text": [
      "Epoch 19, Train loss 0.5868 , Train Accuracy 0.6826, Test loss 0.7907, Test Accuracy 0.5806\n"
     ]
    },
    {
     "name": "stderr",
     "output_type": "stream",
     "text": [
      "100%|██████████| 115/115 [00:09<00:00, 12.50it/s]\n",
      "100%|██████████| 119/119 [00:01<00:00, 62.31it/s]\n"
     ]
    },
    {
     "name": "stdout",
     "output_type": "stream",
     "text": [
      "Epoch 20, Train loss 0.5710 , Train Accuracy 0.7115, Test loss 1.1164, Test Accuracy 0.5369\n"
     ]
    },
    {
     "data": {
      "image/png": "[encoded data removed]",
      "text/plain": [
       "<Figure size 432x288 with 1 Axes>"
      ]
     },
     "metadata": {
      "needs_background": "light"
     },
     "output_type": "display_data"
    },
    {
     "data": {
      "image/png": "[encoded data removed]",
      "text/plain": [
       "<Figure size 432x288 with 1 Axes>"
      ]
     },
     "metadata": {
      "needs_background": "light"
     },
     "output_type": "display_data"
    }
   ],
   "source": [
    "transfer_learning()"
   ]
  },
  {
   "cell_type": "code",
   "execution_count": 48,
   "metadata": {},
   "outputs": [
    {
     "name": "stderr",
     "output_type": "stream",
     "text": [
      "100%|██████████| 5/5 [00:03<00:00,  1.43it/s]\n",
      "100%|██████████| 5/5 [00:03<00:00,  1.28it/s]\n",
      "  0%|          | 0/5 [00:00<?, ?it/s]"
     ]
    },
    {
     "name": "stdout",
     "output_type": "stream",
     "text": [
      "(1837, 1, 19, 1500)\n",
      "(1837, 1)\n"
     ]
    },
    {
     "name": "stderr",
     "output_type": "stream",
     "text": [
      "100%|██████████| 5/5 [00:03<00:00,  1.34it/s]\n",
      "100%|██████████| 5/5 [00:03<00:00,  1.41it/s]\n",
      "  0%|          | 0/115 [00:00<?, ?it/s]"
     ]
    },
    {
     "name": "stdout",
     "output_type": "stream",
     "text": [
      "(1898, 1, 19, 1500)\n",
      "(1898, 1)\n"
     ]
    },
    {
     "name": "stderr",
     "output_type": "stream",
     "text": [
      "100%|██████████| 115/115 [00:09<00:00, 12.04it/s]\n",
      "100%|██████████| 119/119 [00:01<00:00, 61.80it/s]\n",
      "  0%|          | 0/115 [00:00<?, ?it/s]"
     ]
    },
    {
     "name": "stdout",
     "output_type": "stream",
     "text": [
      "Epoch 1, Train loss 0.7209 , Train Accuracy 0.5427, Test loss 0.7133, Test Accuracy 0.5432\n"
     ]
    },
    {
     "name": "stderr",
     "output_type": "stream",
     "text": [
      "100%|██████████| 115/115 [00:09<00:00, 12.08it/s]\n",
      "100%|██████████| 119/119 [00:01<00:00, 61.00it/s]\n",
      "  0%|          | 0/115 [00:00<?, ?it/s]"
     ]
    },
    {
     "name": "stdout",
     "output_type": "stream",
     "text": [
      "Epoch 2, Train loss 0.6783 , Train Accuracy 0.5874, Test loss 0.8369, Test Accuracy 0.5095\n"
     ]
    },
    {
     "name": "stderr",
     "output_type": "stream",
     "text": [
      "100%|██████████| 115/115 [00:09<00:00, 12.06it/s]\n",
      "100%|██████████| 119/119 [00:01<00:00, 62.04it/s]\n",
      "  0%|          | 0/115 [00:00<?, ?it/s]"
     ]
    },
    {
     "name": "stdout",
     "output_type": "stream",
     "text": [
      "Epoch 3, Train loss 0.6665 , Train Accuracy 0.6200, Test loss 0.8046, Test Accuracy 0.5443\n"
     ]
    },
    {
     "name": "stderr",
     "output_type": "stream",
     "text": [
      "100%|██████████| 115/115 [00:09<00:00, 12.00it/s]\n",
      "100%|██████████| 119/119 [00:01<00:00, 62.04it/s]\n",
      "  0%|          | 0/115 [00:00<?, ?it/s]"
     ]
    },
    {
     "name": "stdout",
     "output_type": "stream",
     "text": [
      "Epoch 4, Train loss 0.6513 , Train Accuracy 0.6233, Test loss 0.8267, Test Accuracy 0.5616\n"
     ]
    },
    {
     "name": "stderr",
     "output_type": "stream",
     "text": [
      "100%|██████████| 115/115 [00:09<00:00, 12.05it/s]\n",
      "100%|██████████| 119/119 [00:01<00:00, 60.99it/s]\n",
      "  0%|          | 0/115 [00:00<?, ?it/s]"
     ]
    },
    {
     "name": "stdout",
     "output_type": "stream",
     "text": [
      "Epoch 5, Train loss 0.6572 , Train Accuracy 0.6157, Test loss 0.9300, Test Accuracy 0.4995\n"
     ]
    },
    {
     "name": "stderr",
     "output_type": "stream",
     "text": [
      "100%|██████████| 115/115 [00:09<00:00, 12.01it/s]\n",
      "100%|██████████| 119/119 [00:01<00:00, 61.82it/s]\n",
      "  0%|          | 0/115 [00:00<?, ?it/s]"
     ]
    },
    {
     "name": "stdout",
     "output_type": "stream",
     "text": [
      "Epoch 6, Train loss 0.6382 , Train Accuracy 0.6380, Test loss 0.9841, Test Accuracy 0.4905\n"
     ]
    },
    {
     "name": "stderr",
     "output_type": "stream",
     "text": [
      "100%|██████████| 115/115 [00:09<00:00, 11.97it/s]\n",
      "100%|██████████| 119/119 [00:01<00:00, 60.61it/s]\n",
      "  0%|          | 0/115 [00:00<?, ?it/s]"
     ]
    },
    {
     "name": "stdout",
     "output_type": "stream",
     "text": [
      "Epoch 7, Train loss 0.6223 , Train Accuracy 0.6407, Test loss 0.9559, Test Accuracy 0.5227\n"
     ]
    },
    {
     "name": "stderr",
     "output_type": "stream",
     "text": [
      "100%|██████████| 115/115 [00:09<00:00, 11.90it/s]\n",
      "100%|██████████| 119/119 [00:01<00:00, 61.18it/s]\n",
      "  0%|          | 0/115 [00:00<?, ?it/s]"
     ]
    },
    {
     "name": "stdout",
     "output_type": "stream",
     "text": [
      "Epoch 8, Train loss 0.6269 , Train Accuracy 0.6418, Test loss 1.0594, Test Accuracy 0.4953\n"
     ]
    },
    {
     "name": "stderr",
     "output_type": "stream",
     "text": [
      "100%|██████████| 115/115 [00:09<00:00, 11.97it/s]\n",
      "100%|██████████| 119/119 [00:01<00:00, 61.31it/s]\n",
      "  0%|          | 0/115 [00:00<?, ?it/s]"
     ]
    },
    {
     "name": "stdout",
     "output_type": "stream",
     "text": [
      "Epoch 9, Train loss 0.6293 , Train Accuracy 0.6489, Test loss 1.0143, Test Accuracy 0.5100\n"
     ]
    },
    {
     "name": "stderr",
     "output_type": "stream",
     "text": [
      "100%|██████████| 115/115 [00:09<00:00, 12.03it/s]\n",
      "100%|██████████| 119/119 [00:01<00:00, 61.55it/s]\n",
      "  0%|          | 0/115 [00:00<?, ?it/s]"
     ]
    },
    {
     "name": "stdout",
     "output_type": "stream",
     "text": [
      "Epoch 10, Train loss 0.6273 , Train Accuracy 0.6500, Test loss 1.0545, Test Accuracy 0.5126\n"
     ]
    },
    {
     "name": "stderr",
     "output_type": "stream",
     "text": [
      "100%|██████████| 115/115 [00:09<00:00, 11.92it/s]\n",
      "100%|██████████| 119/119 [00:01<00:00, 62.14it/s]\n",
      "  0%|          | 0/115 [00:00<?, ?it/s]"
     ]
    },
    {
     "name": "stdout",
     "output_type": "stream",
     "text": [
      "Epoch 11, Train loss 0.6167 , Train Accuracy 0.6549, Test loss 1.0249, Test Accuracy 0.5190\n"
     ]
    },
    {
     "name": "stderr",
     "output_type": "stream",
     "text": [
      "100%|██████████| 115/115 [00:09<00:00, 11.88it/s]\n",
      "100%|██████████| 119/119 [00:01<00:00, 61.22it/s]\n",
      "  0%|          | 0/115 [00:00<?, ?it/s]"
     ]
    },
    {
     "name": "stdout",
     "output_type": "stream",
     "text": [
      "Epoch 12, Train loss 0.6088 , Train Accuracy 0.6810, Test loss 1.0137, Test Accuracy 0.5321\n"
     ]
    },
    {
     "name": "stderr",
     "output_type": "stream",
     "text": [
      "100%|██████████| 115/115 [00:09<00:00, 11.89it/s]\n",
      "100%|██████████| 119/119 [00:01<00:00, 61.84it/s]\n",
      "  0%|          | 0/115 [00:00<?, ?it/s]"
     ]
    },
    {
     "name": "stdout",
     "output_type": "stream",
     "text": [
      "Epoch 13, Train loss 0.6140 , Train Accuracy 0.6581, Test loss 1.0191, Test Accuracy 0.5348\n"
     ]
    },
    {
     "name": "stderr",
     "output_type": "stream",
     "text": [
      "100%|██████████| 115/115 [00:09<00:00, 11.97it/s]\n",
      "100%|██████████| 119/119 [00:01<00:00, 61.28it/s]\n",
      "  0%|          | 0/115 [00:00<?, ?it/s]"
     ]
    },
    {
     "name": "stdout",
     "output_type": "stream",
     "text": [
      "Epoch 14, Train loss 0.6049 , Train Accuracy 0.6614, Test loss 1.0829, Test Accuracy 0.5148\n"
     ]
    },
    {
     "name": "stderr",
     "output_type": "stream",
     "text": [
      "100%|██████████| 115/115 [00:09<00:00, 11.98it/s]\n",
      "100%|██████████| 119/119 [00:01<00:00, 60.54it/s]\n",
      "  0%|          | 0/115 [00:00<?, ?it/s]"
     ]
    },
    {
     "name": "stdout",
     "output_type": "stream",
     "text": [
      "Epoch 15, Train loss 0.5995 , Train Accuracy 0.6832, Test loss 1.0698, Test Accuracy 0.5116\n"
     ]
    },
    {
     "name": "stderr",
     "output_type": "stream",
     "text": [
      "100%|██████████| 115/115 [00:09<00:00, 11.95it/s]\n",
      "100%|██████████| 119/119 [00:01<00:00, 62.27it/s]\n",
      "  0%|          | 0/115 [00:00<?, ?it/s]"
     ]
    },
    {
     "name": "stdout",
     "output_type": "stream",
     "text": [
      "Epoch 16, Train loss 0.6044 , Train Accuracy 0.6723, Test loss 1.0709, Test Accuracy 0.5200\n"
     ]
    },
    {
     "name": "stderr",
     "output_type": "stream",
     "text": [
      "100%|██████████| 115/115 [00:09<00:00, 11.98it/s]\n",
      "100%|██████████| 119/119 [00:01<00:00, 61.04it/s]\n",
      "  0%|          | 0/115 [00:00<?, ?it/s]"
     ]
    },
    {
     "name": "stdout",
     "output_type": "stream",
     "text": [
      "Epoch 17, Train loss 0.5899 , Train Accuracy 0.6919, Test loss 1.0711, Test Accuracy 0.5285\n"
     ]
    },
    {
     "name": "stderr",
     "output_type": "stream",
     "text": [
      "100%|██████████| 115/115 [00:09<00:00, 11.98it/s]\n",
      "100%|██████████| 119/119 [00:01<00:00, 61.47it/s]\n",
      "  0%|          | 0/115 [00:00<?, ?it/s]"
     ]
    },
    {
     "name": "stdout",
     "output_type": "stream",
     "text": [
      "Epoch 18, Train loss 0.5859 , Train Accuracy 0.6864, Test loss 1.1680, Test Accuracy 0.5068\n"
     ]
    },
    {
     "name": "stderr",
     "output_type": "stream",
     "text": [
      "100%|██████████| 115/115 [00:09<00:00, 11.87it/s]\n",
      "100%|██████████| 119/119 [00:01<00:00, 61.71it/s]\n",
      "  0%|          | 0/115 [00:00<?, ?it/s]"
     ]
    },
    {
     "name": "stdout",
     "output_type": "stream",
     "text": [
      "Epoch 19, Train loss 0.5800 , Train Accuracy 0.6903, Test loss 1.0991, Test Accuracy 0.5227\n"
     ]
    },
    {
     "name": "stderr",
     "output_type": "stream",
     "text": [
      "100%|██████████| 115/115 [00:09<00:00, 11.91it/s]\n",
      "100%|██████████| 119/119 [00:01<00:00, 62.41it/s]\n"
     ]
    },
    {
     "name": "stdout",
     "output_type": "stream",
     "text": [
      "Epoch 20, Train loss 0.5798 , Train Accuracy 0.6962, Test loss 1.2969, Test Accuracy 0.4779\n"
     ]
    },
    {
     "data": {
      "image/png": "[encoded data removed]",
      "text/plain": [
       "<Figure size 432x288 with 1 Axes>"
      ]
     },
     "metadata": {
      "needs_background": "light"
     },
     "output_type": "display_data"
    },
    {
     "data": {
      "image/png": "[encoded data removed]",
      "text/plain": [
       "<Figure size 432x288 with 1 Axes>"
      ]
     },
     "metadata": {
      "needs_background": "light"
     },
     "output_type": "display_data"
    }
   ],
   "source": [
    "train_from_scratch()"
   ]
  },
  {
   "cell_type": "markdown",
   "metadata": {},
   "source": [
    "Training from scratch on such small dataset, the model is quickly over-fitted and performs random results on the testing set. But if load the first few layers' parameters of the pre-trained feature extractor and freeze some layers' parameters, the downstream classifier can still classify the test set to some degree. \n",
    "\n",
    "Since the training set is too small and the testing results are easy to be affected by different model initialization, we do the experiments on multiple training sets and compute the average accuracy to reduce biad.  \n",
    "\n",
    "More downstram transfer learning results can be found in the folder ./example_res/tuh_tf_results \n",
    "\n",
    "We conduct transfer learning on three different small training sets, and test on one testing set. We tried different combinations of numbers of layers to transfer and different layers to freeze. The plot results can be found in the folder ./images"
   ]
  }
 ],
 "metadata": {
  "kernelspec": {
   "display_name": "PyTorch",
   "language": "python",
   "name": "pytorch"
  },
  "language_info": {
   "codemirror_mode": {
    "name": "ipython",
    "version": 3
   },
   "file_extension": ".py",
   "mimetype": "text/x-python",
   "name": "python",
   "nbconvert_exporter": "python",
   "pygments_lexer": "ipython3",
   "version": "3.8.8"
  }
 },
 "nbformat": 4,
 "nbformat_minor": 4
}
