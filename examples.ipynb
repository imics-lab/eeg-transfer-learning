{
 "cells": [
  {
   "cell_type": "markdown",
   "metadata": {},
   "source": [
    "### Here are some example codes on how to conduct experiments describe in the paper"
   ]
  },
  {
   "cell_type": "markdown",
   "metadata": {},
   "source": [
    "### Example 1: load pre-trained feature extractor, transfer to a small set of TUH Normal/Abnormal dataset. "
   ]
  },
  {
   "cell_type": "code",
   "execution_count": 93,
   "metadata": {},
   "outputs": [],
   "source": [
    "# This example shows how to load the pre-trained feature extractor parameters and how to pick certain numbers of layers to transfer\n",
    "# The transfer learning results are compared with the resutls training the classifier from scratch \n",
    "# The small set of TUH Normal/Abnormal dataset has 30 normal recordings and 30 abnormal recordings \n",
    "# The total number of data samples is 11226\n",
    "# We use cross validation KFOLD=5 to split the training set and testing set in each fold"
   ]
  },
  {
   "cell_type": "code",
   "execution_count": 94,
   "metadata": {},
   "outputs": [],
   "source": [
    "#import necessary libraries\n",
    "import torch\n",
    "from torch import optim\n",
    "from torch.utils import data\n",
    "from torch import nn\n",
    "import numpy as np\n",
    "from tqdm import tqdm\n",
    "from sklearn.model_selection import KFold\n",
    "\n",
    "from downstream.TUH_edf import TUH_Normal_Abnormal\n",
    "from models import Supervised_TUH"
   ]
  },
  {
   "cell_type": "code",
   "execution_count": 95,
   "metadata": {},
   "outputs": [],
   "source": [
    "device = torch.device(\"cuda\" if torch.cuda.is_available() else \"cpu\")"
   ]
  },
  {
   "cell_type": "code",
   "execution_count": 96,
   "metadata": {},
   "outputs": [
    {
     "data": {
      "text/plain": [
       "<torch._C.Generator at 0x7f374012e6f0>"
      ]
     },
     "execution_count": 96,
     "metadata": {},
     "output_type": "execute_result"
    }
   ],
   "source": [
    "torch.manual_seed(0)"
   ]
  },
  {
   "cell_type": "code",
   "execution_count": 97,
   "metadata": {},
   "outputs": [],
   "source": [
    "# define some training settings\n",
    "batch_size = 32\n",
    "num_workers = 16\n",
    "epochs = 50\n",
    "seed = 42 \n",
    "learning_rate = 5e-5\n",
    "model_path = './saved_models/tuh_all_ckp.pt'\n",
    "normal_filename_path = './downstream/tuh_normal.txt'\n",
    "abnormal_filename_path = './downstream/tuh_abnormal.txt'\n",
    "layers_to_transfer = 3\n",
    "folds = 5"
   ]
  },
  {
   "cell_type": "code",
   "execution_count": 98,
   "metadata": {},
   "outputs": [],
   "source": [
    "def train_test_loop(train_loader, test_loader, model, n_epochs, lr):\n",
    "    optimizer = optim.Adam(model.parameters(), lr=lr)\n",
    "    criterion = nn.BCELoss()\n",
    "    scheduler = torch.optim.lr_scheduler.StepLR(optimizer, step_size=10, gamma=0.95)\n",
    "\n",
    "    #Run the training loop for defined number of epochs\n",
    "    train_losses = []\n",
    "    test_losses = []\n",
    "    train_acces = []\n",
    "    test_acces = []\n",
    "    for epoch in range(1, n_epochs+1):\n",
    "        train_loss, train_acc = _train_loss(model, train_loader, optimizer, criterion)\n",
    "        train_losses.append(train_loss)\n",
    "        train_acces.append(train_acc)\n",
    "        test_loss, test_acc = _eval_loss(model, test_loader, criterion)\n",
    "        test_losses.append(test_loss)\n",
    "        test_acces.append(test_acc)\n",
    "        print(f'Epoch {epoch}, Train loss {train_loss:.4f} , Train Accuracy {train_acc:.4f}, Test loss {test_loss:.4f}, Test Accuracy {test_acc:.4f}')\n",
    "        scheduler.step()\n",
    "\n",
    "    return train_losses, test_losses, train_acces, test_acces\n",
    "    \n",
    "    \n",
    "def _train_loss(model, train_loader, optimizer, criterion):\n",
    "    model.train()\n",
    "    total_loss = 0.0\n",
    "    correct, total = 0, 0\n",
    "    \n",
    "    for i, data in enumerate(tqdm(train_loader)):\n",
    "        x, y = data\n",
    "        x, y = x.to(device, dtype=torch.float), y.to(device, dtype=torch.float)\n",
    "        optimizer.zero_grad()\n",
    "        out = model(x)\n",
    "        \n",
    "        loss = criterion(out, y)\n",
    "        loss.backward()\n",
    "        optimizer.step()\n",
    "        total_loss += loss.item()\n",
    "   \n",
    "        predicted = out.data.to('cpu')\n",
    "        predicted = predicted.reshape(-1).detach().numpy().round()\n",
    "        target = y.to('cpu')\n",
    "        target = target.reshape(-1).detach().numpy()\n",
    "        total += len(target)\n",
    "        correct += sum(p == t for p, t in zip(predicted, target))\n",
    "    \n",
    "    epoch_train_loss = total_loss / len(train_loader)\n",
    "    train_acc = correct / total\n",
    "    \n",
    "    return epoch_train_loss, train_acc\n",
    "\n",
    "\n",
    "def _eval_loss(model, test_loader, criterion):\n",
    "    model.eval()\n",
    "    running_loss = 0.0\n",
    "    correct, total = 0, 0\n",
    "    \n",
    "    with torch.no_grad():\n",
    "        for i, data in enumerate(tqdm(test_loader)):\n",
    "            x, y = data           \n",
    "            x, y = x.to(device, dtype=torch.float), y.to(device, dtype=torch.float)\n",
    "            out = model(x)\n",
    "            \n",
    "            loss = criterion(out, y)\n",
    "            running_loss += loss.item()\n",
    "            \n",
    "            predicted = out.data.to('cpu') \n",
    "            predicted = predicted.reshape(-1).detach().numpy().round()\n",
    "            y = y.to('cpu')\n",
    "            y = y.reshape(-1).detach().numpy()\n",
    "            total += len(y)\n",
    "            correct += sum(p == t for p, t in zip(predicted, y))\n",
    "            \n",
    "        epoch_test_loss = running_loss / len(test_loader)\n",
    "        test_acc = correct / total\n",
    "        \n",
    "\n",
    "    return epoch_test_loss, test_acc"
   ]
  },
  {
   "cell_type": "code",
   "execution_count": 99,
   "metadata": {},
   "outputs": [],
   "source": [
    "import matplotlib.pyplot as plt\n",
    "def _plot_losses(train_losses, test_losses, title='train and test losses'):\n",
    "    plt.plot(train_losses, label='train_loss')\n",
    "    plt.plot(test_losses, label='test_loss')\n",
    "    plt.title(title)\n",
    "    plt.legend()\n",
    "    plt.show()\n",
    "\n",
    "def _plot_acces(train_acces, test_acces, title='train and test acces'):\n",
    "    plt.plot(train_acces, label='train_acc')\n",
    "    plt.plot(test_acces, label='test_acc')\n",
    "    plt.title(title)\n",
    "    plt.legend()\n",
    "    plt.show()"
   ]
  },
  {
   "cell_type": "code",
   "execution_count": 100,
   "metadata": {},
   "outputs": [],
   "source": [
    "def transfer_learning():\n",
    "    \n",
    "    #Load Dataset\n",
    "    dataset = TUH_Normal_Abnormal(normal_filename=normal_filename_path, abnormal_filename =abnormal_filename_path)\n",
    "    \n",
    "    \n",
    "    kfold = KFold(n_splits=folds, shuffle=True)\n",
    "    \n",
    "    results = {}\n",
    "    \n",
    "    for fold, (train_ids, test_ids) in enumerate(kfold.split(dataset)):\n",
    "        print(f'Fold = {fold + 1}')\n",
    "        train_subsampler = torch.utils.data.SubsetRandomSampler(train_ids)\n",
    "        test_subsampler = torch.utils.data.SubsetRandomSampler(test_ids)\n",
    "        \n",
    "        train_loader = torch.utils.data.DataLoader(dataset, batch_size = batch_size, sampler=train_subsampler)\n",
    "        test_loader = torch.utils.data.DataLoader(dataset, batch_size= batch_size, sampler=test_subsampler)\n",
    "        \n",
    "        #Initial model \n",
    "        model = Supervised_TUH()\n",
    "\n",
    "        #Load pre-trained parameters\n",
    "        pretrained_dict = torch.load(model_path) \n",
    "        pretrained_param_names = list(pretrained_dict.keys())\n",
    "        model_dict = model.state_dict()\n",
    "        model_param_names = list(model_dict.keys())\n",
    "\n",
    "        # Load the first three layers' parameters\n",
    "        # Note: One layer here corresponds to 4 layers in the model, they are  ... layers\n",
    "        for i, _ in enumerate(pretrained_param_names[:layers_to_transfer * 4]):\n",
    "            model_dict[model_param_names[i]] = pretrained_dict[pretrained_param_names[i]]\n",
    "        \n",
    "        model.load_state_dict(model_dict)\n",
    "            \n",
    "        model.to(device)\n",
    "    \n",
    "        train_losses, test_losses, train_acces, test_acces = train_test_loop(train_loader, test_loader, model, n_epochs=epochs, lr=learning_rate)\n",
    "        results[fold] = max(test_acces)\n",
    "        \n",
    "        _plot_losses(train_losses, test_losses)\n",
    "        _plot_acces(train_acces, test_acces)\n",
    "        \n",
    "    sum = 0.0    \n",
    "    for key, value in results.items():\n",
    "        print(f'Fold {key}: {value} %\\n')\n",
    "        sum += value\n",
    "    print(f'Average: {sum/len(results.items())} %\\n') \n",
    "    "
   ]
  },
  {
   "cell_type": "code",
   "execution_count": 101,
   "metadata": {},
   "outputs": [],
   "source": [
    "def train_from_sratch():\n",
    "    #Load Dataset\n",
    "    dataset = TUH_Normal_Abnormal(normal_filename=normal_filename_path, abnormal_filename =abnormal_filename_path)\n",
    "    \n",
    "    \n",
    "    kfold = KFold(n_splits=folds, shuffle=True)\n",
    "    \n",
    "    results = {}\n",
    "    \n",
    "    for fold, (train_ids, test_ids) in enumerate(kfold.split(dataset)):\n",
    "        print(f'Fold = {fold + 1}')\n",
    "        train_subsampler = torch.utils.data.SubsetRandomSampler(train_ids)\n",
    "        test_subsampler = torch.utils.data.SubsetRandomSampler(test_ids)\n",
    "        \n",
    "        train_loader = torch.utils.data.DataLoader(dataset, batch_size = batch_size, sampler=train_subsampler)\n",
    "        test_loader = torch.utils.data.DataLoader(dataset, batch_size= batch_size, sampler=test_subsampler)\n",
    "        \n",
    "        #Initial model \n",
    "        model = Supervised_TUH()\n",
    "        model.to(device)\n",
    "    \n",
    "        train_losses, test_losses, train_acces, test_acces = train_test_loop(train_loader, test_loader, model, n_epochs=epochs, lr=learning_rate)\n",
    "        results[fold] = max(test_acces)\n",
    "        \n",
    "        _plot_losses(train_losses, test_losses)\n",
    "        _plot_acces(train_acces, test_acces)\n",
    "        \n",
    "    sum = 0.0    \n",
    "    for key, value in results.items():\n",
    "        print(f'Fold {key}: {value} %\\n')\n",
    "        sum += value\n",
    "    print(f'Average: {sum/len(results.items())} %\\n') \n",
    "\n"
   ]
  },
  {
   "cell_type": "code",
   "execution_count": null,
   "metadata": {},
   "outputs": [
    {
     "name": "stderr",
     "output_type": "stream",
     "text": [
      "100%|██████████| 30/30 [00:20<00:00,  1.48it/s]\n",
      "100%|██████████| 30/30 [00:20<00:00,  1.50it/s]\n",
      "  0%|          | 1/281 [00:00<00:37,  7.44it/s]"
     ]
    },
    {
     "name": "stdout",
     "output_type": "stream",
     "text": [
      "(11226, 1, 19, 1500)\n",
      "(11226, 1)\n",
      "Fold = 1\n"
     ]
    },
    {
     "name": "stderr",
     "output_type": "stream",
     "text": [
      "100%|██████████| 281/281 [00:31<00:00,  8.91it/s]\n",
      "100%|██████████| 71/71 [00:01<00:00, 45.94it/s]\n",
      "  0%|          | 1/281 [00:00<00:34,  8.22it/s]"
     ]
    },
    {
     "name": "stdout",
     "output_type": "stream",
     "text": [
      "Epoch 1, Train loss 0.7166 , Train Accuracy 0.5245, Test loss 0.7619, Test Accuracy 0.5436\n"
     ]
    },
    {
     "name": "stderr",
     "output_type": "stream",
     "text": [
      "100%|██████████| 281/281 [00:31<00:00,  8.87it/s]\n",
      "100%|██████████| 71/71 [00:01<00:00, 45.73it/s]\n",
      "  0%|          | 1/281 [00:00<00:33,  8.35it/s]"
     ]
    },
    {
     "name": "stdout",
     "output_type": "stream",
     "text": [
      "Epoch 2, Train loss 0.6873 , Train Accuracy 0.5678, Test loss 0.8248, Test Accuracy 0.5485\n"
     ]
    },
    {
     "name": "stderr",
     "output_type": "stream",
     "text": [
      "100%|██████████| 281/281 [00:31<00:00,  8.83it/s]\n",
      "100%|██████████| 71/71 [00:01<00:00, 45.53it/s]\n",
      "  0%|          | 1/281 [00:00<00:33,  8.41it/s]"
     ]
    },
    {
     "name": "stdout",
     "output_type": "stream",
     "text": [
      "Epoch 3, Train loss 0.6754 , Train Accuracy 0.5824, Test loss 0.6559, Test Accuracy 0.6238\n"
     ]
    },
    {
     "name": "stderr",
     "output_type": "stream",
     "text": [
      "100%|██████████| 281/281 [00:32<00:00,  8.78it/s]\n",
      "100%|██████████| 71/71 [00:01<00:00, 44.23it/s]\n",
      "  0%|          | 1/281 [00:00<00:34,  8.17it/s]"
     ]
    },
    {
     "name": "stdout",
     "output_type": "stream",
     "text": [
      "Epoch 4, Train loss 0.6681 , Train Accuracy 0.5894, Test loss 0.6291, Test Accuracy 0.6545\n"
     ]
    },
    {
     "name": "stderr",
     "output_type": "stream",
     "text": [
      "100%|██████████| 281/281 [00:31<00:00,  8.79it/s]\n",
      "100%|██████████| 71/71 [00:01<00:00, 44.21it/s]\n",
      "  0%|          | 0/281 [00:00<?, ?it/s]"
     ]
    },
    {
     "name": "stdout",
     "output_type": "stream",
     "text": [
      "Epoch 5, Train loss 0.6572 , Train Accuracy 0.6052, Test loss 0.6259, Test Accuracy 0.6714\n"
     ]
    },
    {
     "name": "stderr",
     "output_type": "stream",
     "text": [
      "100%|██████████| 281/281 [00:32<00:00,  8.73it/s]\n",
      "100%|██████████| 71/71 [00:01<00:00, 44.25it/s]\n",
      "  0%|          | 1/281 [00:00<00:33,  8.31it/s]"
     ]
    },
    {
     "name": "stdout",
     "output_type": "stream",
     "text": [
      "Epoch 6, Train loss 0.6488 , Train Accuracy 0.6145, Test loss 0.6167, Test Accuracy 0.6883\n"
     ]
    },
    {
     "name": "stderr",
     "output_type": "stream",
     "text": [
      "100%|██████████| 281/281 [00:31<00:00,  8.79it/s]\n",
      "100%|██████████| 71/71 [00:01<00:00, 44.28it/s]\n",
      "  0%|          | 1/281 [00:00<00:35,  7.98it/s]"
     ]
    },
    {
     "name": "stdout",
     "output_type": "stream",
     "text": [
      "Epoch 7, Train loss 0.6396 , Train Accuracy 0.6322, Test loss 0.6203, Test Accuracy 0.6825\n"
     ]
    },
    {
     "name": "stderr",
     "output_type": "stream",
     "text": [
      "100%|██████████| 281/281 [00:31<00:00,  8.80it/s]\n",
      "100%|██████████| 71/71 [00:01<00:00, 43.44it/s]\n",
      "  0%|          | 1/281 [00:00<00:34,  8.00it/s]"
     ]
    },
    {
     "name": "stdout",
     "output_type": "stream",
     "text": [
      "Epoch 8, Train loss 0.6327 , Train Accuracy 0.6439, Test loss 0.6139, Test Accuracy 0.6950\n"
     ]
    },
    {
     "name": "stderr",
     "output_type": "stream",
     "text": [
      "100%|██████████| 281/281 [00:31<00:00,  8.79it/s]\n",
      "100%|██████████| 71/71 [00:01<00:00, 44.38it/s]\n",
      "  0%|          | 1/281 [00:00<00:33,  8.35it/s]"
     ]
    },
    {
     "name": "stdout",
     "output_type": "stream",
     "text": [
      "Epoch 9, Train loss 0.6303 , Train Accuracy 0.6469, Test loss 0.6197, Test Accuracy 0.6901\n"
     ]
    },
    {
     "name": "stderr",
     "output_type": "stream",
     "text": [
      "100%|██████████| 281/281 [00:32<00:00,  8.76it/s]\n",
      "100%|██████████| 71/71 [00:01<00:00, 43.82it/s]\n",
      "  0%|          | 1/281 [00:00<00:34,  8.08it/s]"
     ]
    },
    {
     "name": "stdout",
     "output_type": "stream",
     "text": [
      "Epoch 10, Train loss 0.6296 , Train Accuracy 0.6503, Test loss 0.6254, Test Accuracy 0.7124\n"
     ]
    },
    {
     "name": "stderr",
     "output_type": "stream",
     "text": [
      "100%|██████████| 281/281 [00:32<00:00,  8.76it/s]\n",
      "100%|██████████| 71/71 [00:01<00:00, 43.10it/s]\n",
      "  0%|          | 1/281 [00:00<00:34,  8.09it/s]"
     ]
    },
    {
     "name": "stdout",
     "output_type": "stream",
     "text": [
      "Epoch 11, Train loss 0.6195 , Train Accuracy 0.6557, Test loss 0.6116, Test Accuracy 0.7048\n"
     ]
    },
    {
     "name": "stderr",
     "output_type": "stream",
     "text": [
      "100%|██████████| 281/281 [00:32<00:00,  8.76it/s]\n",
      "100%|██████████| 71/71 [00:01<00:00, 43.82it/s]\n",
      "  0%|          | 1/281 [00:00<00:34,  8.12it/s]"
     ]
    },
    {
     "name": "stdout",
     "output_type": "stream",
     "text": [
      "Epoch 12, Train loss 0.6214 , Train Accuracy 0.6575, Test loss 0.6226, Test Accuracy 0.6977\n"
     ]
    },
    {
     "name": "stderr",
     "output_type": "stream",
     "text": [
      "100%|██████████| 281/281 [00:32<00:00,  8.73it/s]\n",
      "100%|██████████| 71/71 [00:01<00:00, 44.00it/s]\n",
      "  0%|          | 1/281 [00:00<00:34,  8.08it/s]"
     ]
    },
    {
     "name": "stdout",
     "output_type": "stream",
     "text": [
      "Epoch 13, Train loss 0.6104 , Train Accuracy 0.6687, Test loss 0.6228, Test Accuracy 0.7137\n"
     ]
    },
    {
     "name": "stderr",
     "output_type": "stream",
     "text": [
      "100%|██████████| 281/281 [00:32<00:00,  8.70it/s]\n",
      "100%|██████████| 71/71 [00:01<00:00, 43.44it/s]\n",
      "  0%|          | 1/281 [00:00<00:34,  8.08it/s]"
     ]
    },
    {
     "name": "stdout",
     "output_type": "stream",
     "text": [
      "Epoch 14, Train loss 0.6099 , Train Accuracy 0.6723, Test loss 0.6128, Test Accuracy 0.7128\n"
     ]
    },
    {
     "name": "stderr",
     "output_type": "stream",
     "text": [
      "100%|██████████| 281/281 [00:32<00:00,  8.72it/s]\n",
      "100%|██████████| 71/71 [00:01<00:00, 43.92it/s]\n",
      "  0%|          | 1/281 [00:00<00:34,  8.12it/s]"
     ]
    },
    {
     "name": "stdout",
     "output_type": "stream",
     "text": [
      "Epoch 15, Train loss 0.6091 , Train Accuracy 0.6719, Test loss 0.6484, Test Accuracy 0.7048\n"
     ]
    },
    {
     "name": "stderr",
     "output_type": "stream",
     "text": [
      "100%|██████████| 281/281 [00:32<00:00,  8.68it/s]\n",
      "100%|██████████| 71/71 [00:01<00:00, 43.08it/s]\n",
      "  0%|          | 0/281 [00:00<?, ?it/s]"
     ]
    },
    {
     "name": "stdout",
     "output_type": "stream",
     "text": [
      "Epoch 16, Train loss 0.6069 , Train Accuracy 0.6732, Test loss 0.6246, Test Accuracy 0.7128\n"
     ]
    },
    {
     "name": "stderr",
     "output_type": "stream",
     "text": [
      "100%|██████████| 281/281 [00:32<00:00,  8.69it/s]\n",
      "100%|██████████| 71/71 [00:01<00:00, 43.05it/s]\n",
      "  0%|          | 1/281 [00:00<00:34,  8.14it/s]"
     ]
    },
    {
     "name": "stdout",
     "output_type": "stream",
     "text": [
      "Epoch 17, Train loss 0.5994 , Train Accuracy 0.6741, Test loss 0.6119, Test Accuracy 0.7231\n"
     ]
    },
    {
     "name": "stderr",
     "output_type": "stream",
     "text": [
      "100%|██████████| 281/281 [00:32<00:00,  8.73it/s]\n",
      "100%|██████████| 71/71 [00:01<00:00, 41.76it/s]\n",
      "  0%|          | 1/281 [00:00<00:35,  7.89it/s]"
     ]
    },
    {
     "name": "stdout",
     "output_type": "stream",
     "text": [
      "Epoch 18, Train loss 0.5960 , Train Accuracy 0.6885, Test loss 0.6200, Test Accuracy 0.7146\n"
     ]
    },
    {
     "name": "stderr",
     "output_type": "stream",
     "text": [
      "100%|██████████| 281/281 [00:32<00:00,  8.72it/s]\n",
      "100%|██████████| 71/71 [00:01<00:00, 43.59it/s]\n",
      "  0%|          | 1/281 [00:00<00:34,  8.13it/s]"
     ]
    },
    {
     "name": "stdout",
     "output_type": "stream",
     "text": [
      "Epoch 19, Train loss 0.5937 , Train Accuracy 0.6915, Test loss 0.6170, Test Accuracy 0.7137\n"
     ]
    },
    {
     "name": "stderr",
     "output_type": "stream",
     "text": [
      "100%|██████████| 281/281 [00:32<00:00,  8.76it/s]\n",
      "100%|██████████| 71/71 [00:01<00:00, 44.18it/s]\n",
      "  0%|          | 1/281 [00:00<00:34,  8.15it/s]"
     ]
    },
    {
     "name": "stdout",
     "output_type": "stream",
     "text": [
      "Epoch 20, Train loss 0.5915 , Train Accuracy 0.6915, Test loss 0.6037, Test Accuracy 0.7217\n"
     ]
    },
    {
     "name": "stderr",
     "output_type": "stream",
     "text": [
      "100%|██████████| 281/281 [00:32<00:00,  8.77it/s]\n",
      "100%|██████████| 71/71 [00:01<00:00, 44.47it/s]\n",
      "  0%|          | 1/281 [00:00<00:33,  8.35it/s]"
     ]
    },
    {
     "name": "stdout",
     "output_type": "stream",
     "text": [
      "Epoch 21, Train loss 0.5875 , Train Accuracy 0.6918, Test loss 0.6085, Test Accuracy 0.7271\n"
     ]
    },
    {
     "name": "stderr",
     "output_type": "stream",
     "text": [
      "100%|██████████| 281/281 [00:31<00:00,  8.81it/s]\n",
      "100%|██████████| 71/71 [00:01<00:00, 44.12it/s]\n",
      "  0%|          | 1/281 [00:00<00:34,  8.10it/s]"
     ]
    },
    {
     "name": "stdout",
     "output_type": "stream",
     "text": [
      "Epoch 22, Train loss 0.5870 , Train Accuracy 0.6923, Test loss 0.5987, Test Accuracy 0.7262\n"
     ]
    },
    {
     "name": "stderr",
     "output_type": "stream",
     "text": [
      "100%|██████████| 281/281 [00:32<00:00,  8.75it/s]\n",
      "100%|██████████| 71/71 [00:01<00:00, 44.46it/s]\n",
      "  0%|          | 1/281 [00:00<00:33,  8.26it/s]"
     ]
    },
    {
     "name": "stdout",
     "output_type": "stream",
     "text": [
      "Epoch 23, Train loss 0.5867 , Train Accuracy 0.6970, Test loss 0.6064, Test Accuracy 0.7244\n"
     ]
    },
    {
     "name": "stderr",
     "output_type": "stream",
     "text": [
      "100%|██████████| 281/281 [00:32<00:00,  8.77it/s]\n",
      "100%|██████████| 71/71 [00:01<00:00, 43.19it/s]\n",
      "  0%|          | 1/281 [00:00<00:34,  8.20it/s]"
     ]
    },
    {
     "name": "stdout",
     "output_type": "stream",
     "text": [
      "Epoch 24, Train loss 0.5850 , Train Accuracy 0.6901, Test loss 0.6150, Test Accuracy 0.7244\n"
     ]
    },
    {
     "name": "stderr",
     "output_type": "stream",
     "text": [
      "100%|██████████| 281/281 [00:32<00:00,  8.76it/s]\n",
      "100%|██████████| 71/71 [00:01<00:00, 43.29it/s]\n",
      "  0%|          | 1/281 [00:00<00:33,  8.28it/s]"
     ]
    },
    {
     "name": "stdout",
     "output_type": "stream",
     "text": [
      "Epoch 25, Train loss 0.5792 , Train Accuracy 0.7004, Test loss 0.6072, Test Accuracy 0.7271\n"
     ]
    },
    {
     "name": "stderr",
     "output_type": "stream",
     "text": [
      "100%|██████████| 281/281 [00:32<00:00,  8.74it/s]\n",
      "100%|██████████| 71/71 [00:01<00:00, 43.69it/s]\n",
      "  0%|          | 1/281 [00:00<00:34,  8.10it/s]"
     ]
    },
    {
     "name": "stdout",
     "output_type": "stream",
     "text": [
      "Epoch 26, Train loss 0.5726 , Train Accuracy 0.7032, Test loss 0.5943, Test Accuracy 0.7346\n"
     ]
    },
    {
     "name": "stderr",
     "output_type": "stream",
     "text": [
      "100%|██████████| 281/281 [00:32<00:00,  8.73it/s]\n",
      "100%|██████████| 71/71 [00:01<00:00, 43.97it/s]\n",
      "  0%|          | 1/281 [00:00<00:34,  8.08it/s]"
     ]
    },
    {
     "name": "stdout",
     "output_type": "stream",
     "text": [
      "Epoch 27, Train loss 0.5744 , Train Accuracy 0.7065, Test loss 0.5902, Test Accuracy 0.7293\n"
     ]
    },
    {
     "name": "stderr",
     "output_type": "stream",
     "text": [
      "100%|██████████| 281/281 [00:32<00:00,  8.74it/s]\n",
      "100%|██████████| 71/71 [00:01<00:00, 39.87it/s]\n",
      "  0%|          | 1/281 [00:00<00:35,  7.97it/s]"
     ]
    },
    {
     "name": "stdout",
     "output_type": "stream",
     "text": [
      "Epoch 28, Train loss 0.5762 , Train Accuracy 0.7031, Test loss 0.5897, Test Accuracy 0.7297\n"
     ]
    },
    {
     "name": "stderr",
     "output_type": "stream",
     "text": [
      "100%|██████████| 281/281 [00:32<00:00,  8.74it/s]\n",
      "100%|██████████| 71/71 [00:01<00:00, 43.45it/s]\n",
      "  0%|          | 1/281 [00:00<00:35,  7.99it/s]"
     ]
    },
    {
     "name": "stdout",
     "output_type": "stream",
     "text": [
      "Epoch 29, Train loss 0.5645 , Train Accuracy 0.7104, Test loss 0.5779, Test Accuracy 0.7333\n"
     ]
    },
    {
     "name": "stderr",
     "output_type": "stream",
     "text": [
      "100%|██████████| 281/281 [00:32<00:00,  8.72it/s]\n",
      "100%|██████████| 71/71 [00:01<00:00, 42.83it/s]\n",
      "  0%|          | 1/281 [00:00<00:34,  8.02it/s]"
     ]
    },
    {
     "name": "stdout",
     "output_type": "stream",
     "text": [
      "Epoch 30, Train loss 0.5674 , Train Accuracy 0.7062, Test loss 0.5866, Test Accuracy 0.7382\n"
     ]
    },
    {
     "name": "stderr",
     "output_type": "stream",
     "text": [
      "100%|██████████| 281/281 [00:32<00:00,  8.74it/s]\n",
      "100%|██████████| 71/71 [00:01<00:00, 42.81it/s]\n",
      "  0%|          | 1/281 [00:00<00:33,  8.26it/s]"
     ]
    },
    {
     "name": "stdout",
     "output_type": "stream",
     "text": [
      "Epoch 31, Train loss 0.5666 , Train Accuracy 0.7088, Test loss 0.5841, Test Accuracy 0.7364\n"
     ]
    },
    {
     "name": "stderr",
     "output_type": "stream",
     "text": [
      "100%|██████████| 281/281 [00:32<00:00,  8.72it/s]\n",
      "100%|██████████| 71/71 [00:01<00:00, 43.11it/s]\n",
      "  0%|          | 1/281 [00:00<00:33,  8.25it/s]"
     ]
    },
    {
     "name": "stdout",
     "output_type": "stream",
     "text": [
      "Epoch 32, Train loss 0.5605 , Train Accuracy 0.7136, Test loss 0.5870, Test Accuracy 0.7373\n"
     ]
    },
    {
     "name": "stderr",
     "output_type": "stream",
     "text": [
      "100%|██████████| 281/281 [00:32<00:00,  8.73it/s]\n",
      "100%|██████████| 71/71 [00:01<00:00, 43.74it/s]\n",
      "  0%|          | 1/281 [00:00<00:34,  8.14it/s]"
     ]
    },
    {
     "name": "stdout",
     "output_type": "stream",
     "text": [
      "Epoch 33, Train loss 0.5675 , Train Accuracy 0.7120, Test loss 0.5772, Test Accuracy 0.7373\n"
     ]
    },
    {
     "name": "stderr",
     "output_type": "stream",
     "text": [
      "100%|██████████| 281/281 [00:32<00:00,  8.76it/s]\n",
      "100%|██████████| 71/71 [00:01<00:00, 41.33it/s]\n",
      "  0%|          | 1/281 [00:00<00:34,  8.07it/s]"
     ]
    },
    {
     "name": "stdout",
     "output_type": "stream",
     "text": [
      "Epoch 34, Train loss 0.5625 , Train Accuracy 0.7115, Test loss 0.5747, Test Accuracy 0.7449\n"
     ]
    },
    {
     "name": "stderr",
     "output_type": "stream",
     "text": [
      "100%|██████████| 281/281 [00:32<00:00,  8.77it/s]\n",
      "100%|██████████| 71/71 [00:01<00:00, 43.14it/s]\n",
      "  0%|          | 1/281 [00:00<00:34,  8.05it/s]"
     ]
    },
    {
     "name": "stdout",
     "output_type": "stream",
     "text": [
      "Epoch 35, Train loss 0.5576 , Train Accuracy 0.7218, Test loss 0.5837, Test Accuracy 0.7400\n"
     ]
    },
    {
     "name": "stderr",
     "output_type": "stream",
     "text": [
      "100%|██████████| 281/281 [00:32<00:00,  8.74it/s]\n",
      "100%|██████████| 71/71 [00:01<00:00, 43.78it/s]\n",
      "  0%|          | 1/281 [00:00<00:34,  8.05it/s]"
     ]
    },
    {
     "name": "stdout",
     "output_type": "stream",
     "text": [
      "Epoch 36, Train loss 0.5588 , Train Accuracy 0.7178, Test loss 0.5943, Test Accuracy 0.7320\n"
     ]
    },
    {
     "name": "stderr",
     "output_type": "stream",
     "text": [
      "100%|██████████| 281/281 [00:32<00:00,  8.75it/s]\n",
      "100%|██████████| 71/71 [00:01<00:00, 44.42it/s]\n",
      "  0%|          | 0/281 [00:00<?, ?it/s]"
     ]
    },
    {
     "name": "stdout",
     "output_type": "stream",
     "text": [
      "Epoch 37, Train loss 0.5579 , Train Accuracy 0.7164, Test loss 0.5799, Test Accuracy 0.7386\n"
     ]
    },
    {
     "name": "stderr",
     "output_type": "stream",
     "text": [
      "100%|██████████| 281/281 [00:32<00:00,  8.70it/s]\n",
      "100%|██████████| 71/71 [00:01<00:00, 43.53it/s]\n",
      "  0%|          | 1/281 [00:00<00:34,  8.21it/s]"
     ]
    },
    {
     "name": "stdout",
     "output_type": "stream",
     "text": [
      "Epoch 38, Train loss 0.5530 , Train Accuracy 0.7203, Test loss 0.5824, Test Accuracy 0.7400\n"
     ]
    },
    {
     "name": "stderr",
     "output_type": "stream",
     "text": [
      "100%|██████████| 281/281 [00:32<00:00,  8.75it/s]\n",
      "100%|██████████| 71/71 [00:01<00:00, 43.03it/s]\n",
      "  0%|          | 1/281 [00:00<00:34,  8.14it/s]"
     ]
    },
    {
     "name": "stdout",
     "output_type": "stream",
     "text": [
      "Epoch 39, Train loss 0.5523 , Train Accuracy 0.7173, Test loss 0.5657, Test Accuracy 0.7449\n"
     ]
    },
    {
     "name": "stderr",
     "output_type": "stream",
     "text": [
      "100%|██████████| 281/281 [00:32<00:00,  8.76it/s]\n",
      "100%|██████████| 71/71 [00:01<00:00, 44.01it/s]\n",
      "  0%|          | 1/281 [00:00<00:34,  8.13it/s]"
     ]
    },
    {
     "name": "stdout",
     "output_type": "stream",
     "text": [
      "Epoch 40, Train loss 0.5537 , Train Accuracy 0.7203, Test loss 0.5646, Test Accuracy 0.7382\n"
     ]
    },
    {
     "name": "stderr",
     "output_type": "stream",
     "text": [
      "100%|██████████| 281/281 [00:32<00:00,  8.72it/s]\n",
      "100%|██████████| 71/71 [00:01<00:00, 44.20it/s]\n",
      "  0%|          | 1/281 [00:00<00:33,  8.26it/s]"
     ]
    },
    {
     "name": "stdout",
     "output_type": "stream",
     "text": [
      "Epoch 41, Train loss 0.5488 , Train Accuracy 0.7277, Test loss 0.5725, Test Accuracy 0.7418\n"
     ]
    },
    {
     "name": "stderr",
     "output_type": "stream",
     "text": [
      "100%|██████████| 281/281 [00:32<00:00,  8.73it/s]\n",
      "100%|██████████| 71/71 [00:01<00:00, 44.16it/s]\n",
      "  0%|          | 1/281 [00:00<00:34,  8.14it/s]"
     ]
    },
    {
     "name": "stdout",
     "output_type": "stream",
     "text": [
      "Epoch 42, Train loss 0.5505 , Train Accuracy 0.7187, Test loss 0.5811, Test Accuracy 0.7378\n"
     ]
    },
    {
     "name": "stderr",
     "output_type": "stream",
     "text": [
      "100%|██████████| 281/281 [00:32<00:00,  8.75it/s]\n",
      "100%|██████████| 71/71 [00:01<00:00, 43.90it/s]\n",
      "  0%|          | 1/281 [00:00<00:36,  7.68it/s]"
     ]
    },
    {
     "name": "stdout",
     "output_type": "stream",
     "text": [
      "Epoch 43, Train loss 0.5458 , Train Accuracy 0.7238, Test loss 0.5930, Test Accuracy 0.7395\n"
     ]
    },
    {
     "name": "stderr",
     "output_type": "stream",
     "text": [
      "100%|██████████| 281/281 [00:32<00:00,  8.71it/s]\n",
      "100%|██████████| 71/71 [00:01<00:00, 43.78it/s]\n",
      "  0%|          | 1/281 [00:00<00:34,  8.11it/s]"
     ]
    },
    {
     "name": "stdout",
     "output_type": "stream",
     "text": [
      "Epoch 44, Train loss 0.5489 , Train Accuracy 0.7245, Test loss 0.5734, Test Accuracy 0.7435\n"
     ]
    },
    {
     "name": "stderr",
     "output_type": "stream",
     "text": [
      "100%|██████████| 281/281 [00:32<00:00,  8.73it/s]\n",
      "100%|██████████| 71/71 [00:01<00:00, 43.20it/s]\n",
      "  0%|          | 1/281 [00:00<00:34,  8.22it/s]"
     ]
    },
    {
     "name": "stdout",
     "output_type": "stream",
     "text": [
      "Epoch 45, Train loss 0.5410 , Train Accuracy 0.7306, Test loss 0.5804, Test Accuracy 0.7373\n"
     ]
    },
    {
     "name": "stderr",
     "output_type": "stream",
     "text": [
      "100%|██████████| 281/281 [00:32<00:00,  8.76it/s]\n",
      "100%|██████████| 71/71 [00:01<00:00, 43.51it/s]\n",
      "  0%|          | 1/281 [00:00<00:33,  8.27it/s]"
     ]
    },
    {
     "name": "stdout",
     "output_type": "stream",
     "text": [
      "Epoch 46, Train loss 0.5415 , Train Accuracy 0.7293, Test loss 0.5807, Test Accuracy 0.7440\n"
     ]
    },
    {
     "name": "stderr",
     "output_type": "stream",
     "text": [
      "100%|██████████| 281/281 [00:32<00:00,  8.75it/s]\n",
      "100%|██████████| 71/71 [00:01<00:00, 43.96it/s]\n",
      "  0%|          | 1/281 [00:00<00:33,  8.37it/s]"
     ]
    },
    {
     "name": "stdout",
     "output_type": "stream",
     "text": [
      "Epoch 47, Train loss 0.5434 , Train Accuracy 0.7264, Test loss 0.5644, Test Accuracy 0.7458\n"
     ]
    },
    {
     "name": "stderr",
     "output_type": "stream",
     "text": [
      "100%|██████████| 281/281 [00:32<00:00,  8.73it/s]\n",
      "100%|██████████| 71/71 [00:01<00:00, 43.55it/s]\n",
      "  0%|          | 0/281 [00:00<?, ?it/s]"
     ]
    },
    {
     "name": "stdout",
     "output_type": "stream",
     "text": [
      "Epoch 48, Train loss 0.5447 , Train Accuracy 0.7276, Test loss 0.5630, Test Accuracy 0.7498\n"
     ]
    },
    {
     "name": "stderr",
     "output_type": "stream",
     "text": [
      "100%|██████████| 281/281 [00:32<00:00,  8.70it/s]\n",
      "100%|██████████| 71/71 [00:01<00:00, 43.09it/s]\n",
      "  0%|          | 1/281 [00:00<00:34,  8.10it/s]"
     ]
    },
    {
     "name": "stdout",
     "output_type": "stream",
     "text": [
      "Epoch 49, Train loss 0.5391 , Train Accuracy 0.7306, Test loss 0.5790, Test Accuracy 0.7493\n"
     ]
    },
    {
     "name": "stderr",
     "output_type": "stream",
     "text": [
      "100%|██████████| 281/281 [00:32<00:00,  8.76it/s]\n",
      "100%|██████████| 71/71 [00:01<00:00, 44.20it/s]\n"
     ]
    },
    {
     "name": "stdout",
     "output_type": "stream",
     "text": [
      "Epoch 50, Train loss 0.5340 , Train Accuracy 0.7347, Test loss 0.5668, Test Accuracy 0.7520\n"
     ]
    },
    {
     "data": {
      "image/png": "[encoded data removed]",
      "text/plain": [
       "<Figure size 432x288 with 1 Axes>"
      ]
     },
     "metadata": {
      "needs_background": "light"
     },
     "output_type": "display_data"
    },
    {
     "data": {
      "image/png": "[encoded data removed]",
      "text/plain": [
       "<Figure size 432x288 with 1 Axes>"
      ]
     },
     "metadata": {
      "needs_background": "light"
     },
     "output_type": "display_data"
    },
    {
     "name": "stderr",
     "output_type": "stream",
     "text": [
      "  0%|          | 0/281 [00:00<?, ?it/s]"
     ]
    },
    {
     "name": "stdout",
     "output_type": "stream",
     "text": [
      "Fold = 2\n"
     ]
    },
    {
     "name": "stderr",
     "output_type": "stream",
     "text": [
      "100%|██████████| 281/281 [00:32<00:00,  8.75it/s]\n",
      "100%|██████████| 71/71 [00:01<00:00, 45.63it/s]\n",
      "  0%|          | 1/281 [00:00<00:34,  8.17it/s]"
     ]
    },
    {
     "name": "stdout",
     "output_type": "stream",
     "text": [
      "Epoch 1, Train loss 0.7000 , Train Accuracy 0.5331, Test loss 0.6675, Test Accuracy 0.5969\n"
     ]
    },
    {
     "name": "stderr",
     "output_type": "stream",
     "text": [
      "100%|██████████| 281/281 [00:31<00:00,  8.79it/s]\n",
      "100%|██████████| 71/71 [00:01<00:00, 44.28it/s]\n",
      "  0%|          | 1/281 [00:00<00:33,  8.27it/s]"
     ]
    },
    {
     "name": "stdout",
     "output_type": "stream",
     "text": [
      "Epoch 2, Train loss 0.6887 , Train Accuracy 0.5519, Test loss 0.6450, Test Accuracy 0.6281\n"
     ]
    },
    {
     "name": "stderr",
     "output_type": "stream",
     "text": [
      "100%|██████████| 281/281 [00:32<00:00,  8.77it/s]\n",
      "100%|██████████| 71/71 [00:01<00:00, 45.12it/s]\n",
      "  0%|          | 1/281 [00:00<00:33,  8.35it/s]"
     ]
    },
    {
     "name": "stdout",
     "output_type": "stream",
     "text": [
      "Epoch 3, Train loss 0.6774 , Train Accuracy 0.5750, Test loss 0.6389, Test Accuracy 0.6437\n"
     ]
    },
    {
     "name": "stderr",
     "output_type": "stream",
     "text": [
      "100%|██████████| 281/281 [00:31<00:00,  8.78it/s]\n",
      "100%|██████████| 71/71 [00:01<00:00, 44.16it/s]\n",
      "  0%|          | 1/281 [00:00<00:35,  7.98it/s]"
     ]
    },
    {
     "name": "stdout",
     "output_type": "stream",
     "text": [
      "Epoch 4, Train loss 0.6705 , Train Accuracy 0.5852, Test loss 0.6219, Test Accuracy 0.6628\n"
     ]
    },
    {
     "name": "stderr",
     "output_type": "stream",
     "text": [
      "100%|██████████| 281/281 [00:31<00:00,  8.79it/s]\n",
      "100%|██████████| 71/71 [00:01<00:00, 45.45it/s]\n",
      "  0%|          | 1/281 [00:00<00:33,  8.29it/s]"
     ]
    },
    {
     "name": "stdout",
     "output_type": "stream",
     "text": [
      "Epoch 5, Train loss 0.6644 , Train Accuracy 0.5997, Test loss 0.6485, Test Accuracy 0.6459\n"
     ]
    },
    {
     "name": "stderr",
     "output_type": "stream",
     "text": [
      "100%|██████████| 281/281 [00:31<00:00,  8.79it/s]\n",
      "100%|██████████| 71/71 [00:01<00:00, 44.96it/s]\n",
      "  0%|          | 0/281 [00:00<?, ?it/s]"
     ]
    },
    {
     "name": "stdout",
     "output_type": "stream",
     "text": [
      "Epoch 6, Train loss 0.6593 , Train Accuracy 0.6019, Test loss 0.6333, Test Accuracy 0.6664\n"
     ]
    },
    {
     "name": "stderr",
     "output_type": "stream",
     "text": [
      "100%|██████████| 281/281 [00:32<00:00,  8.75it/s]\n",
      "100%|██████████| 71/71 [00:01<00:00, 44.58it/s]\n",
      "  0%|          | 1/281 [00:00<00:34,  8.04it/s]"
     ]
    },
    {
     "name": "stdout",
     "output_type": "stream",
     "text": [
      "Epoch 7, Train loss 0.6546 , Train Accuracy 0.6107, Test loss 0.6381, Test Accuracy 0.6699\n"
     ]
    },
    {
     "name": "stderr",
     "output_type": "stream",
     "text": [
      "100%|██████████| 281/281 [00:31<00:00,  8.78it/s]\n",
      "100%|██████████| 71/71 [00:01<00:00, 44.95it/s]\n",
      "  0%|          | 1/281 [00:00<00:34,  8.18it/s]"
     ]
    },
    {
     "name": "stdout",
     "output_type": "stream",
     "text": [
      "Epoch 8, Train loss 0.6518 , Train Accuracy 0.6154, Test loss 0.6123, Test Accuracy 0.6878\n"
     ]
    },
    {
     "name": "stderr",
     "output_type": "stream",
     "text": [
      "100%|██████████| 281/281 [00:32<00:00,  8.77it/s]\n",
      "100%|██████████| 71/71 [00:01<00:00, 42.60it/s]\n",
      "  0%|          | 1/281 [00:00<00:34,  8.02it/s]"
     ]
    },
    {
     "name": "stdout",
     "output_type": "stream",
     "text": [
      "Epoch 9, Train loss 0.6435 , Train Accuracy 0.6296, Test loss 0.6118, Test Accuracy 0.6855\n"
     ]
    },
    {
     "name": "stderr",
     "output_type": "stream",
     "text": [
      "100%|██████████| 281/281 [00:32<00:00,  8.77it/s]\n",
      "100%|██████████| 71/71 [00:01<00:00, 44.94it/s]\n",
      "  0%|          | 1/281 [00:00<00:34,  8.14it/s]"
     ]
    },
    {
     "name": "stdout",
     "output_type": "stream",
     "text": [
      "Epoch 10, Train loss 0.6409 , Train Accuracy 0.6358, Test loss 0.7278, Test Accuracy 0.6298\n"
     ]
    },
    {
     "name": "stderr",
     "output_type": "stream",
     "text": [
      "100%|██████████| 281/281 [00:32<00:00,  8.77it/s]\n",
      "100%|██████████| 71/71 [00:01<00:00, 45.68it/s]\n",
      "  0%|          | 1/281 [00:00<00:34,  8.12it/s]"
     ]
    },
    {
     "name": "stdout",
     "output_type": "stream",
     "text": [
      "Epoch 11, Train loss 0.6374 , Train Accuracy 0.6361, Test loss 0.6143, Test Accuracy 0.6891\n"
     ]
    },
    {
     "name": "stderr",
     "output_type": "stream",
     "text": [
      "100%|██████████| 281/281 [00:32<00:00,  8.75it/s]\n",
      "100%|██████████| 71/71 [00:01<00:00, 45.25it/s]\n",
      "  0%|          | 1/281 [00:00<00:33,  8.27it/s]"
     ]
    },
    {
     "name": "stdout",
     "output_type": "stream",
     "text": [
      "Epoch 12, Train loss 0.6311 , Train Accuracy 0.6513, Test loss 0.6419, Test Accuracy 0.6788\n"
     ]
    },
    {
     "name": "stderr",
     "output_type": "stream",
     "text": [
      "100%|██████████| 281/281 [00:32<00:00,  8.72it/s]\n",
      "100%|██████████| 71/71 [00:01<00:00, 44.72it/s]\n",
      "  0%|          | 1/281 [00:00<00:34,  8.23it/s]"
     ]
    },
    {
     "name": "stdout",
     "output_type": "stream",
     "text": [
      "Epoch 13, Train loss 0.6342 , Train Accuracy 0.6449, Test loss 0.6566, Test Accuracy 0.6713\n"
     ]
    },
    {
     "name": "stderr",
     "output_type": "stream",
     "text": [
      "100%|██████████| 281/281 [00:32<00:00,  8.78it/s]\n",
      "100%|██████████| 71/71 [00:01<00:00, 44.95it/s]\n",
      "  0%|          | 1/281 [00:00<00:34,  8.07it/s]"
     ]
    },
    {
     "name": "stdout",
     "output_type": "stream",
     "text": [
      "Epoch 14, Train loss 0.6252 , Train Accuracy 0.6537, Test loss 0.6159, Test Accuracy 0.6949\n"
     ]
    },
    {
     "name": "stderr",
     "output_type": "stream",
     "text": [
      "100%|██████████| 281/281 [00:32<00:00,  8.77it/s]\n",
      "100%|██████████| 71/71 [00:01<00:00, 45.47it/s]\n",
      "  0%|          | 1/281 [00:00<00:33,  8.27it/s]"
     ]
    },
    {
     "name": "stdout",
     "output_type": "stream",
     "text": [
      "Epoch 15, Train loss 0.6242 , Train Accuracy 0.6528, Test loss 0.5941, Test Accuracy 0.7091\n"
     ]
    },
    {
     "name": "stderr",
     "output_type": "stream",
     "text": [
      "100%|██████████| 281/281 [00:32<00:00,  8.76it/s]\n",
      "100%|██████████| 71/71 [00:01<00:00, 45.00it/s]\n",
      "  0%|          | 0/281 [00:00<?, ?it/s]"
     ]
    },
    {
     "name": "stdout",
     "output_type": "stream",
     "text": [
      "Epoch 16, Train loss 0.6181 , Train Accuracy 0.6632, Test loss 0.6012, Test Accuracy 0.7118\n"
     ]
    },
    {
     "name": "stderr",
     "output_type": "stream",
     "text": [
      "100%|██████████| 281/281 [00:32<00:00,  8.76it/s]\n",
      "100%|██████████| 71/71 [00:01<00:00, 45.12it/s]\n",
      "  0%|          | 1/281 [00:00<00:34,  8.09it/s]"
     ]
    },
    {
     "name": "stdout",
     "output_type": "stream",
     "text": [
      "Epoch 17, Train loss 0.6138 , Train Accuracy 0.6645, Test loss 0.6298, Test Accuracy 0.6931\n"
     ]
    },
    {
     "name": "stderr",
     "output_type": "stream",
     "text": [
      "100%|██████████| 281/281 [00:32<00:00,  8.77it/s]\n",
      "100%|██████████| 71/71 [00:01<00:00, 44.58it/s]\n",
      "  0%|          | 1/281 [00:00<00:33,  8.27it/s]"
     ]
    },
    {
     "name": "stdout",
     "output_type": "stream",
     "text": [
      "Epoch 18, Train loss 0.6164 , Train Accuracy 0.6625, Test loss 0.6075, Test Accuracy 0.7189\n"
     ]
    },
    {
     "name": "stderr",
     "output_type": "stream",
     "text": [
      "100%|██████████| 281/281 [00:32<00:00,  8.78it/s]\n",
      "100%|██████████| 71/71 [00:01<00:00, 45.12it/s]\n",
      "  0%|          | 1/281 [00:00<00:34,  8.08it/s]"
     ]
    },
    {
     "name": "stdout",
     "output_type": "stream",
     "text": [
      "Epoch 19, Train loss 0.6122 , Train Accuracy 0.6679, Test loss 0.5956, Test Accuracy 0.7203\n"
     ]
    },
    {
     "name": "stderr",
     "output_type": "stream",
     "text": [
      "100%|██████████| 281/281 [00:32<00:00,  8.77it/s]\n",
      "100%|██████████| 71/71 [00:01<00:00, 45.09it/s]\n",
      "  0%|          | 1/281 [00:00<00:33,  8.27it/s]"
     ]
    },
    {
     "name": "stdout",
     "output_type": "stream",
     "text": [
      "Epoch 20, Train loss 0.6068 , Train Accuracy 0.6733, Test loss 0.6015, Test Accuracy 0.7234\n"
     ]
    },
    {
     "name": "stderr",
     "output_type": "stream",
     "text": [
      "100%|██████████| 281/281 [00:32<00:00,  8.77it/s]\n",
      "100%|██████████| 71/71 [00:01<00:00, 44.31it/s]\n",
      "  0%|          | 1/281 [00:00<00:34,  8.10it/s]"
     ]
    },
    {
     "name": "stdout",
     "output_type": "stream",
     "text": [
      "Epoch 21, Train loss 0.6051 , Train Accuracy 0.6790, Test loss 0.5972, Test Accuracy 0.7185\n"
     ]
    },
    {
     "name": "stderr",
     "output_type": "stream",
     "text": [
      "100%|██████████| 281/281 [00:31<00:00,  8.79it/s]\n",
      "100%|██████████| 71/71 [00:01<00:00, 45.20it/s]\n",
      "  0%|          | 1/281 [00:00<00:33,  8.25it/s]"
     ]
    },
    {
     "name": "stdout",
     "output_type": "stream",
     "text": [
      "Epoch 22, Train loss 0.6064 , Train Accuracy 0.6740, Test loss 0.6017, Test Accuracy 0.7198\n"
     ]
    },
    {
     "name": "stderr",
     "output_type": "stream",
     "text": [
      "100%|██████████| 281/281 [00:32<00:00,  8.73it/s]\n",
      "100%|██████████| 71/71 [00:01<00:00, 44.25it/s]\n",
      "  0%|          | 1/281 [00:00<00:34,  8.12it/s]"
     ]
    },
    {
     "name": "stdout",
     "output_type": "stream",
     "text": [
      "Epoch 23, Train loss 0.6021 , Train Accuracy 0.6838, Test loss 0.6667, Test Accuracy 0.6904\n"
     ]
    },
    {
     "name": "stderr",
     "output_type": "stream",
     "text": [
      "100%|██████████| 281/281 [00:32<00:00,  8.76it/s]\n",
      "100%|██████████| 71/71 [00:01<00:00, 44.79it/s]\n",
      "  0%|          | 1/281 [00:00<00:34,  8.07it/s]"
     ]
    },
    {
     "name": "stdout",
     "output_type": "stream",
     "text": [
      "Epoch 24, Train loss 0.6026 , Train Accuracy 0.6790, Test loss 0.6076, Test Accuracy 0.7310\n"
     ]
    },
    {
     "name": "stderr",
     "output_type": "stream",
     "text": [
      "100%|██████████| 281/281 [00:32<00:00,  8.76it/s]\n",
      "100%|██████████| 71/71 [00:01<00:00, 44.73it/s]\n",
      "  0%|          | 1/281 [00:00<00:34,  8.22it/s]"
     ]
    },
    {
     "name": "stdout",
     "output_type": "stream",
     "text": [
      "Epoch 25, Train loss 0.5957 , Train Accuracy 0.6850, Test loss 0.5881, Test Accuracy 0.7332\n"
     ]
    },
    {
     "name": "stderr",
     "output_type": "stream",
     "text": [
      "100%|██████████| 281/281 [00:32<00:00,  8.76it/s]\n",
      "100%|██████████| 71/71 [00:01<00:00, 45.05it/s]\n",
      "  0%|          | 1/281 [00:00<00:34,  8.21it/s]"
     ]
    },
    {
     "name": "stdout",
     "output_type": "stream",
     "text": [
      "Epoch 26, Train loss 0.5976 , Train Accuracy 0.6824, Test loss 0.6029, Test Accuracy 0.7252\n"
     ]
    },
    {
     "name": "stderr",
     "output_type": "stream",
     "text": [
      "100%|██████████| 281/281 [00:32<00:00,  8.77it/s]\n",
      "100%|██████████| 71/71 [00:01<00:00, 44.26it/s]\n",
      "  0%|          | 1/281 [00:00<00:34,  8.05it/s]"
     ]
    },
    {
     "name": "stdout",
     "output_type": "stream",
     "text": [
      "Epoch 27, Train loss 0.5971 , Train Accuracy 0.6802, Test loss 0.5870, Test Accuracy 0.7363\n"
     ]
    },
    {
     "name": "stderr",
     "output_type": "stream",
     "text": [
      "100%|██████████| 281/281 [00:32<00:00,  8.77it/s]\n",
      "100%|██████████| 71/71 [00:01<00:00, 40.70it/s]\n",
      "  0%|          | 1/281 [00:00<00:34,  8.13it/s]"
     ]
    },
    {
     "name": "stdout",
     "output_type": "stream",
     "text": [
      "Epoch 28, Train loss 0.5918 , Train Accuracy 0.6875, Test loss 0.6223, Test Accuracy 0.7100\n"
     ]
    },
    {
     "name": "stderr",
     "output_type": "stream",
     "text": [
      "100%|██████████| 281/281 [00:32<00:00,  8.76it/s]\n",
      "100%|██████████| 71/71 [00:01<00:00, 44.44it/s]\n",
      "  0%|          | 1/281 [00:00<00:34,  8.09it/s]"
     ]
    },
    {
     "name": "stdout",
     "output_type": "stream",
     "text": [
      "Epoch 29, Train loss 0.5911 , Train Accuracy 0.6896, Test loss 0.6092, Test Accuracy 0.7314\n"
     ]
    },
    {
     "name": "stderr",
     "output_type": "stream",
     "text": [
      "100%|██████████| 281/281 [00:32<00:00,  8.75it/s]\n",
      "100%|██████████| 71/71 [00:01<00:00, 44.96it/s]\n",
      "  0%|          | 1/281 [00:00<00:33,  8.33it/s]"
     ]
    },
    {
     "name": "stdout",
     "output_type": "stream",
     "text": [
      "Epoch 30, Train loss 0.5876 , Train Accuracy 0.6951, Test loss 0.5775, Test Accuracy 0.7336\n"
     ]
    },
    {
     "name": "stderr",
     "output_type": "stream",
     "text": [
      "100%|██████████| 281/281 [00:32<00:00,  8.76it/s]\n",
      "100%|██████████| 71/71 [00:01<00:00, 44.26it/s]\n",
      "  0%|          | 1/281 [00:00<00:34,  8.15it/s]"
     ]
    },
    {
     "name": "stdout",
     "output_type": "stream",
     "text": [
      "Epoch 31, Train loss 0.5867 , Train Accuracy 0.6954, Test loss 0.5971, Test Accuracy 0.7265\n"
     ]
    },
    {
     "name": "stderr",
     "output_type": "stream",
     "text": [
      "100%|██████████| 281/281 [00:32<00:00,  8.78it/s]\n",
      "100%|██████████| 71/71 [00:01<00:00, 44.62it/s]\n",
      "  0%|          | 1/281 [00:00<00:34,  8.03it/s]"
     ]
    },
    {
     "name": "stdout",
     "output_type": "stream",
     "text": [
      "Epoch 32, Train loss 0.5846 , Train Accuracy 0.6988, Test loss 0.5909, Test Accuracy 0.7372\n"
     ]
    },
    {
     "name": "stderr",
     "output_type": "stream",
     "text": [
      "100%|██████████| 281/281 [00:32<00:00,  8.77it/s]\n",
      "100%|██████████| 71/71 [00:01<00:00, 44.99it/s]\n",
      "  0%|          | 1/281 [00:00<00:34,  8.10it/s]"
     ]
    },
    {
     "name": "stdout",
     "output_type": "stream",
     "text": [
      "Epoch 33, Train loss 0.5818 , Train Accuracy 0.6995, Test loss 0.5843, Test Accuracy 0.7430\n"
     ]
    },
    {
     "name": "stderr",
     "output_type": "stream",
     "text": [
      "100%|██████████| 281/281 [00:32<00:00,  8.78it/s]\n",
      "100%|██████████| 71/71 [00:01<00:00, 44.78it/s]\n",
      "  0%|          | 1/281 [00:00<00:34,  8.11it/s]"
     ]
    },
    {
     "name": "stdout",
     "output_type": "stream",
     "text": [
      "Epoch 34, Train loss 0.5767 , Train Accuracy 0.7018, Test loss 0.5877, Test Accuracy 0.7425\n"
     ]
    },
    {
     "name": "stderr",
     "output_type": "stream",
     "text": [
      "100%|██████████| 281/281 [00:32<00:00,  8.77it/s]\n",
      "100%|██████████| 71/71 [00:01<00:00, 45.02it/s]\n",
      "  0%|          | 1/281 [00:00<00:33,  8.27it/s]"
     ]
    },
    {
     "name": "stdout",
     "output_type": "stream",
     "text": [
      "Epoch 35, Train loss 0.5761 , Train Accuracy 0.7050, Test loss 0.5846, Test Accuracy 0.7452\n"
     ]
    },
    {
     "name": "stderr",
     "output_type": "stream",
     "text": [
      "100%|██████████| 281/281 [00:31<00:00,  8.78it/s]\n",
      "100%|██████████| 71/71 [00:01<00:00, 45.75it/s]\n",
      "  0%|          | 1/281 [00:00<00:34,  8.15it/s]"
     ]
    },
    {
     "name": "stdout",
     "output_type": "stream",
     "text": [
      "Epoch 36, Train loss 0.5768 , Train Accuracy 0.7014, Test loss 0.5964, Test Accuracy 0.7354\n"
     ]
    },
    {
     "name": "stderr",
     "output_type": "stream",
     "text": [
      "100%|██████████| 281/281 [00:32<00:00,  8.77it/s]\n",
      "100%|██████████| 71/71 [00:01<00:00, 45.40it/s]\n",
      "  0%|          | 0/281 [00:00<?, ?it/s]"
     ]
    },
    {
     "name": "stdout",
     "output_type": "stream",
     "text": [
      "Epoch 37, Train loss 0.5736 , Train Accuracy 0.7059, Test loss 0.5884, Test Accuracy 0.7412\n"
     ]
    },
    {
     "name": "stderr",
     "output_type": "stream",
     "text": [
      "100%|██████████| 281/281 [00:32<00:00,  8.72it/s]\n",
      "100%|██████████| 71/71 [00:01<00:00, 44.07it/s]\n",
      "  0%|          | 1/281 [00:00<00:34,  8.10it/s]"
     ]
    },
    {
     "name": "stdout",
     "output_type": "stream",
     "text": [
      "Epoch 38, Train loss 0.5674 , Train Accuracy 0.7082, Test loss 0.5637, Test Accuracy 0.7416\n"
     ]
    },
    {
     "name": "stderr",
     "output_type": "stream",
     "text": [
      "100%|██████████| 281/281 [00:32<00:00,  8.78it/s]\n",
      "100%|██████████| 71/71 [00:01<00:00, 45.67it/s]\n",
      "  0%|          | 1/281 [00:00<00:33,  8.35it/s]"
     ]
    },
    {
     "name": "stdout",
     "output_type": "stream",
     "text": [
      "Epoch 39, Train loss 0.5686 , Train Accuracy 0.7077, Test loss 0.5720, Test Accuracy 0.7408\n"
     ]
    },
    {
     "name": "stderr",
     "output_type": "stream",
     "text": [
      "100%|██████████| 281/281 [00:32<00:00,  8.78it/s]\n",
      "100%|██████████| 71/71 [00:01<00:00, 45.08it/s]\n",
      "  0%|          | 1/281 [00:00<00:33,  8.30it/s]"
     ]
    },
    {
     "name": "stdout",
     "output_type": "stream",
     "text": [
      "Epoch 40, Train loss 0.5675 , Train Accuracy 0.7099, Test loss 0.5688, Test Accuracy 0.7381\n"
     ]
    },
    {
     "name": "stderr",
     "output_type": "stream",
     "text": [
      "100%|██████████| 281/281 [00:32<00:00,  8.75it/s]\n",
      "100%|██████████| 71/71 [00:01<00:00, 44.99it/s]\n",
      "  0%|          | 1/281 [00:00<00:34,  8.08it/s]"
     ]
    },
    {
     "name": "stdout",
     "output_type": "stream",
     "text": [
      "Epoch 41, Train loss 0.5639 , Train Accuracy 0.7153, Test loss 0.5679, Test Accuracy 0.7452\n"
     ]
    },
    {
     "name": "stderr",
     "output_type": "stream",
     "text": [
      "100%|██████████| 281/281 [00:31<00:00,  8.78it/s]\n",
      "100%|██████████| 71/71 [00:01<00:00, 44.76it/s]\n",
      "  0%|          | 1/281 [00:00<00:34,  8.08it/s]"
     ]
    },
    {
     "name": "stdout",
     "output_type": "stream",
     "text": [
      "Epoch 42, Train loss 0.5702 , Train Accuracy 0.7104, Test loss 0.5663, Test Accuracy 0.7443\n"
     ]
    },
    {
     "name": "stderr",
     "output_type": "stream",
     "text": [
      "100%|██████████| 281/281 [00:31<00:00,  8.79it/s]\n",
      "100%|██████████| 71/71 [00:01<00:00, 44.73it/s]\n",
      "  0%|          | 1/281 [00:00<00:33,  8.27it/s]"
     ]
    },
    {
     "name": "stdout",
     "output_type": "stream",
     "text": [
      "Epoch 43, Train loss 0.5610 , Train Accuracy 0.7117, Test loss 0.5856, Test Accuracy 0.7470\n"
     ]
    },
    {
     "name": "stderr",
     "output_type": "stream",
     "text": [
      "100%|██████████| 281/281 [00:31<00:00,  8.79it/s]\n",
      "100%|██████████| 71/71 [00:01<00:00, 45.28it/s]\n",
      "  0%|          | 1/281 [00:00<00:35,  7.98it/s]"
     ]
    },
    {
     "name": "stdout",
     "output_type": "stream",
     "text": [
      "Epoch 44, Train loss 0.5599 , Train Accuracy 0.7146, Test loss 0.5668, Test Accuracy 0.7457\n"
     ]
    },
    {
     "name": "stderr",
     "output_type": "stream",
     "text": [
      "100%|██████████| 281/281 [00:32<00:00,  8.74it/s]\n",
      "100%|██████████| 71/71 [00:01<00:00, 43.64it/s]\n",
      "  0%|          | 1/281 [00:00<00:34,  8.14it/s]"
     ]
    },
    {
     "name": "stdout",
     "output_type": "stream",
     "text": [
      "Epoch 45, Train loss 0.5587 , Train Accuracy 0.7166, Test loss 0.5767, Test Accuracy 0.7461\n"
     ]
    },
    {
     "name": "stderr",
     "output_type": "stream",
     "text": [
      "100%|██████████| 281/281 [00:32<00:00,  8.78it/s]\n",
      "100%|██████████| 71/71 [00:01<00:00, 44.85it/s]\n",
      "  0%|          | 1/281 [00:00<00:34,  8.16it/s]"
     ]
    },
    {
     "name": "stdout",
     "output_type": "stream",
     "text": [
      "Epoch 46, Train loss 0.5569 , Train Accuracy 0.7180, Test loss 0.5645, Test Accuracy 0.7465\n"
     ]
    },
    {
     "name": "stderr",
     "output_type": "stream",
     "text": [
      "100%|██████████| 281/281 [00:32<00:00,  8.77it/s]\n",
      "100%|██████████| 71/71 [00:01<00:00, 44.93it/s]\n",
      "  0%|          | 1/281 [00:00<00:34,  8.07it/s]"
     ]
    },
    {
     "name": "stdout",
     "output_type": "stream",
     "text": [
      "Epoch 47, Train loss 0.5607 , Train Accuracy 0.7152, Test loss 0.5629, Test Accuracy 0.7461\n"
     ]
    },
    {
     "name": "stderr",
     "output_type": "stream",
     "text": [
      "100%|██████████| 281/281 [00:32<00:00,  8.76it/s]\n",
      "100%|██████████| 71/71 [00:01<00:00, 45.67it/s]\n",
      "  0%|          | 0/281 [00:00<?, ?it/s]"
     ]
    },
    {
     "name": "stdout",
     "output_type": "stream",
     "text": [
      "Epoch 48, Train loss 0.5578 , Train Accuracy 0.7175, Test loss 0.5592, Test Accuracy 0.7519\n"
     ]
    },
    {
     "name": "stderr",
     "output_type": "stream",
     "text": [
      "100%|██████████| 281/281 [00:32<00:00,  8.73it/s]\n",
      "100%|██████████| 71/71 [00:01<00:00, 45.74it/s]\n",
      "  0%|          | 1/281 [00:00<00:34,  8.23it/s]"
     ]
    },
    {
     "name": "stdout",
     "output_type": "stream",
     "text": [
      "Epoch 49, Train loss 0.5555 , Train Accuracy 0.7215, Test loss 0.5872, Test Accuracy 0.7443\n"
     ]
    },
    {
     "name": "stderr",
     "output_type": "stream",
     "text": [
      "100%|██████████| 281/281 [00:32<00:00,  8.78it/s]\n",
      "100%|██████████| 71/71 [00:01<00:00, 45.72it/s]\n"
     ]
    },
    {
     "name": "stdout",
     "output_type": "stream",
     "text": [
      "Epoch 50, Train loss 0.5542 , Train Accuracy 0.7156, Test loss 0.5801, Test Accuracy 0.7434\n"
     ]
    },
    {
     "data": {
      "image/png": "[encoded data removed]",
      "text/plain": [
       "<Figure size 432x288 with 1 Axes>"
      ]
     },
     "metadata": {
      "needs_background": "light"
     },
     "output_type": "display_data"
    },
    {
     "data": {
      "image/png": "[encoded data removed]",
      "text/plain": [
       "<Figure size 432x288 with 1 Axes>"
      ]
     },
     "metadata": {
      "needs_background": "light"
     },
     "output_type": "display_data"
    },
    {
     "name": "stderr",
     "output_type": "stream",
     "text": [
      "  0%|          | 0/281 [00:00<?, ?it/s]"
     ]
    },
    {
     "name": "stdout",
     "output_type": "stream",
     "text": [
      "Fold = 3\n"
     ]
    },
    {
     "name": "stderr",
     "output_type": "stream",
     "text": [
      "100%|██████████| 281/281 [00:32<00:00,  8.75it/s]\n",
      "100%|██████████| 71/71 [00:01<00:00, 44.02it/s]\n",
      "  0%|          | 1/281 [00:00<00:33,  8.28it/s]"
     ]
    },
    {
     "name": "stdout",
     "output_type": "stream",
     "text": [
      "Epoch 1, Train loss 0.7073 , Train Accuracy 0.5337, Test loss 0.6628, Test Accuracy 0.5973\n"
     ]
    },
    {
     "name": "stderr",
     "output_type": "stream",
     "text": [
      "100%|██████████| 281/281 [00:31<00:00,  8.79it/s]\n",
      "100%|██████████| 71/71 [00:01<00:00, 44.26it/s]\n",
      "  0%|          | 1/281 [00:00<00:34,  8.13it/s]"
     ]
    },
    {
     "name": "stdout",
     "output_type": "stream",
     "text": [
      "Epoch 2, Train loss 0.6791 , Train Accuracy 0.5703, Test loss 0.6428, Test Accuracy 0.6290\n"
     ]
    },
    {
     "name": "stderr",
     "output_type": "stream",
     "text": [
      "100%|██████████| 281/281 [00:32<00:00,  8.76it/s]\n",
      "100%|██████████| 71/71 [00:01<00:00, 44.36it/s]\n",
      "  0%|          | 1/281 [00:00<00:35,  7.99it/s]"
     ]
    },
    {
     "name": "stdout",
     "output_type": "stream",
     "text": [
      "Epoch 3, Train loss 0.6700 , Train Accuracy 0.5858, Test loss 0.6832, Test Accuracy 0.6018\n"
     ]
    },
    {
     "name": "stderr",
     "output_type": "stream",
     "text": [
      "100%|██████████| 281/281 [00:31<00:00,  8.78it/s]\n",
      "100%|██████████| 71/71 [00:01<00:00, 44.46it/s]\n",
      "  0%|          | 1/281 [00:00<00:35,  7.89it/s]"
     ]
    },
    {
     "name": "stdout",
     "output_type": "stream",
     "text": [
      "Epoch 4, Train loss 0.6579 , Train Accuracy 0.6080, Test loss 0.6316, Test Accuracy 0.6530\n"
     ]
    },
    {
     "name": "stderr",
     "output_type": "stream",
     "text": [
      "100%|██████████| 281/281 [00:32<00:00,  8.77it/s]\n",
      "100%|██████████| 71/71 [00:01<00:00, 44.44it/s]\n",
      "  0%|          | 1/281 [00:00<00:35,  7.85it/s]"
     ]
    },
    {
     "name": "stdout",
     "output_type": "stream",
     "text": [
      "Epoch 5, Train loss 0.6542 , Train Accuracy 0.6103, Test loss 0.6262, Test Accuracy 0.6468\n"
     ]
    },
    {
     "name": "stderr",
     "output_type": "stream",
     "text": [
      "100%|██████████| 281/281 [00:31<00:00,  8.80it/s]\n",
      "100%|██████████| 71/71 [00:01<00:00, 44.74it/s]\n",
      "  0%|          | 0/281 [00:00<?, ?it/s]"
     ]
    },
    {
     "name": "stdout",
     "output_type": "stream",
     "text": [
      "Epoch 6, Train loss 0.6424 , Train Accuracy 0.6282, Test loss 0.6193, Test Accuracy 0.6664\n"
     ]
    },
    {
     "name": "stderr",
     "output_type": "stream",
     "text": [
      "100%|██████████| 281/281 [00:32<00:00,  8.76it/s]\n",
      "100%|██████████| 71/71 [00:01<00:00, 45.29it/s]\n",
      "  0%|          | 1/281 [00:00<00:34,  8.23it/s]"
     ]
    },
    {
     "name": "stdout",
     "output_type": "stream",
     "text": [
      "Epoch 7, Train loss 0.6392 , Train Accuracy 0.6341, Test loss 0.6408, Test Accuracy 0.6561\n"
     ]
    },
    {
     "name": "stderr",
     "output_type": "stream",
     "text": [
      "100%|██████████| 281/281 [00:32<00:00,  8.75it/s]\n",
      "100%|██████████| 71/71 [00:01<00:00, 45.50it/s]\n",
      "  0%|          | 1/281 [00:00<00:33,  8.24it/s]"
     ]
    },
    {
     "name": "stdout",
     "output_type": "stream",
     "text": [
      "Epoch 8, Train loss 0.6308 , Train Accuracy 0.6451, Test loss 0.6309, Test Accuracy 0.6619\n"
     ]
    },
    {
     "name": "stderr",
     "output_type": "stream",
     "text": [
      "100%|██████████| 281/281 [00:32<00:00,  8.76it/s]\n",
      "100%|██████████| 71/71 [00:01<00:00, 44.87it/s]\n",
      "  0%|          | 1/281 [00:00<00:34,  8.23it/s]"
     ]
    },
    {
     "name": "stdout",
     "output_type": "stream",
     "text": [
      "Epoch 9, Train loss 0.6307 , Train Accuracy 0.6489, Test loss 0.6060, Test Accuracy 0.6851\n"
     ]
    },
    {
     "name": "stderr",
     "output_type": "stream",
     "text": [
      "100%|██████████| 281/281 [00:31<00:00,  8.81it/s]\n",
      "100%|██████████| 71/71 [00:01<00:00, 45.13it/s]\n",
      "  0%|          | 1/281 [00:00<00:34,  8.21it/s]"
     ]
    },
    {
     "name": "stdout",
     "output_type": "stream",
     "text": [
      "Epoch 10, Train loss 0.6204 , Train Accuracy 0.6597, Test loss 0.6207, Test Accuracy 0.6748\n"
     ]
    },
    {
     "name": "stderr",
     "output_type": "stream",
     "text": [
      "100%|██████████| 281/281 [00:32<00:00,  8.76it/s]\n",
      "100%|██████████| 71/71 [00:01<00:00, 45.04it/s]\n",
      "  0%|          | 1/281 [00:00<00:34,  8.20it/s]"
     ]
    },
    {
     "name": "stdout",
     "output_type": "stream",
     "text": [
      "Epoch 11, Train loss 0.6171 , Train Accuracy 0.6587, Test loss 0.6186, Test Accuracy 0.6891\n"
     ]
    },
    {
     "name": "stderr",
     "output_type": "stream",
     "text": [
      "100%|██████████| 281/281 [00:32<00:00,  8.76it/s]\n",
      "100%|██████████| 71/71 [00:01<00:00, 45.25it/s]\n",
      "  0%|          | 1/281 [00:00<00:33,  8.26it/s]"
     ]
    },
    {
     "name": "stdout",
     "output_type": "stream",
     "text": [
      "Epoch 12, Train loss 0.6138 , Train Accuracy 0.6707, Test loss 0.6227, Test Accuracy 0.6784\n"
     ]
    },
    {
     "name": "stderr",
     "output_type": "stream",
     "text": [
      "100%|██████████| 281/281 [00:32<00:00,  8.77it/s]\n",
      "100%|██████████| 71/71 [00:01<00:00, 43.70it/s]\n",
      "  0%|          | 1/281 [00:00<00:34,  8.09it/s]"
     ]
    },
    {
     "name": "stdout",
     "output_type": "stream",
     "text": [
      "Epoch 13, Train loss 0.6112 , Train Accuracy 0.6703, Test loss 0.6169, Test Accuracy 0.7011\n"
     ]
    },
    {
     "name": "stderr",
     "output_type": "stream",
     "text": [
      "100%|██████████| 281/281 [00:32<00:00,  8.78it/s]\n",
      "100%|██████████| 71/71 [00:01<00:00, 45.39it/s]\n",
      "  0%|          | 1/281 [00:00<00:34,  8.12it/s]"
     ]
    },
    {
     "name": "stdout",
     "output_type": "stream",
     "text": [
      "Epoch 14, Train loss 0.6060 , Train Accuracy 0.6764, Test loss 0.6297, Test Accuracy 0.6797\n"
     ]
    },
    {
     "name": "stderr",
     "output_type": "stream",
     "text": [
      "100%|██████████| 281/281 [00:32<00:00,  8.78it/s]\n",
      "100%|██████████| 71/71 [00:01<00:00, 45.10it/s]\n",
      "  0%|          | 1/281 [00:00<00:33,  8.28it/s]"
     ]
    },
    {
     "name": "stdout",
     "output_type": "stream",
     "text": [
      "Epoch 15, Train loss 0.6092 , Train Accuracy 0.6732, Test loss 0.6183, Test Accuracy 0.7038\n"
     ]
    },
    {
     "name": "stderr",
     "output_type": "stream",
     "text": [
      "100%|██████████| 281/281 [00:32<00:00,  8.76it/s]\n",
      "100%|██████████| 71/71 [00:01<00:00, 45.42it/s]\n",
      "  0%|          | 0/281 [00:00<?, ?it/s]"
     ]
    },
    {
     "name": "stdout",
     "output_type": "stream",
     "text": [
      "Epoch 16, Train loss 0.6004 , Train Accuracy 0.6770, Test loss 0.6510, Test Accuracy 0.6918\n"
     ]
    },
    {
     "name": "stderr",
     "output_type": "stream",
     "text": [
      "100%|██████████| 281/281 [00:32<00:00,  8.74it/s]\n",
      "100%|██████████| 71/71 [00:01<00:00, 45.14it/s]\n",
      "  0%|          | 1/281 [00:00<00:35,  7.95it/s]"
     ]
    },
    {
     "name": "stdout",
     "output_type": "stream",
     "text": [
      "Epoch 17, Train loss 0.6019 , Train Accuracy 0.6822, Test loss 0.6812, Test Accuracy 0.6784\n"
     ]
    },
    {
     "name": "stderr",
     "output_type": "stream",
     "text": [
      "100%|██████████| 281/281 [00:32<00:00,  8.78it/s]\n",
      "100%|██████████| 71/71 [00:01<00:00, 45.59it/s]\n",
      "  0%|          | 1/281 [00:00<00:33,  8.35it/s]"
     ]
    },
    {
     "name": "stdout",
     "output_type": "stream",
     "text": [
      "Epoch 18, Train loss 0.5975 , Train Accuracy 0.6864, Test loss 0.6298, Test Accuracy 0.6882\n"
     ]
    },
    {
     "name": "stderr",
     "output_type": "stream",
     "text": [
      "100%|██████████| 281/281 [00:31<00:00,  8.80it/s]\n",
      "100%|██████████| 71/71 [00:01<00:00, 45.38it/s]\n",
      "  0%|          | 1/281 [00:00<00:33,  8.31it/s]"
     ]
    },
    {
     "name": "stdout",
     "output_type": "stream",
     "text": [
      "Epoch 19, Train loss 0.5950 , Train Accuracy 0.6888, Test loss 0.6068, Test Accuracy 0.7096\n"
     ]
    },
    {
     "name": "stderr",
     "output_type": "stream",
     "text": [
      "100%|██████████| 281/281 [00:32<00:00,  8.75it/s]\n",
      "100%|██████████| 71/71 [00:01<00:00, 45.70it/s]\n",
      "  0%|          | 1/281 [00:00<00:34,  8.22it/s]"
     ]
    },
    {
     "name": "stdout",
     "output_type": "stream",
     "text": [
      "Epoch 20, Train loss 0.5914 , Train Accuracy 0.6927, Test loss 0.6720, Test Accuracy 0.6757\n"
     ]
    },
    {
     "name": "stderr",
     "output_type": "stream",
     "text": [
      "100%|██████████| 281/281 [00:32<00:00,  8.77it/s]\n",
      "100%|██████████| 71/71 [00:01<00:00, 45.70it/s]\n",
      "  0%|          | 1/281 [00:00<00:34,  8.17it/s]"
     ]
    },
    {
     "name": "stdout",
     "output_type": "stream",
     "text": [
      "Epoch 21, Train loss 0.5898 , Train Accuracy 0.6931, Test loss 0.6075, Test Accuracy 0.7065\n"
     ]
    },
    {
     "name": "stderr",
     "output_type": "stream",
     "text": [
      "100%|██████████| 281/281 [00:32<00:00,  8.77it/s]\n",
      "100%|██████████| 71/71 [00:01<00:00, 44.45it/s]\n",
      "  0%|          | 1/281 [00:00<00:33,  8.33it/s]"
     ]
    },
    {
     "name": "stdout",
     "output_type": "stream",
     "text": [
      "Epoch 22, Train loss 0.5875 , Train Accuracy 0.7026, Test loss 0.5934, Test Accuracy 0.7122\n"
     ]
    },
    {
     "name": "stderr",
     "output_type": "stream",
     "text": [
      "100%|██████████| 281/281 [00:32<00:00,  8.75it/s]\n",
      "100%|██████████| 71/71 [00:01<00:00, 44.86it/s]\n",
      "  0%|          | 1/281 [00:00<00:33,  8.34it/s]"
     ]
    },
    {
     "name": "stdout",
     "output_type": "stream",
     "text": [
      "Epoch 23, Train loss 0.5799 , Train Accuracy 0.7005, Test loss 0.5935, Test Accuracy 0.7158\n"
     ]
    },
    {
     "name": "stderr",
     "output_type": "stream",
     "text": [
      "100%|██████████| 281/281 [00:32<00:00,  8.78it/s]\n",
      "100%|██████████| 71/71 [00:01<00:00, 45.33it/s]\n",
      "  0%|          | 1/281 [00:00<00:33,  8.34it/s]"
     ]
    },
    {
     "name": "stdout",
     "output_type": "stream",
     "text": [
      "Epoch 24, Train loss 0.5830 , Train Accuracy 0.7000, Test loss 0.6363, Test Accuracy 0.6967\n"
     ]
    },
    {
     "name": "stderr",
     "output_type": "stream",
     "text": [
      "100%|██████████| 281/281 [00:32<00:00,  8.77it/s]\n",
      "100%|██████████| 71/71 [00:01<00:00, 44.85it/s]\n",
      "  0%|          | 1/281 [00:00<00:34,  8.17it/s]"
     ]
    },
    {
     "name": "stdout",
     "output_type": "stream",
     "text": [
      "Epoch 25, Train loss 0.5788 , Train Accuracy 0.7033, Test loss 0.5967, Test Accuracy 0.7225\n"
     ]
    },
    {
     "name": "stderr",
     "output_type": "stream",
     "text": [
      "100%|██████████| 281/281 [00:32<00:00,  8.74it/s]\n",
      "100%|██████████| 71/71 [00:01<00:00, 44.29it/s]\n",
      "  0%|          | 1/281 [00:00<00:34,  8.06it/s]"
     ]
    },
    {
     "name": "stdout",
     "output_type": "stream",
     "text": [
      "Epoch 26, Train loss 0.5730 , Train Accuracy 0.7037, Test loss 0.6006, Test Accuracy 0.7216\n"
     ]
    },
    {
     "name": "stderr",
     "output_type": "stream",
     "text": [
      "100%|██████████| 281/281 [00:31<00:00,  8.81it/s]\n",
      "100%|██████████| 71/71 [00:01<00:00, 44.50it/s]\n",
      "  0%|          | 1/281 [00:00<00:34,  8.18it/s]"
     ]
    },
    {
     "name": "stdout",
     "output_type": "stream",
     "text": [
      "Epoch 27, Train loss 0.5755 , Train Accuracy 0.7094, Test loss 0.6031, Test Accuracy 0.7238\n"
     ]
    },
    {
     "name": "stderr",
     "output_type": "stream",
     "text": [
      "100%|██████████| 281/281 [00:31<00:00,  8.81it/s]\n",
      "100%|██████████| 71/71 [00:01<00:00, 44.90it/s]\n",
      "  0%|          | 1/281 [00:00<00:35,  7.79it/s]"
     ]
    },
    {
     "name": "stdout",
     "output_type": "stream",
     "text": [
      "Epoch 28, Train loss 0.5727 , Train Accuracy 0.7097, Test loss 0.5833, Test Accuracy 0.7269\n"
     ]
    },
    {
     "name": "stderr",
     "output_type": "stream",
     "text": [
      "100%|██████████| 281/281 [00:32<00:00,  8.77it/s]\n",
      "100%|██████████| 71/71 [00:01<00:00, 44.52it/s]\n",
      "  0%|          | 0/281 [00:00<?, ?it/s]"
     ]
    },
    {
     "name": "stdout",
     "output_type": "stream",
     "text": [
      "Epoch 29, Train loss 0.5688 , Train Accuracy 0.7124, Test loss 0.5976, Test Accuracy 0.7274\n"
     ]
    },
    {
     "name": "stderr",
     "output_type": "stream",
     "text": [
      "100%|██████████| 281/281 [00:32<00:00,  8.72it/s]\n",
      "100%|██████████| 71/71 [00:01<00:00, 44.87it/s]\n",
      "  0%|          | 1/281 [00:00<00:34,  8.19it/s]"
     ]
    },
    {
     "name": "stdout",
     "output_type": "stream",
     "text": [
      "Epoch 30, Train loss 0.5691 , Train Accuracy 0.7161, Test loss 0.5843, Test Accuracy 0.7283\n"
     ]
    },
    {
     "name": "stderr",
     "output_type": "stream",
     "text": [
      "100%|██████████| 281/281 [00:32<00:00,  8.76it/s]\n",
      "100%|██████████| 71/71 [00:01<00:00, 43.46it/s]\n",
      "  0%|          | 1/281 [00:00<00:34,  8.14it/s]"
     ]
    },
    {
     "name": "stdout",
     "output_type": "stream",
     "text": [
      "Epoch 31, Train loss 0.5683 , Train Accuracy 0.7141, Test loss 0.5882, Test Accuracy 0.7301\n"
     ]
    },
    {
     "name": "stderr",
     "output_type": "stream",
     "text": [
      "100%|██████████| 281/281 [00:32<00:00,  8.78it/s]\n",
      "100%|██████████| 71/71 [00:01<00:00, 44.29it/s]\n",
      "  0%|          | 1/281 [00:00<00:34,  8.07it/s]"
     ]
    },
    {
     "name": "stdout",
     "output_type": "stream",
     "text": [
      "Epoch 32, Train loss 0.5615 , Train Accuracy 0.7153, Test loss 0.6113, Test Accuracy 0.7167\n"
     ]
    },
    {
     "name": "stderr",
     "output_type": "stream",
     "text": [
      "100%|██████████| 281/281 [00:32<00:00,  8.78it/s]\n",
      "100%|██████████| 71/71 [00:01<00:00, 43.36it/s]\n",
      "  0%|          | 1/281 [00:00<00:34,  8.06it/s]"
     ]
    },
    {
     "name": "stdout",
     "output_type": "stream",
     "text": [
      "Epoch 33, Train loss 0.5616 , Train Accuracy 0.7136, Test loss 0.5944, Test Accuracy 0.7305\n"
     ]
    },
    {
     "name": "stderr",
     "output_type": "stream",
     "text": [
      "100%|██████████| 281/281 [00:32<00:00,  8.77it/s]\n",
      "100%|██████████| 71/71 [00:01<00:00, 45.22it/s]\n",
      "  0%|          | 1/281 [00:00<00:34,  8.06it/s]"
     ]
    },
    {
     "name": "stdout",
     "output_type": "stream",
     "text": [
      "Epoch 34, Train loss 0.5616 , Train Accuracy 0.7161, Test loss 0.5813, Test Accuracy 0.7287\n"
     ]
    },
    {
     "name": "stderr",
     "output_type": "stream",
     "text": [
      "100%|██████████| 281/281 [00:32<00:00,  8.78it/s]\n",
      "100%|██████████| 71/71 [00:01<00:00, 44.97it/s]\n",
      "  0%|          | 1/281 [00:00<00:34,  8.02it/s]"
     ]
    },
    {
     "name": "stdout",
     "output_type": "stream",
     "text": [
      "Epoch 35, Train loss 0.5570 , Train Accuracy 0.7143, Test loss 0.6067, Test Accuracy 0.7403\n"
     ]
    },
    {
     "name": "stderr",
     "output_type": "stream",
     "text": [
      "100%|██████████| 281/281 [00:32<00:00,  8.77it/s]\n",
      "100%|██████████| 71/71 [00:01<00:00, 43.40it/s]\n",
      "  0%|          | 1/281 [00:00<00:34,  8.08it/s]"
     ]
    },
    {
     "name": "stdout",
     "output_type": "stream",
     "text": [
      "Epoch 36, Train loss 0.5635 , Train Accuracy 0.7174, Test loss 0.5877, Test Accuracy 0.7318\n"
     ]
    },
    {
     "name": "stderr",
     "output_type": "stream",
     "text": [
      "100%|██████████| 281/281 [00:31<00:00,  8.79it/s]\n",
      "100%|██████████| 71/71 [00:01<00:00, 45.54it/s]\n",
      "  0%|          | 1/281 [00:00<00:33,  8.33it/s]"
     ]
    },
    {
     "name": "stdout",
     "output_type": "stream",
     "text": [
      "Epoch 37, Train loss 0.5530 , Train Accuracy 0.7241, Test loss 0.6138, Test Accuracy 0.7341\n"
     ]
    },
    {
     "name": "stderr",
     "output_type": "stream",
     "text": [
      "100%|██████████| 281/281 [00:32<00:00,  8.76it/s]\n",
      "100%|██████████| 71/71 [00:01<00:00, 45.30it/s]\n",
      "  0%|          | 1/281 [00:00<00:34,  8.22it/s]"
     ]
    },
    {
     "name": "stdout",
     "output_type": "stream",
     "text": [
      "Epoch 38, Train loss 0.5556 , Train Accuracy 0.7235, Test loss 0.6421, Test Accuracy 0.7216\n"
     ]
    },
    {
     "name": "stderr",
     "output_type": "stream",
     "text": [
      "100%|██████████| 281/281 [00:32<00:00,  8.75it/s]\n",
      "100%|██████████| 71/71 [00:01<00:00, 45.02it/s]\n",
      "  0%|          | 0/281 [00:00<?, ?it/s]"
     ]
    },
    {
     "name": "stdout",
     "output_type": "stream",
     "text": [
      "Epoch 39, Train loss 0.5509 , Train Accuracy 0.7235, Test loss 0.6274, Test Accuracy 0.7372\n"
     ]
    },
    {
     "name": "stderr",
     "output_type": "stream",
     "text": [
      "100%|██████████| 281/281 [00:32<00:00,  8.75it/s]\n",
      "100%|██████████| 71/71 [00:01<00:00, 45.26it/s]\n",
      "  0%|          | 1/281 [00:00<00:34,  8.13it/s]"
     ]
    },
    {
     "name": "stdout",
     "output_type": "stream",
     "text": [
      "Epoch 40, Train loss 0.5500 , Train Accuracy 0.7242, Test loss 0.5949, Test Accuracy 0.7403\n"
     ]
    },
    {
     "name": "stderr",
     "output_type": "stream",
     "text": [
      "100%|██████████| 281/281 [00:32<00:00,  8.73it/s]\n",
      "100%|██████████| 71/71 [00:01<00:00, 44.50it/s]\n",
      "  0%|          | 1/281 [00:00<00:33,  8.25it/s]"
     ]
    },
    {
     "name": "stdout",
     "output_type": "stream",
     "text": [
      "Epoch 41, Train loss 0.5499 , Train Accuracy 0.7229, Test loss 0.5916, Test Accuracy 0.7318\n"
     ]
    },
    {
     "name": "stderr",
     "output_type": "stream",
     "text": [
      "100%|██████████| 281/281 [00:31<00:00,  8.78it/s]\n",
      "100%|██████████| 71/71 [00:01<00:00, 43.70it/s]\n",
      "  0%|          | 1/281 [00:00<00:34,  8.22it/s]"
     ]
    },
    {
     "name": "stdout",
     "output_type": "stream",
     "text": [
      "Epoch 42, Train loss 0.5480 , Train Accuracy 0.7354, Test loss 0.5971, Test Accuracy 0.7399\n"
     ]
    },
    {
     "name": "stderr",
     "output_type": "stream",
     "text": [
      "100%|██████████| 281/281 [00:32<00:00,  8.74it/s]\n",
      "100%|██████████| 71/71 [00:01<00:00, 44.80it/s]\n",
      "  0%|          | 1/281 [00:00<00:34,  8.13it/s]"
     ]
    },
    {
     "name": "stdout",
     "output_type": "stream",
     "text": [
      "Epoch 43, Train loss 0.5476 , Train Accuracy 0.7318, Test loss 0.5945, Test Accuracy 0.7425\n"
     ]
    },
    {
     "name": "stderr",
     "output_type": "stream",
     "text": [
      "100%|██████████| 281/281 [00:32<00:00,  8.77it/s]\n",
      "100%|██████████| 71/71 [00:01<00:00, 45.09it/s]\n",
      "  0%|          | 1/281 [00:00<00:33,  8.25it/s]"
     ]
    },
    {
     "name": "stdout",
     "output_type": "stream",
     "text": [
      "Epoch 44, Train loss 0.5448 , Train Accuracy 0.7343, Test loss 0.5993, Test Accuracy 0.7434\n"
     ]
    },
    {
     "name": "stderr",
     "output_type": "stream",
     "text": [
      "100%|██████████| 281/281 [00:31<00:00,  8.81it/s]\n",
      "100%|██████████| 71/71 [00:01<00:00, 45.37it/s]\n",
      "  0%|          | 1/281 [00:00<00:34,  8.18it/s]"
     ]
    },
    {
     "name": "stdout",
     "output_type": "stream",
     "text": [
      "Epoch 45, Train loss 0.5461 , Train Accuracy 0.7278, Test loss 0.6252, Test Accuracy 0.7336\n"
     ]
    },
    {
     "name": "stderr",
     "output_type": "stream",
     "text": [
      "100%|██████████| 281/281 [00:31<00:00,  8.79it/s]\n",
      "100%|██████████| 71/71 [00:01<00:00, 44.89it/s]\n",
      "  0%|          | 1/281 [00:00<00:34,  8.19it/s]"
     ]
    },
    {
     "name": "stdout",
     "output_type": "stream",
     "text": [
      "Epoch 46, Train loss 0.5440 , Train Accuracy 0.7337, Test loss 0.5875, Test Accuracy 0.7488\n"
     ]
    },
    {
     "name": "stderr",
     "output_type": "stream",
     "text": [
      "100%|██████████| 281/281 [00:31<00:00,  8.79it/s]\n",
      "100%|██████████| 71/71 [00:01<00:00, 44.24it/s]\n",
      "  0%|          | 1/281 [00:00<00:35,  7.99it/s]"
     ]
    },
    {
     "name": "stdout",
     "output_type": "stream",
     "text": [
      "Epoch 47, Train loss 0.5401 , Train Accuracy 0.7329, Test loss 0.5844, Test Accuracy 0.7461\n"
     ]
    },
    {
     "name": "stderr",
     "output_type": "stream",
     "text": [
      "100%|██████████| 281/281 [00:32<00:00,  8.77it/s]\n",
      "100%|██████████| 71/71 [00:01<00:00, 41.89it/s]\n",
      "  0%|          | 1/281 [00:00<00:34,  8.18it/s]"
     ]
    },
    {
     "name": "stdout",
     "output_type": "stream",
     "text": [
      "Epoch 48, Train loss 0.5391 , Train Accuracy 0.7333, Test loss 0.5893, Test Accuracy 0.7430\n"
     ]
    },
    {
     "name": "stderr",
     "output_type": "stream",
     "text": [
      "100%|██████████| 281/281 [00:32<00:00,  8.76it/s]\n",
      "100%|██████████| 71/71 [00:01<00:00, 45.05it/s]\n",
      "  0%|          | 1/281 [00:00<00:34,  8.16it/s]"
     ]
    },
    {
     "name": "stdout",
     "output_type": "stream",
     "text": [
      "Epoch 49, Train loss 0.5359 , Train Accuracy 0.7386, Test loss 0.5830, Test Accuracy 0.7479\n"
     ]
    },
    {
     "name": "stderr",
     "output_type": "stream",
     "text": [
      "100%|██████████| 281/281 [00:32<00:00,  8.76it/s]\n",
      "100%|██████████| 71/71 [00:01<00:00, 43.86it/s]\n"
     ]
    },
    {
     "name": "stdout",
     "output_type": "stream",
     "text": [
      "Epoch 50, Train loss 0.5371 , Train Accuracy 0.7382, Test loss 0.5865, Test Accuracy 0.7474\n"
     ]
    },
    {
     "data": {
      "image/png": "[encoded data removed]",
      "text/plain": [
       "<Figure size 432x288 with 1 Axes>"
      ]
     },
     "metadata": {
      "needs_background": "light"
     },
     "output_type": "display_data"
    },
    {
     "data": {
      "image/png": "[encoded data removed]",
      "text/plain": [
       "<Figure size 432x288 with 1 Axes>"
      ]
     },
     "metadata": {
      "needs_background": "light"
     },
     "output_type": "display_data"
    },
    {
     "name": "stderr",
     "output_type": "stream",
     "text": [
      "  0%|          | 0/281 [00:00<?, ?it/s]"
     ]
    },
    {
     "name": "stdout",
     "output_type": "stream",
     "text": [
      "Fold = 4\n"
     ]
    },
    {
     "name": "stderr",
     "output_type": "stream",
     "text": [
      "100%|██████████| 281/281 [00:32<00:00,  8.78it/s]\n",
      "100%|██████████| 71/71 [00:01<00:00, 44.65it/s]\n",
      "  0%|          | 1/281 [00:00<00:33,  8.24it/s]"
     ]
    },
    {
     "name": "stdout",
     "output_type": "stream",
     "text": [
      "Epoch 1, Train loss 0.7007 , Train Accuracy 0.5321, Test loss 0.6494, Test Accuracy 0.6241\n"
     ]
    },
    {
     "name": "stderr",
     "output_type": "stream",
     "text": [
      "100%|██████████| 281/281 [00:31<00:00,  8.79it/s]\n",
      "100%|██████████| 71/71 [00:01<00:00, 43.83it/s]\n",
      "  0%|          | 1/281 [00:00<00:35,  7.96it/s]"
     ]
    },
    {
     "name": "stdout",
     "output_type": "stream",
     "text": [
      "Epoch 2, Train loss 0.6840 , Train Accuracy 0.5556, Test loss 0.6384, Test Accuracy 0.6388\n"
     ]
    },
    {
     "name": "stderr",
     "output_type": "stream",
     "text": [
      "100%|██████████| 281/281 [00:32<00:00,  8.77it/s]\n",
      "100%|██████████| 71/71 [00:01<00:00, 45.05it/s]\n",
      "  0%|          | 1/281 [00:00<00:33,  8.28it/s]"
     ]
    },
    {
     "name": "stdout",
     "output_type": "stream",
     "text": [
      "Epoch 3, Train loss 0.6698 , Train Accuracy 0.5850, Test loss 0.6400, Test Accuracy 0.6423\n"
     ]
    },
    {
     "name": "stderr",
     "output_type": "stream",
     "text": [
      "100%|██████████| 281/281 [00:32<00:00,  8.76it/s]\n",
      "100%|██████████| 71/71 [00:01<00:00, 43.68it/s]\n",
      "  0%|          | 1/281 [00:00<00:34,  8.22it/s]"
     ]
    },
    {
     "name": "stdout",
     "output_type": "stream",
     "text": [
      "Epoch 4, Train loss 0.6634 , Train Accuracy 0.5911, Test loss 0.6299, Test Accuracy 0.6561\n"
     ]
    },
    {
     "name": "stderr",
     "output_type": "stream",
     "text": [
      "100%|██████████| 281/281 [00:32<00:00,  8.78it/s]\n",
      "100%|██████████| 71/71 [00:01<00:00, 43.00it/s]\n",
      "  0%|          | 0/281 [00:00<?, ?it/s]"
     ]
    },
    {
     "name": "stdout",
     "output_type": "stream",
     "text": [
      "Epoch 5, Train loss 0.6568 , Train Accuracy 0.6120, Test loss 0.6279, Test Accuracy 0.6686\n"
     ]
    },
    {
     "name": "stderr",
     "output_type": "stream",
     "text": [
      "100%|██████████| 281/281 [00:32<00:00,  8.76it/s]\n",
      "100%|██████████| 71/71 [00:01<00:00, 45.49it/s]\n",
      "  0%|          | 1/281 [00:00<00:35,  7.92it/s]"
     ]
    },
    {
     "name": "stdout",
     "output_type": "stream",
     "text": [
      "Epoch 6, Train loss 0.6511 , Train Accuracy 0.6192, Test loss 0.6632, Test Accuracy 0.6423\n"
     ]
    },
    {
     "name": "stderr",
     "output_type": "stream",
     "text": [
      "100%|██████████| 281/281 [00:32<00:00,  8.74it/s]\n",
      "100%|██████████| 71/71 [00:01<00:00, 45.33it/s]\n",
      "  0%|          | 1/281 [00:00<00:34,  8.20it/s]"
     ]
    },
    {
     "name": "stdout",
     "output_type": "stream",
     "text": [
      "Epoch 7, Train loss 0.6389 , Train Accuracy 0.6338, Test loss 0.6278, Test Accuracy 0.6793\n"
     ]
    },
    {
     "name": "stderr",
     "output_type": "stream",
     "text": [
      "100%|██████████| 281/281 [00:31<00:00,  8.79it/s]\n",
      "100%|██████████| 71/71 [00:01<00:00, 45.24it/s]\n",
      "  0%|          | 1/281 [00:00<00:33,  8.25it/s]"
     ]
    },
    {
     "name": "stdout",
     "output_type": "stream",
     "text": [
      "Epoch 8, Train loss 0.6359 , Train Accuracy 0.6417, Test loss 0.6258, Test Accuracy 0.6820\n"
     ]
    },
    {
     "name": "stderr",
     "output_type": "stream",
     "text": [
      "100%|██████████| 281/281 [00:32<00:00,  8.73it/s]\n",
      "100%|██████████| 71/71 [00:01<00:00, 43.01it/s]\n",
      "  0%|          | 1/281 [00:00<00:34,  8.16it/s]"
     ]
    },
    {
     "name": "stdout",
     "output_type": "stream",
     "text": [
      "Epoch 9, Train loss 0.6317 , Train Accuracy 0.6504, Test loss 0.6233, Test Accuracy 0.6824\n"
     ]
    },
    {
     "name": "stderr",
     "output_type": "stream",
     "text": [
      "100%|██████████| 281/281 [00:32<00:00,  8.76it/s]\n",
      "100%|██████████| 71/71 [00:01<00:00, 44.07it/s]\n",
      "  0%|          | 1/281 [00:00<00:34,  8.12it/s]"
     ]
    },
    {
     "name": "stdout",
     "output_type": "stream",
     "text": [
      "Epoch 10, Train loss 0.6273 , Train Accuracy 0.6548, Test loss 0.6459, Test Accuracy 0.6748\n"
     ]
    },
    {
     "name": "stderr",
     "output_type": "stream",
     "text": [
      "100%|██████████| 281/281 [00:32<00:00,  8.75it/s]\n",
      "100%|██████████| 71/71 [00:01<00:00, 44.02it/s]\n",
      "  0%|          | 1/281 [00:00<00:33,  8.30it/s]"
     ]
    },
    {
     "name": "stdout",
     "output_type": "stream",
     "text": [
      "Epoch 11, Train loss 0.6220 , Train Accuracy 0.6591, Test loss 0.6359, Test Accuracy 0.6891\n"
     ]
    },
    {
     "name": "stderr",
     "output_type": "stream",
     "text": [
      "100%|██████████| 281/281 [00:32<00:00,  8.77it/s]\n",
      "100%|██████████| 71/71 [00:01<00:00, 44.96it/s]\n",
      "  0%|          | 1/281 [00:00<00:33,  8.27it/s]"
     ]
    },
    {
     "name": "stdout",
     "output_type": "stream",
     "text": [
      "Epoch 12, Train loss 0.6179 , Train Accuracy 0.6681, Test loss 0.6252, Test Accuracy 0.6913\n"
     ]
    },
    {
     "name": "stderr",
     "output_type": "stream",
     "text": [
      "100%|██████████| 281/281 [00:32<00:00,  8.75it/s]\n",
      "100%|██████████| 71/71 [00:01<00:00, 44.32it/s]\n",
      "  0%|          | 1/281 [00:00<00:34,  8.17it/s]"
     ]
    },
    {
     "name": "stdout",
     "output_type": "stream",
     "text": [
      "Epoch 13, Train loss 0.6175 , Train Accuracy 0.6665, Test loss 0.6298, Test Accuracy 0.6878\n"
     ]
    },
    {
     "name": "stderr",
     "output_type": "stream",
     "text": [
      "100%|██████████| 281/281 [00:32<00:00,  8.77it/s]\n",
      "100%|██████████| 71/71 [00:01<00:00, 43.38it/s]\n",
      "  0%|          | 1/281 [00:00<00:34,  8.08it/s]"
     ]
    },
    {
     "name": "stdout",
     "output_type": "stream",
     "text": [
      "Epoch 14, Train loss 0.6147 , Train Accuracy 0.6716, Test loss 0.6540, Test Accuracy 0.6873\n"
     ]
    },
    {
     "name": "stderr",
     "output_type": "stream",
     "text": [
      "100%|██████████| 281/281 [00:32<00:00,  8.76it/s]\n",
      "100%|██████████| 71/71 [00:01<00:00, 44.95it/s]\n",
      "  0%|          | 1/281 [00:00<00:34,  8.22it/s]"
     ]
    },
    {
     "name": "stdout",
     "output_type": "stream",
     "text": [
      "Epoch 15, Train loss 0.6090 , Train Accuracy 0.6767, Test loss 0.6558, Test Accuracy 0.6895\n"
     ]
    },
    {
     "name": "stderr",
     "output_type": "stream",
     "text": [
      "100%|██████████| 281/281 [00:32<00:00,  8.77it/s]\n",
      "100%|██████████| 71/71 [00:01<00:00, 45.52it/s]\n",
      "  0%|          | 0/281 [00:00<?, ?it/s]"
     ]
    },
    {
     "name": "stdout",
     "output_type": "stream",
     "text": [
      "Epoch 16, Train loss 0.6047 , Train Accuracy 0.6836, Test loss 0.6218, Test Accuracy 0.6949\n"
     ]
    },
    {
     "name": "stderr",
     "output_type": "stream",
     "text": [
      "100%|██████████| 281/281 [00:32<00:00,  8.76it/s]\n",
      "100%|██████████| 71/71 [00:01<00:00, 43.45it/s]\n",
      "  0%|          | 1/281 [00:00<00:34,  8.05it/s]"
     ]
    },
    {
     "name": "stdout",
     "output_type": "stream",
     "text": [
      "Epoch 17, Train loss 0.6021 , Train Accuracy 0.6836, Test loss 0.6498, Test Accuracy 0.6949\n"
     ]
    },
    {
     "name": "stderr",
     "output_type": "stream",
     "text": [
      " 74%|███████▍  | 208/281 [00:23<00:08,  8.69it/s]"
     ]
    }
   ],
   "source": [
    "transfer_learning()"
   ]
  },
  {
   "cell_type": "code",
   "execution_count": null,
   "metadata": {},
   "outputs": [],
   "source": [
    "train_from_sratch()"
   ]
  },
  {
   "cell_type": "markdown",
   "metadata": {},
   "source": [
    "### Example 2: compare the transfer learning results on an extrame small set of TUH Normal/Abnormal dataset."
   ]
  },
  {
   "cell_type": "code",
   "execution_count": 1,
   "metadata": {},
   "outputs": [],
   "source": [
    "# Compare the results with train from scratch "
   ]
  },
  {
   "cell_type": "code",
   "execution_count": 42,
   "metadata": {},
   "outputs": [],
   "source": [
    "# define some training settings\n",
    "batch_size = 16\n",
    "num_workers = 8\n",
    "epochs = 20\n",
    "learning_rate = 5e-5\n",
    "model_path = './saved_models/tuh_all_ckp.pt'\n",
    "train_normal_filename_path = './downstream/small_normal_train.txt'\n",
    "train_abnormal_filename_path = './downstream/small_abnormal_train.txt'\n",
    "test_normal_filename_path = './downstream/small_normal_test.txt'\n",
    "test_abnormal_filename_path = './downstream/small_abnormal_test.txt'\n",
    "layers_to_transfer = 3\n",
    "layers_to_freeze = 1\n",
    "folds = 5"
   ]
  },
  {
   "cell_type": "code",
   "execution_count": 43,
   "metadata": {},
   "outputs": [],
   "source": [
    "def transfer_learning():\n",
    "    \n",
    "    #Load Dataset\n",
    "    train_dataset = TUH_Normal_Abnormal(normal_filename=train_normal_filename_path, abnormal_filename =train_abnormal_filename_path)\n",
    "    test_dataset = TUH_Normal_Abnormal(normal_filename=test_normal_filename_path, abnormal_filename =test_abnormal_filename_path)\n",
    "    \n",
    "    train_loader = torch.utils.data.DataLoader(train_dataset, batch_size=batch_size, shuffle=True, num_workers=num_workers)\n",
    "    test_loader = torch.utils.data.DataLoader(test_dataset, batch_size=batch_size, shuffle=True, num_workers=num_workers)\n",
    "           \n",
    "    #Initial model \n",
    "    model = Supervised_TUH()\n",
    "\n",
    "    #Load pre-trained parameters\n",
    "    pretrained_dict = torch.load(model_path) \n",
    "    pretrained_param_names = list(pretrained_dict.keys())\n",
    "    model_dict = model.state_dict()\n",
    "    model_param_names = list(model_dict.keys())\n",
    "\n",
    "    # Load the first three layers' parameters\n",
    "    # Note: One layer here corresponds to 4 layers in the model, they are  ... layers\n",
    "    for i, _ in enumerate(pretrained_param_names[:layers_to_transfer * 4]):\n",
    "        model_dict[model_param_names[i]] = pretrained_dict[pretrained_param_names[i]]\n",
    "    \n",
    "    model.load_state_dict(model_dict)\n",
    "\n",
    "    #freeze the first few layers\n",
    "    for i, (name, param) in enumerate(model.named_parameters()):\n",
    "        if i < layers_to_freeze * 4 and param.requires_grad:\n",
    "            print(f'freezed {name}')\n",
    "            param.requires_grad = False\n",
    "            continue\n",
    "        print(name)\n",
    "        \n",
    "    model.to(device)\n",
    "\n",
    "    train_losses, test_losses, train_acces, test_acces = train_test_loop(train_loader, test_loader, model, n_epochs=epochs, lr=learning_rate)\n",
    "    _plot_losses(train_losses, test_losses)\n",
    "    _plot_acces(train_acces, test_acces)"
   ]
  },
  {
   "cell_type": "code",
   "execution_count": 44,
   "metadata": {},
   "outputs": [],
   "source": [
    "def train_from_scratch():\n",
    "    #Load Dataset\n",
    "    train_dataset = TUH_Normal_Abnormal(normal_filename=train_normal_filename_path, abnormal_filename =train_abnormal_filename_path)\n",
    "    test_dataset = TUH_Normal_Abnormal(normal_filename=test_normal_filename_path, abnormal_filename =test_abnormal_filename_path)\n",
    "    \n",
    "    train_loader = torch.utils.data.DataLoader(train_dataset, batch_size=batch_size, shuffle=True, num_workers=num_workers)\n",
    "    test_loader = torch.utils.data.DataLoader(test_dataset, batch_size=batch_size, shuffle=True, num_workers=num_workers)\n",
    "           \n",
    "    #Initial model \n",
    "    model = Supervised_TUH()\n",
    "    \n",
    "    model.to(device)\n",
    "\n",
    "    train_losses, test_losses, train_acces, test_acces = train_test_loop(train_loader, test_loader, model, n_epochs=epochs, lr=learning_rate)\n",
    "    _plot_losses(train_losses, test_losses)\n",
    "    _plot_acces(train_acces, test_acces)"
   ]
  },
  {
   "cell_type": "code",
   "execution_count": 51,
   "metadata": {},
   "outputs": [
    {
     "name": "stderr",
     "output_type": "stream",
     "text": [
      "100%|██████████| 5/5 [00:03<00:00,  1.45it/s]\n",
      "100%|██████████| 5/5 [00:03<00:00,  1.38it/s]\n",
      "  0%|          | 0/5 [00:00<?, ?it/s]"
     ]
    },
    {
     "name": "stdout",
     "output_type": "stream",
     "text": [
      "(1837, 1, 19, 1500)\n",
      "(1837, 1)\n"
     ]
    },
    {
     "name": "stderr",
     "output_type": "stream",
     "text": [
      "100%|██████████| 5/5 [00:03<00:00,  1.45it/s]\n",
      "100%|██████████| 5/5 [00:03<00:00,  1.51it/s]\n",
      "  0%|          | 0/115 [00:00<?, ?it/s]"
     ]
    },
    {
     "name": "stdout",
     "output_type": "stream",
     "text": [
      "(1898, 1, 19, 1500)\n",
      "(1898, 1)\n",
      "freezed feature_extractor.encoder.Encoder_0.0.weight\n",
      "freezed feature_extractor.encoder.Encoder_0.0.bias\n",
      "freezed feature_extractor.encoder.Encoder_0.2.weight\n",
      "freezed feature_extractor.encoder.Encoder_0.2.bias\n",
      "feature_extractor.encoder.Encoder_1.0.weight\n",
      "feature_extractor.encoder.Encoder_1.0.bias\n",
      "feature_extractor.encoder.Encoder_1.2.weight\n",
      "feature_extractor.encoder.Encoder_1.2.bias\n",
      "feature_extractor.encoder.Encoder_2.0.weight\n",
      "feature_extractor.encoder.Encoder_2.0.bias\n",
      "feature_extractor.encoder.Encoder_2.2.weight\n",
      "feature_extractor.encoder.Encoder_2.2.bias\n",
      "feature_extractor.encoder.Encoder_3.0.weight\n",
      "feature_extractor.encoder.Encoder_3.0.bias\n",
      "feature_extractor.encoder.Encoder_3.2.weight\n",
      "feature_extractor.encoder.Encoder_3.2.bias\n",
      "feature_extractor.encoder.Encoder_4.0.weight\n",
      "feature_extractor.encoder.Encoder_4.0.bias\n",
      "feature_extractor.encoder.Encoder_4.2.weight\n",
      "feature_extractor.encoder.Encoder_4.2.bias\n",
      "feature_extractor.encoder.Encoder_5.0.weight\n",
      "feature_extractor.encoder.Encoder_5.0.bias\n",
      "feature_extractor.encoder.Encoder_5.2.weight\n",
      "feature_extractor.encoder.Encoder_5.2.bias\n",
      "feature_extractor.linear.weight\n",
      "feature_extractor.linear.bias\n",
      "linear.weight\n",
      "linear.bias\n"
     ]
    },
    {
     "name": "stderr",
     "output_type": "stream",
     "text": [
      "100%|██████████| 115/115 [00:09<00:00, 12.43it/s]\n",
      "100%|██████████| 119/119 [00:01<00:00, 62.74it/s]\n",
      "  0%|          | 0/115 [00:00<?, ?it/s]"
     ]
    },
    {
     "name": "stdout",
     "output_type": "stream",
     "text": [
      "Epoch 1, Train loss 0.7464 , Train Accuracy 0.4976, Test loss 0.7061, Test Accuracy 0.5316\n"
     ]
    },
    {
     "name": "stderr",
     "output_type": "stream",
     "text": [
      "100%|██████████| 115/115 [00:09<00:00, 12.52it/s]\n",
      "100%|██████████| 119/119 [00:01<00:00, 61.67it/s]\n",
      "  0%|          | 0/115 [00:00<?, ?it/s]"
     ]
    },
    {
     "name": "stdout",
     "output_type": "stream",
     "text": [
      "Epoch 2, Train loss 0.7085 , Train Accuracy 0.5264, Test loss 0.7067, Test Accuracy 0.5321\n"
     ]
    },
    {
     "name": "stderr",
     "output_type": "stream",
     "text": [
      "100%|██████████| 115/115 [00:09<00:00, 12.54it/s]\n",
      "100%|██████████| 119/119 [00:01<00:00, 60.88it/s]\n",
      "  0%|          | 0/115 [00:00<?, ?it/s]"
     ]
    },
    {
     "name": "stdout",
     "output_type": "stream",
     "text": [
      "Epoch 3, Train loss 0.6914 , Train Accuracy 0.5536, Test loss 0.7419, Test Accuracy 0.5279\n"
     ]
    },
    {
     "name": "stderr",
     "output_type": "stream",
     "text": [
      "100%|██████████| 115/115 [00:09<00:00, 12.51it/s]\n",
      "100%|██████████| 119/119 [00:01<00:00, 61.56it/s]\n",
      "  0%|          | 0/115 [00:00<?, ?it/s]"
     ]
    },
    {
     "name": "stdout",
     "output_type": "stream",
     "text": [
      "Epoch 4, Train loss 0.6762 , Train Accuracy 0.5885, Test loss 0.7009, Test Accuracy 0.5601\n"
     ]
    },
    {
     "name": "stderr",
     "output_type": "stream",
     "text": [
      "100%|██████████| 115/115 [00:09<00:00, 12.54it/s]\n",
      "100%|██████████| 119/119 [00:01<00:00, 60.90it/s]\n",
      "  0%|          | 0/115 [00:00<?, ?it/s]"
     ]
    },
    {
     "name": "stdout",
     "output_type": "stream",
     "text": [
      "Epoch 5, Train loss 0.6706 , Train Accuracy 0.6004, Test loss 0.6969, Test Accuracy 0.5717\n"
     ]
    },
    {
     "name": "stderr",
     "output_type": "stream",
     "text": [
      "100%|██████████| 115/115 [00:09<00:00, 12.56it/s]\n",
      "100%|██████████| 119/119 [00:01<00:00, 63.17it/s]\n",
      "  0%|          | 0/115 [00:00<?, ?it/s]"
     ]
    },
    {
     "name": "stdout",
     "output_type": "stream",
     "text": [
      "Epoch 6, Train loss 0.6611 , Train Accuracy 0.6179, Test loss 0.7049, Test Accuracy 0.5632\n"
     ]
    },
    {
     "name": "stderr",
     "output_type": "stream",
     "text": [
      "100%|██████████| 115/115 [00:09<00:00, 12.49it/s]\n",
      "100%|██████████| 119/119 [00:01<00:00, 62.09it/s]\n",
      "  0%|          | 0/115 [00:00<?, ?it/s]"
     ]
    },
    {
     "name": "stdout",
     "output_type": "stream",
     "text": [
      "Epoch 7, Train loss 0.6507 , Train Accuracy 0.6108, Test loss 0.7791, Test Accuracy 0.5416\n"
     ]
    },
    {
     "name": "stderr",
     "output_type": "stream",
     "text": [
      "100%|██████████| 115/115 [00:09<00:00, 12.44it/s]\n",
      "100%|██████████| 119/119 [00:01<00:00, 60.41it/s]\n",
      "  0%|          | 0/115 [00:00<?, ?it/s]"
     ]
    },
    {
     "name": "stdout",
     "output_type": "stream",
     "text": [
      "Epoch 8, Train loss 0.6544 , Train Accuracy 0.6168, Test loss 0.7302, Test Accuracy 0.5743\n"
     ]
    },
    {
     "name": "stderr",
     "output_type": "stream",
     "text": [
      "100%|██████████| 115/115 [00:09<00:00, 12.60it/s]\n",
      "100%|██████████| 119/119 [00:02<00:00, 58.67it/s]\n",
      "  0%|          | 0/115 [00:00<?, ?it/s]"
     ]
    },
    {
     "name": "stdout",
     "output_type": "stream",
     "text": [
      "Epoch 9, Train loss 0.6600 , Train Accuracy 0.6124, Test loss 0.7479, Test Accuracy 0.5701\n"
     ]
    },
    {
     "name": "stderr",
     "output_type": "stream",
     "text": [
      "100%|██████████| 115/115 [00:09<00:00, 12.50it/s]\n",
      "100%|██████████| 119/119 [00:01<00:00, 61.95it/s]\n",
      "  0%|          | 0/115 [00:00<?, ?it/s]"
     ]
    },
    {
     "name": "stdout",
     "output_type": "stream",
     "text": [
      "Epoch 10, Train loss 0.6349 , Train Accuracy 0.6440, Test loss 0.7193, Test Accuracy 0.5574\n"
     ]
    },
    {
     "name": "stderr",
     "output_type": "stream",
     "text": [
      "100%|██████████| 115/115 [00:09<00:00, 12.55it/s]\n",
      "100%|██████████| 119/119 [00:01<00:00, 61.65it/s]\n",
      "  0%|          | 0/115 [00:00<?, ?it/s]"
     ]
    },
    {
     "name": "stdout",
     "output_type": "stream",
     "text": [
      "Epoch 11, Train loss 0.6330 , Train Accuracy 0.6456, Test loss 0.7366, Test Accuracy 0.5796\n"
     ]
    },
    {
     "name": "stderr",
     "output_type": "stream",
     "text": [
      "100%|██████████| 115/115 [00:09<00:00, 12.46it/s]\n",
      "100%|██████████| 119/119 [00:01<00:00, 62.52it/s]\n",
      "  0%|          | 0/115 [00:00<?, ?it/s]"
     ]
    },
    {
     "name": "stdout",
     "output_type": "stream",
     "text": [
      "Epoch 12, Train loss 0.6098 , Train Accuracy 0.6745, Test loss 0.8732, Test Accuracy 0.5495\n"
     ]
    },
    {
     "name": "stderr",
     "output_type": "stream",
     "text": [
      "100%|██████████| 115/115 [00:09<00:00, 12.38it/s]\n",
      "100%|██████████| 119/119 [00:01<00:00, 62.86it/s]\n",
      "  0%|          | 0/115 [00:00<?, ?it/s]"
     ]
    },
    {
     "name": "stdout",
     "output_type": "stream",
     "text": [
      "Epoch 13, Train loss 0.6142 , Train Accuracy 0.6603, Test loss 0.8116, Test Accuracy 0.5638\n"
     ]
    },
    {
     "name": "stderr",
     "output_type": "stream",
     "text": [
      "100%|██████████| 115/115 [00:09<00:00, 12.48it/s]\n",
      "100%|██████████| 119/119 [00:01<00:00, 61.62it/s]\n",
      "  0%|          | 0/115 [00:00<?, ?it/s]"
     ]
    },
    {
     "name": "stdout",
     "output_type": "stream",
     "text": [
      "Epoch 14, Train loss 0.6144 , Train Accuracy 0.6696, Test loss 0.8572, Test Accuracy 0.5611\n"
     ]
    },
    {
     "name": "stderr",
     "output_type": "stream",
     "text": [
      "100%|██████████| 115/115 [00:09<00:00, 12.53it/s]\n",
      "100%|██████████| 119/119 [00:01<00:00, 62.50it/s]\n",
      "  0%|          | 0/115 [00:00<?, ?it/s]"
     ]
    },
    {
     "name": "stdout",
     "output_type": "stream",
     "text": [
      "Epoch 15, Train loss 0.6021 , Train Accuracy 0.6788, Test loss 0.8267, Test Accuracy 0.5701\n"
     ]
    },
    {
     "name": "stderr",
     "output_type": "stream",
     "text": [
      "100%|██████████| 115/115 [00:09<00:00, 12.49it/s]\n",
      "100%|██████████| 119/119 [00:01<00:00, 61.84it/s]\n",
      "  0%|          | 0/115 [00:00<?, ?it/s]"
     ]
    },
    {
     "name": "stdout",
     "output_type": "stream",
     "text": [
      "Epoch 16, Train loss 0.5939 , Train Accuracy 0.6864, Test loss 0.7637, Test Accuracy 0.5817\n"
     ]
    },
    {
     "name": "stderr",
     "output_type": "stream",
     "text": [
      "100%|██████████| 115/115 [00:09<00:00, 12.58it/s]\n",
      "100%|██████████| 119/119 [00:01<00:00, 61.52it/s]\n",
      "  0%|          | 0/115 [00:00<?, ?it/s]"
     ]
    },
    {
     "name": "stdout",
     "output_type": "stream",
     "text": [
      "Epoch 17, Train loss 0.5894 , Train Accuracy 0.6962, Test loss 0.8400, Test Accuracy 0.5753\n"
     ]
    },
    {
     "name": "stderr",
     "output_type": "stream",
     "text": [
      "100%|██████████| 115/115 [00:09<00:00, 12.59it/s]\n",
      "100%|██████████| 119/119 [00:01<00:00, 62.18it/s]\n",
      "  0%|          | 0/115 [00:00<?, ?it/s]"
     ]
    },
    {
     "name": "stdout",
     "output_type": "stream",
     "text": [
      "Epoch 18, Train loss 0.5863 , Train Accuracy 0.6826, Test loss 0.7954, Test Accuracy 0.5848\n"
     ]
    },
    {
     "name": "stderr",
     "output_type": "stream",
     "text": [
      "100%|██████████| 115/115 [00:09<00:00, 12.55it/s]\n",
      "100%|██████████| 119/119 [00:01<00:00, 62.79it/s]\n",
      "  0%|          | 0/115 [00:00<?, ?it/s]"
     ]
    },
    {
     "name": "stdout",
     "output_type": "stream",
     "text": [
      "Epoch 19, Train loss 0.5868 , Train Accuracy 0.6826, Test loss 0.7907, Test Accuracy 0.5806\n"
     ]
    },
    {
     "name": "stderr",
     "output_type": "stream",
     "text": [
      "100%|██████████| 115/115 [00:09<00:00, 12.50it/s]\n",
      "100%|██████████| 119/119 [00:01<00:00, 62.31it/s]\n"
     ]
    },
    {
     "name": "stdout",
     "output_type": "stream",
     "text": [
      "Epoch 20, Train loss 0.5710 , Train Accuracy 0.7115, Test loss 1.1164, Test Accuracy 0.5369\n"
     ]
    },
    {
     "data": {
      "image/png": "[encoded data removed]",
      "text/plain": [
       "<Figure size 432x288 with 1 Axes>"
      ]
     },
     "metadata": {
      "needs_background": "light"
     },
     "output_type": "display_data"
    },
    {
     "data": {
      "image/png": "[encoded data removed]",
      "text/plain": [
       "<Figure size 432x288 with 1 Axes>"
      ]
     },
     "metadata": {
      "needs_background": "light"
     },
     "output_type": "display_data"
    }
   ],
   "source": [
    "transfer_learning()"
   ]
  },
  {
   "cell_type": "code",
   "execution_count": 48,
   "metadata": {},
   "outputs": [
    {
     "name": "stderr",
     "output_type": "stream",
     "text": [
      "100%|██████████| 5/5 [00:03<00:00,  1.43it/s]\n",
      "100%|██████████| 5/5 [00:03<00:00,  1.28it/s]\n",
      "  0%|          | 0/5 [00:00<?, ?it/s]"
     ]
    },
    {
     "name": "stdout",
     "output_type": "stream",
     "text": [
      "(1837, 1, 19, 1500)\n",
      "(1837, 1)\n"
     ]
    },
    {
     "name": "stderr",
     "output_type": "stream",
     "text": [
      "100%|██████████| 5/5 [00:03<00:00,  1.34it/s]\n",
      "100%|██████████| 5/5 [00:03<00:00,  1.41it/s]\n",
      "  0%|          | 0/115 [00:00<?, ?it/s]"
     ]
    },
    {
     "name": "stdout",
     "output_type": "stream",
     "text": [
      "(1898, 1, 19, 1500)\n",
      "(1898, 1)\n"
     ]
    },
    {
     "name": "stderr",
     "output_type": "stream",
     "text": [
      "100%|██████████| 115/115 [00:09<00:00, 12.04it/s]\n",
      "100%|██████████| 119/119 [00:01<00:00, 61.80it/s]\n",
      "  0%|          | 0/115 [00:00<?, ?it/s]"
     ]
    },
    {
     "name": "stdout",
     "output_type": "stream",
     "text": [
      "Epoch 1, Train loss 0.7209 , Train Accuracy 0.5427, Test loss 0.7133, Test Accuracy 0.5432\n"
     ]
    },
    {
     "name": "stderr",
     "output_type": "stream",
     "text": [
      "100%|██████████| 115/115 [00:09<00:00, 12.08it/s]\n",
      "100%|██████████| 119/119 [00:01<00:00, 61.00it/s]\n",
      "  0%|          | 0/115 [00:00<?, ?it/s]"
     ]
    },
    {
     "name": "stdout",
     "output_type": "stream",
     "text": [
      "Epoch 2, Train loss 0.6783 , Train Accuracy 0.5874, Test loss 0.8369, Test Accuracy 0.5095\n"
     ]
    },
    {
     "name": "stderr",
     "output_type": "stream",
     "text": [
      "100%|██████████| 115/115 [00:09<00:00, 12.06it/s]\n",
      "100%|██████████| 119/119 [00:01<00:00, 62.04it/s]\n",
      "  0%|          | 0/115 [00:00<?, ?it/s]"
     ]
    },
    {
     "name": "stdout",
     "output_type": "stream",
     "text": [
      "Epoch 3, Train loss 0.6665 , Train Accuracy 0.6200, Test loss 0.8046, Test Accuracy 0.5443\n"
     ]
    },
    {
     "name": "stderr",
     "output_type": "stream",
     "text": [
      "100%|██████████| 115/115 [00:09<00:00, 12.00it/s]\n",
      "100%|██████████| 119/119 [00:01<00:00, 62.04it/s]\n",
      "  0%|          | 0/115 [00:00<?, ?it/s]"
     ]
    },
    {
     "name": "stdout",
     "output_type": "stream",
     "text": [
      "Epoch 4, Train loss 0.6513 , Train Accuracy 0.6233, Test loss 0.8267, Test Accuracy 0.5616\n"
     ]
    },
    {
     "name": "stderr",
     "output_type": "stream",
     "text": [
      "100%|██████████| 115/115 [00:09<00:00, 12.05it/s]\n",
      "100%|██████████| 119/119 [00:01<00:00, 60.99it/s]\n",
      "  0%|          | 0/115 [00:00<?, ?it/s]"
     ]
    },
    {
     "name": "stdout",
     "output_type": "stream",
     "text": [
      "Epoch 5, Train loss 0.6572 , Train Accuracy 0.6157, Test loss 0.9300, Test Accuracy 0.4995\n"
     ]
    },
    {
     "name": "stderr",
     "output_type": "stream",
     "text": [
      "100%|██████████| 115/115 [00:09<00:00, 12.01it/s]\n",
      "100%|██████████| 119/119 [00:01<00:00, 61.82it/s]\n",
      "  0%|          | 0/115 [00:00<?, ?it/s]"
     ]
    },
    {
     "name": "stdout",
     "output_type": "stream",
     "text": [
      "Epoch 6, Train loss 0.6382 , Train Accuracy 0.6380, Test loss 0.9841, Test Accuracy 0.4905\n"
     ]
    },
    {
     "name": "stderr",
     "output_type": "stream",
     "text": [
      "100%|██████████| 115/115 [00:09<00:00, 11.97it/s]\n",
      "100%|██████████| 119/119 [00:01<00:00, 60.61it/s]\n",
      "  0%|          | 0/115 [00:00<?, ?it/s]"
     ]
    },
    {
     "name": "stdout",
     "output_type": "stream",
     "text": [
      "Epoch 7, Train loss 0.6223 , Train Accuracy 0.6407, Test loss 0.9559, Test Accuracy 0.5227\n"
     ]
    },
    {
     "name": "stderr",
     "output_type": "stream",
     "text": [
      "100%|██████████| 115/115 [00:09<00:00, 11.90it/s]\n",
      "100%|██████████| 119/119 [00:01<00:00, 61.18it/s]\n",
      "  0%|          | 0/115 [00:00<?, ?it/s]"
     ]
    },
    {
     "name": "stdout",
     "output_type": "stream",
     "text": [
      "Epoch 8, Train loss 0.6269 , Train Accuracy 0.6418, Test loss 1.0594, Test Accuracy 0.4953\n"
     ]
    },
    {
     "name": "stderr",
     "output_type": "stream",
     "text": [
      "100%|██████████| 115/115 [00:09<00:00, 11.97it/s]\n",
      "100%|██████████| 119/119 [00:01<00:00, 61.31it/s]\n",
      "  0%|          | 0/115 [00:00<?, ?it/s]"
     ]
    },
    {
     "name": "stdout",
     "output_type": "stream",
     "text": [
      "Epoch 9, Train loss 0.6293 , Train Accuracy 0.6489, Test loss 1.0143, Test Accuracy 0.5100\n"
     ]
    },
    {
     "name": "stderr",
     "output_type": "stream",
     "text": [
      "100%|██████████| 115/115 [00:09<00:00, 12.03it/s]\n",
      "100%|██████████| 119/119 [00:01<00:00, 61.55it/s]\n",
      "  0%|          | 0/115 [00:00<?, ?it/s]"
     ]
    },
    {
     "name": "stdout",
     "output_type": "stream",
     "text": [
      "Epoch 10, Train loss 0.6273 , Train Accuracy 0.6500, Test loss 1.0545, Test Accuracy 0.5126\n"
     ]
    },
    {
     "name": "stderr",
     "output_type": "stream",
     "text": [
      "100%|██████████| 115/115 [00:09<00:00, 11.92it/s]\n",
      "100%|██████████| 119/119 [00:01<00:00, 62.14it/s]\n",
      "  0%|          | 0/115 [00:00<?, ?it/s]"
     ]
    },
    {
     "name": "stdout",
     "output_type": "stream",
     "text": [
      "Epoch 11, Train loss 0.6167 , Train Accuracy 0.6549, Test loss 1.0249, Test Accuracy 0.5190\n"
     ]
    },
    {
     "name": "stderr",
     "output_type": "stream",
     "text": [
      "100%|██████████| 115/115 [00:09<00:00, 11.88it/s]\n",
      "100%|██████████| 119/119 [00:01<00:00, 61.22it/s]\n",
      "  0%|          | 0/115 [00:00<?, ?it/s]"
     ]
    },
    {
     "name": "stdout",
     "output_type": "stream",
     "text": [
      "Epoch 12, Train loss 0.6088 , Train Accuracy 0.6810, Test loss 1.0137, Test Accuracy 0.5321\n"
     ]
    },
    {
     "name": "stderr",
     "output_type": "stream",
     "text": [
      "100%|██████████| 115/115 [00:09<00:00, 11.89it/s]\n",
      "100%|██████████| 119/119 [00:01<00:00, 61.84it/s]\n",
      "  0%|          | 0/115 [00:00<?, ?it/s]"
     ]
    },
    {
     "name": "stdout",
     "output_type": "stream",
     "text": [
      "Epoch 13, Train loss 0.6140 , Train Accuracy 0.6581, Test loss 1.0191, Test Accuracy 0.5348\n"
     ]
    },
    {
     "name": "stderr",
     "output_type": "stream",
     "text": [
      "100%|██████████| 115/115 [00:09<00:00, 11.97it/s]\n",
      "100%|██████████| 119/119 [00:01<00:00, 61.28it/s]\n",
      "  0%|          | 0/115 [00:00<?, ?it/s]"
     ]
    },
    {
     "name": "stdout",
     "output_type": "stream",
     "text": [
      "Epoch 14, Train loss 0.6049 , Train Accuracy 0.6614, Test loss 1.0829, Test Accuracy 0.5148\n"
     ]
    },
    {
     "name": "stderr",
     "output_type": "stream",
     "text": [
      "100%|██████████| 115/115 [00:09<00:00, 11.98it/s]\n",
      "100%|██████████| 119/119 [00:01<00:00, 60.54it/s]\n",
      "  0%|          | 0/115 [00:00<?, ?it/s]"
     ]
    },
    {
     "name": "stdout",
     "output_type": "stream",
     "text": [
      "Epoch 15, Train loss 0.5995 , Train Accuracy 0.6832, Test loss 1.0698, Test Accuracy 0.5116\n"
     ]
    },
    {
     "name": "stderr",
     "output_type": "stream",
     "text": [
      "100%|██████████| 115/115 [00:09<00:00, 11.95it/s]\n",
      "100%|██████████| 119/119 [00:01<00:00, 62.27it/s]\n",
      "  0%|          | 0/115 [00:00<?, ?it/s]"
     ]
    },
    {
     "name": "stdout",
     "output_type": "stream",
     "text": [
      "Epoch 16, Train loss 0.6044 , Train Accuracy 0.6723, Test loss 1.0709, Test Accuracy 0.5200\n"
     ]
    },
    {
     "name": "stderr",
     "output_type": "stream",
     "text": [
      "100%|██████████| 115/115 [00:09<00:00, 11.98it/s]\n",
      "100%|██████████| 119/119 [00:01<00:00, 61.04it/s]\n",
      "  0%|          | 0/115 [00:00<?, ?it/s]"
     ]
    },
    {
     "name": "stdout",
     "output_type": "stream",
     "text": [
      "Epoch 17, Train loss 0.5899 , Train Accuracy 0.6919, Test loss 1.0711, Test Accuracy 0.5285\n"
     ]
    },
    {
     "name": "stderr",
     "output_type": "stream",
     "text": [
      "100%|██████████| 115/115 [00:09<00:00, 11.98it/s]\n",
      "100%|██████████| 119/119 [00:01<00:00, 61.47it/s]\n",
      "  0%|          | 0/115 [00:00<?, ?it/s]"
     ]
    },
    {
     "name": "stdout",
     "output_type": "stream",
     "text": [
      "Epoch 18, Train loss 0.5859 , Train Accuracy 0.6864, Test loss 1.1680, Test Accuracy 0.5068\n"
     ]
    },
    {
     "name": "stderr",
     "output_type": "stream",
     "text": [
      "100%|██████████| 115/115 [00:09<00:00, 11.87it/s]\n",
      "100%|██████████| 119/119 [00:01<00:00, 61.71it/s]\n",
      "  0%|          | 0/115 [00:00<?, ?it/s]"
     ]
    },
    {
     "name": "stdout",
     "output_type": "stream",
     "text": [
      "Epoch 19, Train loss 0.5800 , Train Accuracy 0.6903, Test loss 1.0991, Test Accuracy 0.5227\n"
     ]
    },
    {
     "name": "stderr",
     "output_type": "stream",
     "text": [
      "100%|██████████| 115/115 [00:09<00:00, 11.91it/s]\n",
      "100%|██████████| 119/119 [00:01<00:00, 62.41it/s]\n"
     ]
    },
    {
     "name": "stdout",
     "output_type": "stream",
     "text": [
      "Epoch 20, Train loss 0.5798 , Train Accuracy 0.6962, Test loss 1.2969, Test Accuracy 0.4779\n"
     ]
    },
    {
     "data": {
      "image/png": "[encoded data removed]",
      "text/plain": [
       "<Figure size 432x288 with 1 Axes>"
      ]
     },
     "metadata": {
      "needs_background": "light"
     },
     "output_type": "display_data"
    },
    {
     "data": {
      "image/png": "[encoded data removed]",
      "text/plain": [
       "<Figure size 432x288 with 1 Axes>"
      ]
     },
     "metadata": {
      "needs_background": "light"
     },
     "output_type": "display_data"
    }
   ],
   "source": [
    "train_from_scratch()"
   ]
  },
  {
   "cell_type": "markdown",
   "metadata": {},
   "source": [
    "Training from scratch on such small dataset, the model is quickly over-fitted and performs random results on the testing set. But if load the first few layers' parameters of the pre-trained feature extractor and freeze some layers' parameters, the downstream classifier can still classify the test set to some degree. \n",
    "\n",
    "Since the training set is too small and the testing results are easy to be affected by different model initialization, we do the experiments on multiple training sets and compute the average accuracy to reduce biad.  \n",
    "\n",
    "More downstram transfer learning results can be found in the folder ./example_res/tuh_tf_results \n",
    "\n",
    "We conduct transfer learning on three different small training sets, and test on one testing set. We tried different combinations of numbers of layers to transfer and different layers to freeze. The plot results can be found in the folder ./images"
   ]
  }
 ],
 "metadata": {
  "kernelspec": {
   "display_name": "PyTorch",
   "language": "python",
   "name": "pytorch"
  },
  "language_info": {
   "codemirror_mode": {
    "name": "ipython",
    "version": 3
   },
   "file_extension": ".py",
   "mimetype": "text/x-python",
   "name": "python",
   "nbconvert_exporter": "python",
   "pygments_lexer": "ipython3",
   "version": "3.8.8"
  }
 },
 "nbformat": 4,
 "nbformat_minor": 4
}
